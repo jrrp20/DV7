{
 "cells": [
  {
   "cell_type": "code",
   "execution_count": 1,
   "id": "fa2e549a-486a-4216-a218-bddbb824e764",
   "metadata": {},
   "outputs": [],
   "source": [
    "from torch_geometric.datasets import Planetoid\n",
    "\n",
    "# Import dataset from PyTorch Geometric\n",
    "dataset = Planetoid(root=\".\", name=\"Cora\")\n",
    "data = dataset[0]"
   ]
  },
  {
   "cell_type": "code",
   "execution_count": 2,
   "id": "b824af92-705c-49f2-a3b6-6329b9eba8ef",
   "metadata": {},
   "outputs": [
    {
     "name": "stdout",
     "output_type": "stream",
     "text": [
      "Dataset: Cora()\n",
      "---------------\n",
      "Number of graphs: 1\n",
      "Number of nodes: 2708\n",
      "Number of features: 1433\n",
      "Number of classes: 7\n",
      "Number of edges: 10556\n",
      "Edges are directed: False\n",
      "Graph has isolated nodes: False\n",
      "Graph has loops: False\n",
      "Average node degree: 3.90\n"
     ]
    }
   ],
   "source": [
    "print(f'Dataset: {dataset}')\n",
    "print('---------------')\n",
    "print(f'Number of graphs: {len(dataset)}')\n",
    "print(f'Number of nodes: {data.x.shape[0]}')\n",
    "print(f'Number of features: {dataset.num_features}')\n",
    "print(f'Number of classes: {dataset.num_classes}')\n",
    "\n",
    "print(f'Number of edges: {data.num_edges}')\n",
    "print(f'Edges are directed: {data.is_directed()}')\n",
    "print(f'Graph has isolated nodes: {data.has_isolated_nodes()}') # nodes not connected by edges\n",
    "print(f'Graph has loops: {data.has_self_loops()}')\n",
    "print(f'Average node degree: {data.num_edges / data.num_nodes:.2f}')"
   ]
  },
  {
   "cell_type": "code",
   "execution_count": 3,
   "id": "6f473bf5-f779-4bf4-ad8f-676df18b6646",
   "metadata": {},
   "outputs": [
    {
     "data": {
      "text/plain": [
       "1000"
      ]
     },
     "execution_count": 3,
     "metadata": {},
     "output_type": "execute_result"
    }
   ],
   "source": [
    "data.train_mask.sum().item() # train_mask denotes against which nodes to train (140 nodes)\n",
    "data.val_mask.sum().item() # val_mask denotes which nodes to use for validation, e.g., to perform early stopping (500 nodes)\n",
    "data.test_mask.sum().item() # test_mask denotes against which nodes to test (1000 nodes)."
   ]
  },
  {
   "cell_type": "code",
   "execution_count": 25,
   "id": "92483a23-4a13-44dd-8745-48dd7427dd78",
   "metadata": {},
   "outputs": [
    {
     "data": {
      "image/png": "[encoded data removed]",
      "text/plain": [
       "<Figure size 1200x500 with 1 Axes>"
      ]
     },
     "metadata": {},
     "output_type": "display_data"
    },
    {
     "name": "stdout",
     "output_type": "stream",
     "text": [
      "Counter({3.0: 26, 2.0: 25, 4.0: 22, 1.0: 20, 5.0: 15, 6.0: 11, 7.0: 4, 9.0: 4, 8.0: 3, 10.0: 3, 12.0: 2, 36.0: 1, 11.0: 1, 21.0: 1, 32.0: 1, 19.0: 1})\n"
     ]
    }
   ],
   "source": [
    "#Plot the number of nodes per node degree\n",
    "import matplotlib.pyplot as plt\n",
    "from torch_geometric.utils import degree\n",
    "from collections import Counter\n",
    "\n",
    "# Calculate the degree of each node\n",
    "degrees = degree(data.edge_index[0]).numpy()\n",
    "# Select degrees of nodes in test set\n",
    "degrees=degrees[data.train_mask.numpy()]\n",
    "\n",
    "numbers = Counter(degrees)\n",
    "\n",
    "fig, ax = plt.subplots(figsize=(12,5))\n",
    "ax.set_xlabel('Node degree')\n",
    "ax.set_ylabel('Number of nodes')\n",
    "ax.set_xlim([-1, 25])\n",
    "plt.bar(numbers.keys(), numbers.values(),width=0.2, color='black', edgecolor='black')\n",
    "plt.title('Cora Graph Training Set: Number of Nodes by Node Degree')\n",
    "plt.tight_layout()\n",
    "plt.savefig('Cora_Graph_Train_Node_Degrees.png')\n",
    "\n",
    "plt.show()\n",
    "\n",
    "print(numbers)"
   ]
  },
  {
   "cell_type": "code",
   "execution_count": 2,
   "id": "03d1f287-5eaf-4260-b1e4-b7c0ddc78288",
   "metadata": {},
   "outputs": [],
   "source": [
    "from torch_geometric.loader import DataLoader\n",
    "import torch.nn as nn\n",
    "import torch.nn.functional as F\n",
    "from torch_geometric.nn import GATv2Conv\n",
    "import torch.optim as optim\n",
    "import torch\n",
    "from sklearn.metrics import roc_auc_score\n",
    "from sklearn.metrics import recall_score\n",
    "from sklearn.metrics import f1_score\n",
    "\n",
    "import random\n",
    "random.seed(0)\n",
    "\n",
    "torch.manual_seed(0)\n",
    "\n",
    "class GAT(nn.Module):\n",
    "    def __init__(self, num_features, num_classes, hidden_channels, num_heads, heads_p_dropout,size_gat, p_dropout):\n",
    "        super(GAT, self).__init__()\n",
    "        self.convs = torch.nn.ModuleList()\n",
    "        \n",
    "        self.convs.append(GATv2Conv(num_features, hidden_channels, heads=num_heads,dropout=heads_p_dropout))\n",
    "\n",
    "        for i in range(size_gat):\n",
    "            self.convs.append(GATv2Conv(hidden_channels*num_heads, hidden_channels, heads=num_heads))\n",
    "\n",
    "        #add dropout layer\n",
    "        self.dropout = nn.Dropout(p=p_dropout)\n",
    "\n",
    "        # Output layer\n",
    "        self.convs.append(GATv2Conv(hidden_channels*num_heads, num_classes, heads=1))   # concat=False means that the \n",
    "                                                                                    # multihead attentions are averaged\n",
    "        self.act = F.leaky_relu\n",
    "        #self.act = F.elu\n",
    "        \n",
    "    # Model with leading dropout\n",
    "    # def forward(self, x, edge_index):\n",
    "    #     for conv in self.convs:\n",
    "    #         x = self.dropout(x)\n",
    "    #         x = conv(x, edge_index)\n",
    "\n",
    "    #         if conv != self.convs[-1]:\n",
    "    #             x = self.act(x)\n",
    "\n",
    "    #     return F.softmax(x, dim=1)\n",
    "\n",
    "    # Model w/o leading dropout\n",
    "    def forward(self, x, edge_index):\n",
    "        for conv in self.convs:\n",
    "            if conv == self.convs[0]:\n",
    "                x = conv(x, edge_index)\n",
    "                x = self.act(x)\n",
    "            elif conv in self.convs[1:-2]:\n",
    "                x = self.dropout(x)\n",
    "                x = conv(x, edge_index)\n",
    "                x = self.act(x)\n",
    "            else:\n",
    "                x = self.dropout(x)\n",
    "                x = conv(x, edge_index)\n",
    "\n",
    "        return F.softmax(x, dim=1)"
   ]
  },
  {
   "cell_type": "code",
   "execution_count": 3,
   "id": "b22b9334-7244-4411-a6a4-c78b9ad8f55a",
   "metadata": {},
   "outputs": [
    {
     "name": "stderr",
     "output_type": "stream",
     "text": [
      "\u001b[32m[I 2023-12-01 12:03:18,084]\u001b[0m A new study created in memory with name: no-name-3dce8947-2cb8-4705-8ff1-5d0640bd9228\u001b[0m\n",
      "C:\\Users\\ramme\\anaconda3\\lib\\site-packages\\optuna\\progress_bar.py:56: ExperimentalWarning: Progress bar is experimental (supported from v1.2.0). The interface can change in the future.\n",
      "  self._init_valid()\n"
     ]
    },
    {
     "data": {
      "application/vnd.jupyter.widget-view+json": {
       "model_id": "b2c278c994af479ba22772cd07ecb199",
       "version_major": 2,
       "version_minor": 0
      },
      "text/plain": [
       "  0%|          | 0/100 [00:00<?, ?it/s]"
      ]
     },
     "metadata": {},
     "output_type": "display_data"
    },
    {
     "name": "stderr",
     "output_type": "stream",
     "text": [
      "C:\\Users\\ramme\\anaconda3\\lib\\site-packages\\optuna\\distributions.py:535: UserWarning: Choices for a categorical distribution should be a tuple of None, bool, int, float and str for persistent storage but contains <class 'torch.optim.adamax.Adamax'> which is of type type.\n",
      "  warnings.warn(message)\n"
     ]
    },
    {
     "name": "stdout",
     "output_type": "stream",
     "text": [
      "Validation Accuracy: 79.40%\n",
      "\u001b[32m[I 2023-12-01 12:03:23,117]\u001b[0m Trial 0 finished with value: 0.794 and parameters: {'lr': 0.004502566252914796, 'hidden_channels': 32, 'hidden_layers': 0, 'p_dropout': 0.5841132205051996, 'batch_size': 140, 'epochs': 20, 'optimizer': <class 'torch.optim.adamax.Adamax'>, 'weight_decay': 0.006154776247554489, 'num_heads': 8, 'heads_p_dropout': 0.4254030482286464}. Best is trial 0 with value: 0.794.\u001b[0m\n"
     ]
    },
    {
     "name": "stderr",
     "output_type": "stream",
     "text": [
      "C:\\Users\\ramme\\anaconda3\\lib\\site-packages\\optuna\\distributions.py:535: UserWarning: Choices for a categorical distribution should be a tuple of None, bool, int, float and str for persistent storage but contains <class 'torch.optim.adamax.Adamax'> which is of type type.\n",
      "  warnings.warn(message)\n"
     ]
    },
    {
     "name": "stdout",
     "output_type": "stream",
     "text": [
      "Validation Accuracy: 72.80%\n",
      "\u001b[32m[I 2023-12-01 12:03:32,421]\u001b[0m Trial 3 finished with value: 0.728 and parameters: {'lr': 0.001230394611525046, 'hidden_channels': 64, 'hidden_layers': 0, 'p_dropout': 0.5083316326701547, 'batch_size': 140, 'epochs': 70, 'optimizer': <class 'torch.optim.adamax.Adamax'>, 'weight_decay': 0.006563041666574694, 'num_heads': 4, 'heads_p_dropout': 0.5261953115051189}. Best is trial 0 with value: 0.794.\u001b[0m\n"
     ]
    },
    {
     "name": "stderr",
     "output_type": "stream",
     "text": [
      "C:\\Users\\ramme\\anaconda3\\lib\\site-packages\\optuna\\distributions.py:535: UserWarning: Choices for a categorical distribution should be a tuple of None, bool, int, float and str for persistent storage but contains <class 'torch.optim.adamax.Adamax'> which is of type type.\n",
      "  warnings.warn(message)\n"
     ]
    },
    {
     "name": "stdout",
     "output_type": "stream",
     "text": [
      "Validation Accuracy: 78.20%\n",
      "\u001b[32m[I 2023-12-01 12:03:35,802]\u001b[0m Trial 2 finished with value: 0.782 and parameters: {'lr': 0.0016117431989144924, 'hidden_channels': 16, 'hidden_layers': 0, 'p_dropout': 0.4588459453216196, 'batch_size': 140, 'epochs': 70, 'optimizer': <class 'torch.optim.adamax.Adamax'>, 'weight_decay': 0.0064249733726712745, 'num_heads': 16, 'heads_p_dropout': 0.4598957078446265}. Best is trial 0 with value: 0.794.\u001b[0m\n"
     ]
    },
    {
     "name": "stderr",
     "output_type": "stream",
     "text": [
      "C:\\Users\\ramme\\anaconda3\\lib\\site-packages\\optuna\\distributions.py:535: UserWarning: Choices for a categorical distribution should be a tuple of None, bool, int, float and str for persistent storage but contains <class 'torch.optim.adamax.Adamax'> which is of type type.\n",
      "  warnings.warn(message)\n"
     ]
    },
    {
     "name": "stdout",
     "output_type": "stream",
     "text": [
      "Validation Accuracy: 15.80%\n",
      "\u001b[32m[I 2023-12-01 12:03:41,533]\u001b[0m Trial 5 finished with value: 0.158 and parameters: {'lr': 8.140761198755991e-05, 'hidden_channels': 16, 'hidden_layers': 2, 'p_dropout': 0.6817617512795137, 'batch_size': 140, 'epochs': 60, 'optimizer': <class 'torch.optim.adamax.Adamax'>, 'weight_decay': 0.0086742580222292, 'num_heads': 4, 'heads_p_dropout': 0.3074780862463606}. Best is trial 0 with value: 0.794.\u001b[0m\n"
     ]
    },
    {
     "name": "stderr",
     "output_type": "stream",
     "text": [
      "C:\\Users\\ramme\\anaconda3\\lib\\site-packages\\optuna\\distributions.py:535: UserWarning: Choices for a categorical distribution should be a tuple of None, bool, int, float and str for persistent storage but contains <class 'torch.optim.adamax.Adamax'> which is of type type.\n",
      "  warnings.warn(message)\n"
     ]
    },
    {
     "name": "stdout",
     "output_type": "stream",
     "text": [
      "Validation Accuracy: 74.20%\n",
      "\u001b[32m[I 2023-12-01 12:03:55,368]\u001b[0m Trial 6 finished with value: 0.742 and parameters: {'lr': 0.009016260370527088, 'hidden_channels': 64, 'hidden_layers': 1, 'p_dropout': 0.6160422745522731, 'batch_size': 140, 'epochs': 40, 'optimizer': <class 'torch.optim.adamax.Adamax'>, 'weight_decay': 0.0003507133833767252, 'num_heads': 8, 'heads_p_dropout': 0.23895600707050577}. Best is trial 0 with value: 0.794.\u001b[0m\n"
     ]
    },
    {
     "name": "stderr",
     "output_type": "stream",
     "text": [
      "C:\\Users\\ramme\\anaconda3\\lib\\site-packages\\optuna\\distributions.py:535: UserWarning: Choices for a categorical distribution should be a tuple of None, bool, int, float and str for persistent storage but contains <class 'torch.optim.adamax.Adamax'> which is of type type.\n",
      "  warnings.warn(message)\n"
     ]
    },
    {
     "name": "stdout",
     "output_type": "stream",
     "text": [
      "Validation Accuracy: 41.40%\n",
      "\u001b[32m[I 2023-12-01 12:04:02,313]\u001b[0m Trial 1 finished with value: 0.414 and parameters: {'lr': 0.0003005153197293373, 'hidden_channels': 8, 'hidden_layers': 2, 'p_dropout': 0.617107509616511, 'batch_size': 140, 'epochs': 120, 'optimizer': <class 'torch.optim.adamax.Adamax'>, 'weight_decay': 0.0017418226723899949, 'num_heads': 4, 'heads_p_dropout': 0.4507596419240252}. Best is trial 0 with value: 0.794.\u001b[0m\n"
     ]
    },
    {
     "name": "stderr",
     "output_type": "stream",
     "text": [
      "C:\\Users\\ramme\\anaconda3\\lib\\site-packages\\optuna\\distributions.py:535: UserWarning: Choices for a categorical distribution should be a tuple of None, bool, int, float and str for persistent storage but contains <class 'torch.optim.adamax.Adamax'> which is of type type.\n",
      "  warnings.warn(message)\n"
     ]
    },
    {
     "name": "stdout",
     "output_type": "stream",
     "text": [
      "Validation Accuracy: 28.00%\n",
      "\u001b[32m[I 2023-12-01 12:04:04,333]\u001b[0m Trial 7 finished with value: 0.28 and parameters: {'lr': 6.730527256101994e-05, 'hidden_channels': 32, 'hidden_layers': 0, 'p_dropout': 0.6153320970945599, 'batch_size': 140, 'epochs': 90, 'optimizer': <class 'torch.optim.adamax.Adamax'>, 'weight_decay': 0.008568563049317253, 'num_heads': 8, 'heads_p_dropout': 0.30156340209690624}. Best is trial 0 with value: 0.794.\u001b[0m\n"
     ]
    },
    {
     "name": "stderr",
     "output_type": "stream",
     "text": [
      "C:\\Users\\ramme\\anaconda3\\lib\\site-packages\\optuna\\distributions.py:535: UserWarning: Choices for a categorical distribution should be a tuple of None, bool, int, float and str for persistent storage but contains <class 'torch.optim.adamax.Adamax'> which is of type type.\n",
      "  warnings.warn(message)\n"
     ]
    },
    {
     "name": "stdout",
     "output_type": "stream",
     "text": [
      "Validation Accuracy: 39.40%\n",
      "\u001b[32m[I 2023-12-01 12:04:10,732]\u001b[0m Trial 8 finished with value: 0.394 and parameters: {'lr': 0.00030673243121785373, 'hidden_channels': 128, 'hidden_layers': 2, 'p_dropout': 0.6731994579889855, 'batch_size': 140, 'epochs': 20, 'optimizer': <class 'torch.optim.adamax.Adamax'>, 'weight_decay': 0.0037002252220218208, 'num_heads': 8, 'heads_p_dropout': 0.2680480293679655}. Best is trial 0 with value: 0.794.\u001b[0m\n"
     ]
    },
    {
     "name": "stderr",
     "output_type": "stream",
     "text": [
      "C:\\Users\\ramme\\anaconda3\\lib\\site-packages\\optuna\\distributions.py:535: UserWarning: Choices for a categorical distribution should be a tuple of None, bool, int, float and str for persistent storage but contains <class 'torch.optim.adamax.Adamax'> which is of type type.\n",
      "  warnings.warn(message)\n"
     ]
    },
    {
     "name": "stdout",
     "output_type": "stream",
     "text": [
      "Validation Accuracy: 75.20%\n",
      "\u001b[32m[I 2023-12-01 12:04:11,308]\u001b[0m Trial 4 finished with value: 0.752 and parameters: {'lr': 0.0016243590974230632, 'hidden_channels': 32, 'hidden_layers': 1, 'p_dropout': 0.632223404515701, 'batch_size': 140, 'epochs': 120, 'optimizer': <class 'torch.optim.adamax.Adamax'>, 'weight_decay': 0.007097607053147957, 'num_heads': 8, 'heads_p_dropout': 0.38871791000578904}. Best is trial 0 with value: 0.794.\u001b[0m\n"
     ]
    },
    {
     "name": "stderr",
     "output_type": "stream",
     "text": [
      "C:\\Users\\ramme\\anaconda3\\lib\\site-packages\\optuna\\distributions.py:535: UserWarning: Choices for a categorical distribution should be a tuple of None, bool, int, float and str for persistent storage but contains <class 'torch.optim.adamax.Adamax'> which is of type type.\n",
      "  warnings.warn(message)\n"
     ]
    },
    {
     "name": "stdout",
     "output_type": "stream",
     "text": [
      "Validation Accuracy: 17.00%\n",
      "\u001b[32m[I 2023-12-01 12:04:12,893]\u001b[0m Trial 11 finished with value: 0.17 and parameters: {'lr': 0.00017627095651619773, 'hidden_channels': 8, 'hidden_layers': 1, 'p_dropout': 0.43082890235628357, 'batch_size': 140, 'epochs': 30, 'optimizer': <class 'torch.optim.adamax.Adamax'>, 'weight_decay': 0.003418017852835346, 'num_heads': 4, 'heads_p_dropout': 0.10351152063149681}. Best is trial 0 with value: 0.794.\u001b[0m\n"
     ]
    },
    {
     "name": "stderr",
     "output_type": "stream",
     "text": [
      "C:\\Users\\ramme\\anaconda3\\lib\\site-packages\\optuna\\distributions.py:535: UserWarning: Choices for a categorical distribution should be a tuple of None, bool, int, float and str for persistent storage but contains <class 'torch.optim.adamax.Adamax'> which is of type type.\n",
      "  warnings.warn(message)\n"
     ]
    },
    {
     "name": "stdout",
     "output_type": "stream",
     "text": [
      "Validation Accuracy: 32.40%\n",
      "\u001b[32m[I 2023-12-01 12:04:14,724]\u001b[0m Trial 9 finished with value: 0.324 and parameters: {'lr': 3.3819200588071776e-05, 'hidden_channels': 32, 'hidden_layers': 0, 'p_dropout': 0.5174568909548178, 'batch_size': 140, 'epochs': 90, 'optimizer': <class 'torch.optim.adamax.Adamax'>, 'weight_decay': 0.005051808980952882, 'num_heads': 4, 'heads_p_dropout': 0.5946272781432118}. Best is trial 0 with value: 0.794.\u001b[0m\n"
     ]
    },
    {
     "name": "stderr",
     "output_type": "stream",
     "text": [
      "C:\\Users\\ramme\\anaconda3\\lib\\site-packages\\optuna\\distributions.py:535: UserWarning: Choices for a categorical distribution should be a tuple of None, bool, int, float and str for persistent storage but contains <class 'torch.optim.adamax.Adamax'> which is of type type.\n",
      "  warnings.warn(message)\n"
     ]
    },
    {
     "name": "stdout",
     "output_type": "stream",
     "text": [
      "Validation Accuracy: 30.20%\n",
      "\u001b[32m[I 2023-12-01 12:04:28,196]\u001b[0m Trial 10 finished with value: 0.302 and parameters: {'lr': 4.2647881104596375e-05, 'hidden_channels': 16, 'hidden_layers': 0, 'p_dropout': 0.44312048681820315, 'batch_size': 140, 'epochs': 90, 'optimizer': <class 'torch.optim.adamax.Adamax'>, 'weight_decay': 0.001645119789529942, 'num_heads': 8, 'heads_p_dropout': 0.45319492278474893}. Best is trial 0 with value: 0.794.\u001b[0m\n"
     ]
    },
    {
     "name": "stderr",
     "output_type": "stream",
     "text": [
      "C:\\Users\\ramme\\anaconda3\\lib\\site-packages\\optuna\\distributions.py:535: UserWarning: Choices for a categorical distribution should be a tuple of None, bool, int, float and str for persistent storage but contains <class 'torch.optim.adamax.Adamax'> which is of type type.\n",
      "  warnings.warn(message)\n"
     ]
    },
    {
     "name": "stdout",
     "output_type": "stream",
     "text": [
      "Validation Accuracy: 74.40%\n",
      "\u001b[32m[I 2023-12-01 12:05:22,894]\u001b[0m Trial 12 finished with value: 0.744 and parameters: {'lr': 0.005158482733605014, 'hidden_channels': 128, 'hidden_layers': 0, 'p_dropout': 0.6066555398823607, 'batch_size': 140, 'epochs': 80, 'optimizer': <class 'torch.optim.adamax.Adamax'>, 'weight_decay': 0.0060276908356067405, 'num_heads': 8, 'heads_p_dropout': 0.12020223494258378}. Best is trial 0 with value: 0.794.\u001b[0m\n"
     ]
    },
    {
     "name": "stderr",
     "output_type": "stream",
     "text": [
      "C:\\Users\\ramme\\anaconda3\\lib\\site-packages\\optuna\\distributions.py:535: UserWarning: Choices for a categorical distribution should be a tuple of None, bool, int, float and str for persistent storage but contains <class 'torch.optim.adamax.Adamax'> which is of type type.\n",
      "  warnings.warn(message)\n"
     ]
    },
    {
     "name": "stdout",
     "output_type": "stream",
     "text": [
      "Validation Accuracy: 78.00%\n",
      "\u001b[32m[I 2023-12-01 12:05:24,338]\u001b[0m Trial 15 finished with value: 0.78 and parameters: {'lr': 0.0043657927677245275, 'hidden_channels': 16, 'hidden_layers': 0, 'p_dropout': 0.43167451238864685, 'batch_size': 140, 'epochs': 80, 'optimizer': <class 'torch.optim.adamax.Adamax'>, 'weight_decay': 0.00985399181089579, 'num_heads': 16, 'heads_p_dropout': 0.6349777307903997}. Best is trial 0 with value: 0.794.\u001b[0m\n"
     ]
    },
    {
     "name": "stderr",
     "output_type": "stream",
     "text": [
      "C:\\Users\\ramme\\anaconda3\\lib\\site-packages\\optuna\\distributions.py:535: UserWarning: Choices for a categorical distribution should be a tuple of None, bool, int, float and str for persistent storage but contains <class 'torch.optim.adamax.Adamax'> which is of type type.\n",
      "  warnings.warn(message)\n"
     ]
    },
    {
     "name": "stdout",
     "output_type": "stream",
     "text": [
      "Validation Accuracy: 60.20%\n",
      "\u001b[32m[I 2023-12-01 12:06:38,994]\u001b[0m Trial 18 finished with value: 0.602 and parameters: {'lr': 0.0011558071434970378, 'hidden_channels': 256, 'hidden_layers': 0, 'p_dropout': 0.5495600777603367, 'batch_size': 140, 'epochs': 20, 'optimizer': <class 'torch.optim.adamax.Adamax'>, 'weight_decay': 0.005385266102386712, 'num_heads': 16, 'heads_p_dropout': 0.6889568457166292}. Best is trial 0 with value: 0.794.\u001b[0m\n"
     ]
    },
    {
     "name": "stderr",
     "output_type": "stream",
     "text": [
      "C:\\Users\\ramme\\anaconda3\\lib\\site-packages\\optuna\\distributions.py:535: UserWarning: Choices for a categorical distribution should be a tuple of None, bool, int, float and str for persistent storage but contains <class 'torch.optim.adamax.Adamax'> which is of type type.\n",
      "  warnings.warn(message)\n"
     ]
    },
    {
     "name": "stdout",
     "output_type": "stream",
     "text": [
      "Validation Accuracy: 23.80%\n",
      "\u001b[32m[I 2023-12-01 12:06:46,681]\u001b[0m Trial 13 finished with value: 0.238 and parameters: {'lr': 3.4893035844948245e-05, 'hidden_channels': 16, 'hidden_layers': 2, 'p_dropout': 0.6576603042181213, 'batch_size': 140, 'epochs': 90, 'optimizer': <class 'torch.optim.adamax.Adamax'>, 'weight_decay': 0.00901862879795728, 'num_heads': 4, 'heads_p_dropout': 0.3660301072654908}. Best is trial 0 with value: 0.794.\u001b[0m\n"
     ]
    },
    {
     "name": "stderr",
     "output_type": "stream",
     "text": [
      "C:\\Users\\ramme\\anaconda3\\lib\\site-packages\\optuna\\distributions.py:535: UserWarning: Choices for a categorical distribution should be a tuple of None, bool, int, float and str for persistent storage but contains <class 'torch.optim.adamax.Adamax'> which is of type type.\n",
      "  warnings.warn(message)\n"
     ]
    },
    {
     "name": "stdout",
     "output_type": "stream",
     "text": [
      "Validation Accuracy: 77.80%\n",
      "\u001b[32m[I 2023-12-01 12:06:57,557]\u001b[0m Trial 16 finished with value: 0.778 and parameters: {'lr': 0.003525065100500933, 'hidden_channels': 256, 'hidden_layers': 0, 'p_dropout': 0.5564871185388786, 'batch_size': 140, 'epochs': 50, 'optimizer': <class 'torch.optim.adamax.Adamax'>, 'weight_decay': 0.006509650125604434, 'num_heads': 16, 'heads_p_dropout': 0.6731345280762997}. Best is trial 0 with value: 0.794.\u001b[0m\n"
     ]
    },
    {
     "name": "stderr",
     "output_type": "stream",
     "text": [
      "C:\\Users\\ramme\\anaconda3\\lib\\site-packages\\optuna\\distributions.py:535: UserWarning: Choices for a categorical distribution should be a tuple of None, bool, int, float and str for persistent storage but contains <class 'torch.optim.adamax.Adamax'> which is of type type.\n",
      "  warnings.warn(message)\n"
     ]
    },
    {
     "name": "stdout",
     "output_type": "stream",
     "text": [
      "Validation Accuracy: 76.80%\n",
      "\u001b[32m[I 2023-12-01 12:09:23,211]\u001b[0m Trial 17 finished with value: 0.768 and parameters: {'lr': 0.001689761837022511, 'hidden_channels': 256, 'hidden_layers': 0, 'p_dropout': 0.5454757138805374, 'batch_size': 140, 'epochs': 70, 'optimizer': <class 'torch.optim.adamax.Adamax'>, 'weight_decay': 0.009637957561203964, 'num_heads': 16, 'heads_p_dropout': 0.61595060727181}. Best is trial 0 with value: 0.794.\u001b[0m\n"
     ]
    },
    {
     "name": "stderr",
     "output_type": "stream",
     "text": [
      "C:\\Users\\ramme\\anaconda3\\lib\\site-packages\\optuna\\distributions.py:535: UserWarning: Choices for a categorical distribution should be a tuple of None, bool, int, float and str for persistent storage but contains <class 'torch.optim.adamax.Adamax'> which is of type type.\n",
      "  warnings.warn(message)\n"
     ]
    },
    {
     "name": "stdout",
     "output_type": "stream",
     "text": [
      "Validation Accuracy: 27.40%\n",
      "\u001b[32m[I 2023-12-01 12:09:52,504]\u001b[0m Trial 21 finished with value: 0.274 and parameters: {'lr': 1.350401987300251e-05, 'hidden_channels': 32, 'hidden_layers': 0, 'p_dropout': 0.40994135470091475, 'batch_size': 140, 'epochs': 100, 'optimizer': <class 'torch.optim.adamax.Adamax'>, 'weight_decay': 0.007385549279174438, 'num_heads': 16, 'heads_p_dropout': 0.5396356771720484}. Best is trial 0 with value: 0.794.\u001b[0m\n"
     ]
    },
    {
     "name": "stderr",
     "output_type": "stream",
     "text": [
      "C:\\Users\\ramme\\anaconda3\\lib\\site-packages\\optuna\\distributions.py:535: UserWarning: Choices for a categorical distribution should be a tuple of None, bool, int, float and str for persistent storage but contains <class 'torch.optim.adamax.Adamax'> which is of type type.\n",
      "  warnings.warn(message)\n"
     ]
    },
    {
     "name": "stdout",
     "output_type": "stream",
     "text": [
      "Validation Accuracy: 35.00%\n",
      "\u001b[32m[I 2023-12-01 12:10:04,997]\u001b[0m Trial 14 finished with value: 0.35 and parameters: {'lr': 1.7747186185598197e-05, 'hidden_channels': 256, 'hidden_layers': 0, 'p_dropout': 0.5470786011843539, 'batch_size': 140, 'epochs': 110, 'optimizer': <class 'torch.optim.adamax.Adamax'>, 'weight_decay': 0.00993660818325022, 'num_heads': 16, 'heads_p_dropout': 0.6938957713456421}. Best is trial 0 with value: 0.794.\u001b[0m\n"
     ]
    },
    {
     "name": "stderr",
     "output_type": "stream",
     "text": [
      "C:\\Users\\ramme\\anaconda3\\lib\\site-packages\\optuna\\distributions.py:535: UserWarning: Choices for a categorical distribution should be a tuple of None, bool, int, float and str for persistent storage but contains <class 'torch.optim.adamax.Adamax'> which is of type type.\n",
      "  warnings.warn(message)\n"
     ]
    },
    {
     "name": "stdout",
     "output_type": "stream",
     "text": [
      "Validation Accuracy: 58.40%\n",
      "\u001b[32m[I 2023-12-01 12:10:21,297]\u001b[0m Trial 24 finished with value: 0.584 and parameters: {'lr': 0.0006035228857454043, 'hidden_channels': 32, 'hidden_layers': 1, 'p_dropout': 0.47477911872558193, 'batch_size': 140, 'epochs': 10, 'optimizer': <class 'torch.optim.adamax.Adamax'>, 'weight_decay': 0.00765612822047829, 'num_heads': 16, 'heads_p_dropout': 0.4614832721000455}. Best is trial 0 with value: 0.794.\u001b[0m\n"
     ]
    },
    {
     "name": "stderr",
     "output_type": "stream",
     "text": [
      "C:\\Users\\ramme\\anaconda3\\lib\\site-packages\\optuna\\distributions.py:535: UserWarning: Choices for a categorical distribution should be a tuple of None, bool, int, float and str for persistent storage but contains <class 'torch.optim.adamax.Adamax'> which is of type type.\n",
      "  warnings.warn(message)\n"
     ]
    },
    {
     "name": "stdout",
     "output_type": "stream",
     "text": [
      "Validation Accuracy: 76.00%\n",
      "\u001b[32m[I 2023-12-01 12:10:32,661]\u001b[0m Trial 20 finished with value: 0.76 and parameters: {'lr': 0.002111670305860345, 'hidden_channels': 256, 'hidden_layers': 0, 'p_dropout': 0.4633994421237496, 'batch_size': 140, 'epochs': 70, 'optimizer': <class 'torch.optim.adamax.Adamax'>, 'weight_decay': 0.0076299809589949405, 'num_heads': 16, 'heads_p_dropout': 0.5080503972198218}. Best is trial 0 with value: 0.794.\u001b[0m\n"
     ]
    },
    {
     "name": "stderr",
     "output_type": "stream",
     "text": [
      "C:\\Users\\ramme\\anaconda3\\lib\\site-packages\\optuna\\distributions.py:535: UserWarning: Choices for a categorical distribution should be a tuple of None, bool, int, float and str for persistent storage but contains <class 'torch.optim.adamax.Adamax'> which is of type type.\n",
      "  warnings.warn(message)\n"
     ]
    },
    {
     "name": "stdout",
     "output_type": "stream",
     "text": [
      "Validation Accuracy: 23.60%\n",
      "\u001b[32m[I 2023-12-01 12:10:33,616]\u001b[0m Trial 19 finished with value: 0.236 and parameters: {'lr': 1.3675113964153546e-05, 'hidden_channels': 256, 'hidden_layers': 0, 'p_dropout': 0.4004154307023642, 'batch_size': 140, 'epochs': 70, 'optimizer': <class 'torch.optim.adamax.Adamax'>, 'weight_decay': 0.007385008839988917, 'num_heads': 16, 'heads_p_dropout': 0.5048475783537292}. Best is trial 0 with value: 0.794.\u001b[0m\n"
     ]
    },
    {
     "name": "stderr",
     "output_type": "stream",
     "text": [
      "C:\\Users\\ramme\\anaconda3\\lib\\site-packages\\optuna\\distributions.py:535: UserWarning: Choices for a categorical distribution should be a tuple of None, bool, int, float and str for persistent storage but contains <class 'torch.optim.adamax.Adamax'> which is of type type.\n",
      "  warnings.warn(message)\n"
     ]
    },
    {
     "name": "stdout",
     "output_type": "stream",
     "text": [
      "Validation Accuracy: 17.60%\n",
      "\u001b[32m[I 2023-12-01 12:10:47,386]\u001b[0m Trial 22 finished with value: 0.176 and parameters: {'lr': 1.0367326560892603e-05, 'hidden_channels': 32, 'hidden_layers': 0, 'p_dropout': 0.40594830619669475, 'batch_size': 140, 'epochs': 100, 'optimizer': <class 'torch.optim.adamax.Adamax'>, 'weight_decay': 0.007546276141344381, 'num_heads': 16, 'heads_p_dropout': 0.505438502606996}. Best is trial 0 with value: 0.794.\u001b[0m\n"
     ]
    },
    {
     "name": "stderr",
     "output_type": "stream",
     "text": [
      "C:\\Users\\ramme\\anaconda3\\lib\\site-packages\\optuna\\distributions.py:535: UserWarning: Choices for a categorical distribution should be a tuple of None, bool, int, float and str for persistent storage but contains <class 'torch.optim.adamax.Adamax'> which is of type type.\n",
      "  warnings.warn(message)\n"
     ]
    },
    {
     "name": "stdout",
     "output_type": "stream",
     "text": [
      "Validation Accuracy: 77.20%\n",
      "\u001b[32m[I 2023-12-01 12:10:51,398]\u001b[0m Trial 25 finished with value: 0.772 and parameters: {'lr': 0.0031801571685081023, 'hidden_channels': 16, 'hidden_layers': 0, 'p_dropout': 0.40036083024951985, 'batch_size': 140, 'epochs': 80, 'optimizer': <class 'torch.optim.adamax.Adamax'>, 'weight_decay': 0.007901688294843789, 'num_heads': 16, 'heads_p_dropout': 0.5187299416547761}. Best is trial 0 with value: 0.794.\u001b[0m\n"
     ]
    },
    {
     "name": "stderr",
     "output_type": "stream",
     "text": [
      "C:\\Users\\ramme\\anaconda3\\lib\\site-packages\\optuna\\distributions.py:535: UserWarning: Choices for a categorical distribution should be a tuple of None, bool, int, float and str for persistent storage but contains <class 'torch.optim.adamax.Adamax'> which is of type type.\n",
      "  warnings.warn(message)\n"
     ]
    },
    {
     "name": "stdout",
     "output_type": "stream",
     "text": [
      "Validation Accuracy: 76.40%\n",
      "\u001b[32m[I 2023-12-01 12:10:55,362]\u001b[0m Trial 26 finished with value: 0.764 and parameters: {'lr': 0.009851490708156333, 'hidden_channels': 16, 'hidden_layers': 0, 'p_dropout': 0.4246304226157048, 'batch_size': 140, 'epochs': 80, 'optimizer': <class 'torch.optim.adamax.Adamax'>, 'weight_decay': 0.008067002995114314, 'num_heads': 16, 'heads_p_dropout': 0.5878245540010132}. Best is trial 0 with value: 0.794.\u001b[0m\n"
     ]
    },
    {
     "name": "stderr",
     "output_type": "stream",
     "text": [
      "C:\\Users\\ramme\\anaconda3\\lib\\site-packages\\optuna\\distributions.py:535: UserWarning: Choices for a categorical distribution should be a tuple of None, bool, int, float and str for persistent storage but contains <class 'torch.optim.adamax.Adamax'> which is of type type.\n",
      "  warnings.warn(message)\n"
     ]
    },
    {
     "name": "stdout",
     "output_type": "stream",
     "text": [
      "Validation Accuracy: 76.40%\n",
      "\u001b[32m[I 2023-12-01 12:10:56,029]\u001b[0m Trial 27 finished with value: 0.764 and parameters: {'lr': 0.004149715871320537, 'hidden_channels': 16, 'hidden_layers': 0, 'p_dropout': 0.47267216421164143, 'batch_size': 140, 'epochs': 80, 'optimizer': <class 'torch.optim.adamax.Adamax'>, 'weight_decay': 0.005720632539225887, 'num_heads': 16, 'heads_p_dropout': 0.5822875759021878}. Best is trial 0 with value: 0.794.\u001b[0m\n"
     ]
    },
    {
     "name": "stderr",
     "output_type": "stream",
     "text": [
      "C:\\Users\\ramme\\anaconda3\\lib\\site-packages\\optuna\\distributions.py:535: UserWarning: Choices for a categorical distribution should be a tuple of None, bool, int, float and str for persistent storage but contains <class 'torch.optim.adamax.Adamax'> which is of type type.\n",
      "  warnings.warn(message)\n"
     ]
    },
    {
     "name": "stdout",
     "output_type": "stream",
     "text": [
      "Validation Accuracy: 63.80%\n",
      "\u001b[32m[I 2023-12-01 12:10:58,824]\u001b[0m Trial 30 finished with value: 0.638 and parameters: {'lr': 0.004663005039791747, 'hidden_channels': 16, 'hidden_layers': 0, 'p_dropout': 0.4547852335540218, 'batch_size': 140, 'epochs': 20, 'optimizer': <class 'torch.optim.adamax.Adamax'>, 'weight_decay': 0.009241655542794807, 'num_heads': 8, 'heads_p_dropout': 0.4252755753348664}. Best is trial 0 with value: 0.794.\u001b[0m\n"
     ]
    },
    {
     "name": "stderr",
     "output_type": "stream",
     "text": [
      "C:\\Users\\ramme\\anaconda3\\lib\\site-packages\\optuna\\distributions.py:535: UserWarning: Choices for a categorical distribution should be a tuple of None, bool, int, float and str for persistent storage but contains <class 'torch.optim.adamax.Adamax'> which is of type type.\n",
      "  warnings.warn(message)\n"
     ]
    },
    {
     "name": "stdout",
     "output_type": "stream",
     "text": [
      "Validation Accuracy: 20.60%\n",
      "\u001b[32m[I 2023-12-01 12:11:01,610]\u001b[0m Trial 32 finished with value: 0.206 and parameters: {'lr': 0.0008175210404200101, 'hidden_channels': 16, 'hidden_layers': 1, 'p_dropout': 0.49068238142544235, 'batch_size': 140, 'epochs': 10, 'optimizer': <class 'torch.optim.adamax.Adamax'>, 'weight_decay': 0.0046849061071254005, 'num_heads': 8, 'heads_p_dropout': 0.6509156227089881}. Best is trial 0 with value: 0.794.\u001b[0m\n"
     ]
    },
    {
     "name": "stderr",
     "output_type": "stream",
     "text": [
      "C:\\Users\\ramme\\anaconda3\\lib\\site-packages\\optuna\\distributions.py:535: UserWarning: Choices for a categorical distribution should be a tuple of None, bool, int, float and str for persistent storage but contains <class 'torch.optim.adamax.Adamax'> which is of type type.\n",
      "  warnings.warn(message)\n"
     ]
    },
    {
     "name": "stdout",
     "output_type": "stream",
     "text": [
      "Validation Accuracy: 48.80%\n",
      "\u001b[32m[I 2023-12-01 12:11:03,759]\u001b[0m Trial 31 finished with value: 0.488 and parameters: {'lr': 0.005476758494351832, 'hidden_channels': 16, 'hidden_layers': 2, 'p_dropout': 0.4484635094440384, 'batch_size': 140, 'epochs': 20, 'optimizer': <class 'torch.optim.adamax.Adamax'>, 'weight_decay': 0.0045010483801341886, 'num_heads': 8, 'heads_p_dropout': 0.629927615387484}. Best is trial 0 with value: 0.794.\u001b[0m\n"
     ]
    },
    {
     "name": "stderr",
     "output_type": "stream",
     "text": [
      "C:\\Users\\ramme\\anaconda3\\lib\\site-packages\\optuna\\distributions.py:535: UserWarning: Choices for a categorical distribution should be a tuple of None, bool, int, float and str for persistent storage but contains <class 'torch.optim.adamax.Adamax'> which is of type type.\n",
      "  warnings.warn(message)\n"
     ]
    },
    {
     "name": "stdout",
     "output_type": "stream",
     "text": [
      "Validation Accuracy: 78.00%\n",
      "\u001b[32m[I 2023-12-01 12:11:04,979]\u001b[0m Trial 29 finished with value: 0.78 and parameters: {'lr': 0.008866581683731084, 'hidden_channels': 16, 'hidden_layers': 0, 'p_dropout': 0.4791207008873486, 'batch_size': 140, 'epochs': 80, 'optimizer': <class 'torch.optim.adamax.Adamax'>, 'weight_decay': 0.0058959525855764765, 'num_heads': 8, 'heads_p_dropout': 0.5969126979102414}. Best is trial 0 with value: 0.794.\u001b[0m\n"
     ]
    },
    {
     "name": "stderr",
     "output_type": "stream",
     "text": [
      "C:\\Users\\ramme\\anaconda3\\lib\\site-packages\\optuna\\distributions.py:535: UserWarning: Choices for a categorical distribution should be a tuple of None, bool, int, float and str for persistent storage but contains <class 'torch.optim.adamax.Adamax'> which is of type type.\n",
      "  warnings.warn(message)\n"
     ]
    },
    {
     "name": "stdout",
     "output_type": "stream",
     "text": [
      "Validation Accuracy: 75.80%\n",
      "\u001b[32m[I 2023-12-01 12:11:06,534]\u001b[0m Trial 28 finished with value: 0.758 and parameters: {'lr': 0.00864988697869746, 'hidden_channels': 16, 'hidden_layers': 0, 'p_dropout': 0.4693808006601571, 'batch_size': 140, 'epochs': 80, 'optimizer': <class 'torch.optim.adamax.Adamax'>, 'weight_decay': 0.0057365548931521725, 'num_heads': 16, 'heads_p_dropout': 0.5921929020811177}. Best is trial 0 with value: 0.794.\u001b[0m\n"
     ]
    },
    {
     "name": "stderr",
     "output_type": "stream",
     "text": [
      "C:\\Users\\ramme\\anaconda3\\lib\\site-packages\\optuna\\distributions.py:535: UserWarning: Choices for a categorical distribution should be a tuple of None, bool, int, float and str for persistent storage but contains <class 'torch.optim.adamax.Adamax'> which is of type type.\n",
      "  warnings.warn(message)\n"
     ]
    },
    {
     "name": "stdout",
     "output_type": "stream",
     "text": [
      "Validation Accuracy: 56.60%\n",
      "\u001b[32m[I 2023-12-01 12:11:08,278]\u001b[0m Trial 23 finished with value: 0.566 and parameters: {'lr': 0.0005789465954159444, 'hidden_channels': 16, 'hidden_layers': 1, 'p_dropout': 0.4748204446049018, 'batch_size': 140, 'epochs': 110, 'optimizer': <class 'torch.optim.adamax.Adamax'>, 'weight_decay': 0.007859476853119652, 'num_heads': 16, 'heads_p_dropout': 0.4678373990088583}. Best is trial 0 with value: 0.794.\u001b[0m\n"
     ]
    },
    {
     "name": "stderr",
     "output_type": "stream",
     "text": [
      "C:\\Users\\ramme\\anaconda3\\lib\\site-packages\\optuna\\distributions.py:535: UserWarning: Choices for a categorical distribution should be a tuple of None, bool, int, float and str for persistent storage but contains <class 'torch.optim.adamax.Adamax'> which is of type type.\n",
      "  warnings.warn(message)\n"
     ]
    },
    {
     "name": "stdout",
     "output_type": "stream",
     "text": [
      "Validation Accuracy: 71.80%\n",
      "\u001b[32m[I 2023-12-01 12:11:12,283]\u001b[0m Trial 36 finished with value: 0.718 and parameters: {'lr': 0.0027479641942969608, 'hidden_channels': 8, 'hidden_layers': 0, 'p_dropout': 0.42666429739502587, 'batch_size': 140, 'epochs': 50, 'optimizer': <class 'torch.optim.adamax.Adamax'>, 'weight_decay': 0.00669845353175961, 'num_heads': 8, 'heads_p_dropout': 0.5526407919677637}. Best is trial 0 with value: 0.794.\u001b[0m\n"
     ]
    },
    {
     "name": "stderr",
     "output_type": "stream",
     "text": [
      "C:\\Users\\ramme\\anaconda3\\lib\\site-packages\\optuna\\distributions.py:535: UserWarning: Choices for a categorical distribution should be a tuple of None, bool, int, float and str for persistent storage but contains <class 'torch.optim.adamax.Adamax'> which is of type type.\n",
      "  warnings.warn(message)\n"
     ]
    },
    {
     "name": "stdout",
     "output_type": "stream",
     "text": [
      "Validation Accuracy: 78.20%\n",
      "\u001b[32m[I 2023-12-01 12:11:15,029]\u001b[0m Trial 35 finished with value: 0.782 and parameters: {'lr': 0.0025537214164009516, 'hidden_channels': 8, 'hidden_layers': 0, 'p_dropout': 0.43611018739180357, 'batch_size': 140, 'epochs': 80, 'optimizer': <class 'torch.optim.adamax.Adamax'>, 'weight_decay': 0.0064478321792865246, 'num_heads': 8, 'heads_p_dropout': 0.5629003211829376}. Best is trial 0 with value: 0.794.\u001b[0m\n"
     ]
    },
    {
     "name": "stderr",
     "output_type": "stream",
     "text": [
      "C:\\Users\\ramme\\anaconda3\\lib\\site-packages\\optuna\\distributions.py:535: UserWarning: Choices for a categorical distribution should be a tuple of None, bool, int, float and str for persistent storage but contains <class 'torch.optim.adamax.Adamax'> which is of type type.\n",
      "  warnings.warn(message)\n"
     ]
    },
    {
     "name": "stdout",
     "output_type": "stream",
     "text": [
      "Validation Accuracy: 25.00%\n",
      "\u001b[32m[I 2023-12-01 12:11:15,311]\u001b[0m Trial 34 finished with value: 0.25 and parameters: {'lr': 0.0026271490214769735, 'hidden_channels': 8, 'hidden_layers': 2, 'p_dropout': 0.5828898092447928, 'batch_size': 140, 'epochs': 30, 'optimizer': <class 'torch.optim.adamax.Adamax'>, 'weight_decay': 0.006586213511287131, 'num_heads': 16, 'heads_p_dropout': 0.5664838130460994}. Best is trial 0 with value: 0.794.\u001b[0m\n"
     ]
    },
    {
     "name": "stderr",
     "output_type": "stream",
     "text": [
      "C:\\Users\\ramme\\anaconda3\\lib\\site-packages\\optuna\\distributions.py:535: UserWarning: Choices for a categorical distribution should be a tuple of None, bool, int, float and str for persistent storage but contains <class 'torch.optim.adamax.Adamax'> which is of type type.\n",
      "  warnings.warn(message)\n"
     ]
    },
    {
     "name": "stdout",
     "output_type": "stream",
     "text": [
      "Validation Accuracy: 77.60%\n",
      "\u001b[32m[I 2023-12-01 12:11:28,421]\u001b[0m Trial 37 finished with value: 0.776 and parameters: {'lr': 0.0025668502213000294, 'hidden_channels': 8, 'hidden_layers': 0, 'p_dropout': 0.4333919702843186, 'batch_size': 140, 'epochs': 120, 'optimizer': <class 'torch.optim.adamax.Adamax'>, 'weight_decay': 0.006567626194443275, 'num_heads': 8, 'heads_p_dropout': 0.553655274293631}. Best is trial 0 with value: 0.794.\u001b[0m\n"
     ]
    },
    {
     "name": "stderr",
     "output_type": "stream",
     "text": [
      "C:\\Users\\ramme\\anaconda3\\lib\\site-packages\\optuna\\distributions.py:535: UserWarning: Choices for a categorical distribution should be a tuple of None, bool, int, float and str for persistent storage but contains <class 'torch.optim.adamax.Adamax'> which is of type type.\n",
      "  warnings.warn(message)\n"
     ]
    },
    {
     "name": "stdout",
     "output_type": "stream",
     "text": [
      "Validation Accuracy: 79.00%\n",
      "\u001b[32m[I 2023-12-01 12:11:31,258]\u001b[0m Trial 38 finished with value: 0.79 and parameters: {'lr': 0.0021954630293064175, 'hidden_channels': 128, 'hidden_layers': 0, 'p_dropout': 0.4982605169038479, 'batch_size': 140, 'epochs': 40, 'optimizer': <class 'torch.optim.adamax.Adamax'>, 'weight_decay': 0.0063841515162036755, 'num_heads': 8, 'heads_p_dropout': 0.6457233999625464}. Best is trial 0 with value: 0.794.\u001b[0m\n"
     ]
    },
    {
     "name": "stderr",
     "output_type": "stream",
     "text": [
      "C:\\Users\\ramme\\anaconda3\\lib\\site-packages\\optuna\\distributions.py:535: UserWarning: Choices for a categorical distribution should be a tuple of None, bool, int, float and str for persistent storage but contains <class 'torch.optim.adamax.Adamax'> which is of type type.\n",
      "  warnings.warn(message)\n"
     ]
    },
    {
     "name": "stdout",
     "output_type": "stream",
     "text": [
      "Validation Accuracy: 59.40%\n",
      "\u001b[32m[I 2023-12-01 12:11:41,378]\u001b[0m Trial 41 finished with value: 0.594 and parameters: {'lr': 0.0015343860514416146, 'hidden_channels': 8, 'hidden_layers': 0, 'p_dropout': 0.4986080905566189, 'batch_size': 140, 'epochs': 60, 'optimizer': <class 'torch.optim.adamax.Adamax'>, 'weight_decay': 0.006998063036025106, 'num_heads': 8, 'heads_p_dropout': 0.4145069501475695}. Best is trial 0 with value: 0.794.\u001b[0m\n"
     ]
    },
    {
     "name": "stderr",
     "output_type": "stream",
     "text": [
      "C:\\Users\\ramme\\anaconda3\\lib\\site-packages\\optuna\\distributions.py:535: UserWarning: Choices for a categorical distribution should be a tuple of None, bool, int, float and str for persistent storage but contains <class 'torch.optim.adamax.Adamax'> which is of type type.\n",
      "  warnings.warn(message)\n"
     ]
    },
    {
     "name": "stdout",
     "output_type": "stream",
     "text": [
      "Validation Accuracy: 46.00%\n",
      "\u001b[32m[I 2023-12-01 12:11:42,268]\u001b[0m Trial 33 finished with value: 0.46 and parameters: {'lr': 0.0027417681283714856, 'hidden_channels': 8, 'hidden_layers': 2, 'p_dropout': 0.44068974472948164, 'batch_size': 140, 'epochs': 110, 'optimizer': <class 'torch.optim.adamax.Adamax'>, 'weight_decay': 0.008586561251514201, 'num_heads': 8, 'heads_p_dropout': 0.6289624042352536}. Best is trial 0 with value: 0.794.\u001b[0m\n"
     ]
    },
    {
     "name": "stderr",
     "output_type": "stream",
     "text": [
      "C:\\Users\\ramme\\anaconda3\\lib\\site-packages\\optuna\\distributions.py:535: UserWarning: Choices for a categorical distribution should be a tuple of None, bool, int, float and str for persistent storage but contains <class 'torch.optim.adamax.Adamax'> which is of type type.\n",
      "  warnings.warn(message)\n"
     ]
    },
    {
     "name": "stdout",
     "output_type": "stream",
     "text": [
      "Validation Accuracy: 78.40%\n",
      "\u001b[32m[I 2023-12-01 12:12:05,513]\u001b[0m Trial 40 finished with value: 0.784 and parameters: {'lr': 0.0018087849038960744, 'hidden_channels': 64, 'hidden_layers': 0, 'p_dropout': 0.43853626819894836, 'batch_size': 140, 'epochs': 120, 'optimizer': <class 'torch.optim.adamax.Adamax'>, 'weight_decay': 0.008443534284119602, 'num_heads': 8, 'heads_p_dropout': 0.6404824029474383}. Best is trial 0 with value: 0.794.\u001b[0m\n"
     ]
    },
    {
     "name": "stderr",
     "output_type": "stream",
     "text": [
      "C:\\Users\\ramme\\anaconda3\\lib\\site-packages\\optuna\\distributions.py:535: UserWarning: Choices for a categorical distribution should be a tuple of None, bool, int, float and str for persistent storage but contains <class 'torch.optim.adamax.Adamax'> which is of type type.\n",
      "  warnings.warn(message)\n"
     ]
    },
    {
     "name": "stdout",
     "output_type": "stream",
     "text": [
      "Validation Accuracy: 70.60%\n",
      "\u001b[32m[I 2023-12-01 12:12:16,434]\u001b[0m Trial 44 finished with value: 0.706 and parameters: {'lr': 0.0010672101535708065, 'hidden_channels': 128, 'hidden_layers': 0, 'p_dropout': 0.45389874493663357, 'batch_size': 140, 'epochs': 40, 'optimizer': <class 'torch.optim.adamax.Adamax'>, 'weight_decay': 0.006262478153976015, 'num_heads': 8, 'heads_p_dropout': 0.3765063301878383}. Best is trial 0 with value: 0.794.\u001b[0m\n"
     ]
    },
    {
     "name": "stderr",
     "output_type": "stream",
     "text": [
      "C:\\Users\\ramme\\anaconda3\\lib\\site-packages\\optuna\\distributions.py:535: UserWarning: Choices for a categorical distribution should be a tuple of None, bool, int, float and str for persistent storage but contains <class 'torch.optim.adamax.Adamax'> which is of type type.\n",
      "  warnings.warn(message)\n"
     ]
    },
    {
     "name": "stdout",
     "output_type": "stream",
     "text": [
      "Validation Accuracy: 76.20%\n",
      "\u001b[32m[I 2023-12-01 12:12:37,998]\u001b[0m Trial 39 finished with value: 0.762 and parameters: {'lr': 0.0024265966002663727, 'hidden_channels': 8, 'hidden_layers': 2, 'p_dropout': 0.43610995783535866, 'batch_size': 140, 'epochs': 120, 'optimizer': <class 'torch.optim.adamax.Adamax'>, 'weight_decay': 0.006841297555238063, 'num_heads': 8, 'heads_p_dropout': 0.5594516356728636}. Best is trial 0 with value: 0.794.\u001b[0m\n"
     ]
    },
    {
     "name": "stderr",
     "output_type": "stream",
     "text": [
      "C:\\Users\\ramme\\anaconda3\\lib\\site-packages\\optuna\\distributions.py:535: UserWarning: Choices for a categorical distribution should be a tuple of None, bool, int, float and str for persistent storage but contains <class 'torch.optim.adamax.Adamax'> which is of type type.\n",
      "  warnings.warn(message)\n"
     ]
    },
    {
     "name": "stdout",
     "output_type": "stream",
     "text": [
      "Validation Accuracy: 51.00%\n",
      "\u001b[32m[I 2023-12-01 12:12:55,995]\u001b[0m Trial 42 finished with value: 0.51 and parameters: {'lr': 0.0014514544917800544, 'hidden_channels': 128, 'hidden_layers': 2, 'p_dropout': 0.49324690109190356, 'batch_size': 140, 'epochs': 40, 'optimizer': <class 'torch.optim.adamax.Adamax'>, 'weight_decay': 0.007064448409242096, 'num_heads': 8, 'heads_p_dropout': 0.40741805664835484}. Best is trial 0 with value: 0.794.\u001b[0m\n"
     ]
    },
    {
     "name": "stderr",
     "output_type": "stream",
     "text": [
      "C:\\Users\\ramme\\anaconda3\\lib\\site-packages\\optuna\\distributions.py:535: UserWarning: Choices for a categorical distribution should be a tuple of None, bool, int, float and str for persistent storage but contains <class 'torch.optim.adamax.Adamax'> which is of type type.\n",
      "  warnings.warn(message)\n"
     ]
    },
    {
     "name": "stdout",
     "output_type": "stream",
     "text": [
      "Validation Accuracy: 57.00%\n",
      "\u001b[32m[I 2023-12-01 12:13:05,928]\u001b[0m Trial 43 finished with value: 0.57 and parameters: {'lr': 0.0012152398566322687, 'hidden_channels': 128, 'hidden_layers': 2, 'p_dropout': 0.5147329446086206, 'batch_size': 140, 'epochs': 40, 'optimizer': <class 'torch.optim.adamax.Adamax'>, 'weight_decay': 0.0061811640581049656, 'num_heads': 8, 'heads_p_dropout': 0.37502325982432627}. Best is trial 0 with value: 0.794.\u001b[0m\n"
     ]
    },
    {
     "name": "stderr",
     "output_type": "stream",
     "text": [
      "C:\\Users\\ramme\\anaconda3\\lib\\site-packages\\optuna\\distributions.py:535: UserWarning: Choices for a categorical distribution should be a tuple of None, bool, int, float and str for persistent storage but contains <class 'torch.optim.adamax.Adamax'> which is of type type.\n",
      "  warnings.warn(message)\n"
     ]
    },
    {
     "name": "stdout",
     "output_type": "stream",
     "text": [
      "Validation Accuracy: 79.00%\n",
      "\u001b[32m[I 2023-12-01 12:13:17,340]\u001b[0m Trial 45 finished with value: 0.79 and parameters: {'lr': 0.001205812241865269, 'hidden_channels': 64, 'hidden_layers': 0, 'p_dropout': 0.5125149028212348, 'batch_size': 140, 'epochs': 120, 'optimizer': <class 'torch.optim.adamax.Adamax'>, 'weight_decay': 0.007073951232581218, 'num_heads': 8, 'heads_p_dropout': 0.4798358356219987}. Best is trial 0 with value: 0.794.\u001b[0m\n"
     ]
    },
    {
     "name": "stderr",
     "output_type": "stream",
     "text": [
      "C:\\Users\\ramme\\anaconda3\\lib\\site-packages\\optuna\\distributions.py:535: UserWarning: Choices for a categorical distribution should be a tuple of None, bool, int, float and str for persistent storage but contains <class 'torch.optim.adamax.Adamax'> which is of type type.\n",
      "  warnings.warn(message)\n"
     ]
    },
    {
     "name": "stdout",
     "output_type": "stream",
     "text": [
      "Validation Accuracy: 75.60%\n",
      "\u001b[32m[I 2023-12-01 12:13:21,139]\u001b[0m Trial 46 finished with value: 0.756 and parameters: {'lr': 0.0021452437833317413, 'hidden_channels': 64, 'hidden_layers': 0, 'p_dropout': 0.5173229809730587, 'batch_size': 140, 'epochs': 120, 'optimizer': <class 'torch.optim.adamax.Adamax'>, 'weight_decay': 0.0069010197738269205, 'num_heads': 8, 'heads_p_dropout': 0.6688083419233333}. Best is trial 0 with value: 0.794.\u001b[0m\n"
     ]
    },
    {
     "name": "stderr",
     "output_type": "stream",
     "text": [
      "C:\\Users\\ramme\\anaconda3\\lib\\site-packages\\optuna\\distributions.py:535: UserWarning: Choices for a categorical distribution should be a tuple of None, bool, int, float and str for persistent storage but contains <class 'torch.optim.adamax.Adamax'> which is of type type.\n",
      "  warnings.warn(message)\n"
     ]
    },
    {
     "name": "stdout",
     "output_type": "stream",
     "text": [
      "Validation Accuracy: 76.60%\n",
      "\u001b[32m[I 2023-12-01 12:13:34,132]\u001b[0m Trial 47 finished with value: 0.766 and parameters: {'lr': 0.0016354656302801263, 'hidden_channels': 64, 'hidden_layers': 0, 'p_dropout': 0.5202910310644956, 'batch_size': 140, 'epochs': 120, 'optimizer': <class 'torch.optim.adamax.Adamax'>, 'weight_decay': 0.006119562981213793, 'num_heads': 8, 'heads_p_dropout': 0.6579856111123112}. Best is trial 0 with value: 0.794.\u001b[0m\n"
     ]
    },
    {
     "name": "stderr",
     "output_type": "stream",
     "text": [
      "C:\\Users\\ramme\\anaconda3\\lib\\site-packages\\optuna\\distributions.py:535: UserWarning: Choices for a categorical distribution should be a tuple of None, bool, int, float and str for persistent storage but contains <class 'torch.optim.adamax.Adamax'> which is of type type.\n",
      "  warnings.warn(message)\n"
     ]
    },
    {
     "name": "stdout",
     "output_type": "stream",
     "text": [
      "Validation Accuracy: 78.00%\n",
      "\u001b[32m[I 2023-12-01 12:13:37,867]\u001b[0m Trial 48 finished with value: 0.78 and parameters: {'lr': 0.0018834886434975597, 'hidden_channels': 64, 'hidden_layers': 0, 'p_dropout': 0.5142781645668749, 'batch_size': 140, 'epochs': 120, 'optimizer': <class 'torch.optim.adamax.Adamax'>, 'weight_decay': 0.00833776052602343, 'num_heads': 4, 'heads_p_dropout': 0.6444762663474618}. Best is trial 0 with value: 0.794.\u001b[0m\n"
     ]
    },
    {
     "name": "stderr",
     "output_type": "stream",
     "text": [
      "C:\\Users\\ramme\\anaconda3\\lib\\site-packages\\optuna\\distributions.py:535: UserWarning: Choices for a categorical distribution should be a tuple of None, bool, int, float and str for persistent storage but contains <class 'torch.optim.adamax.Adamax'> which is of type type.\n",
      "  warnings.warn(message)\n"
     ]
    },
    {
     "name": "stdout",
     "output_type": "stream",
     "text": [
      "Validation Accuracy: 76.00%\n",
      "\u001b[32m[I 2023-12-01 12:13:41,942]\u001b[0m Trial 49 finished with value: 0.76 and parameters: {'lr': 0.0019618985018030363, 'hidden_channels': 64, 'hidden_layers': 0, 'p_dropout': 0.45492140594362884, 'batch_size': 140, 'epochs': 120, 'optimizer': <class 'torch.optim.adamax.Adamax'>, 'weight_decay': 0.008282487267353523, 'num_heads': 4, 'heads_p_dropout': 0.6647505906777239}. Best is trial 0 with value: 0.794.\u001b[0m\n"
     ]
    },
    {
     "name": "stderr",
     "output_type": "stream",
     "text": [
      "C:\\Users\\ramme\\anaconda3\\lib\\site-packages\\optuna\\distributions.py:535: UserWarning: Choices for a categorical distribution should be a tuple of None, bool, int, float and str for persistent storage but contains <class 'torch.optim.adamax.Adamax'> which is of type type.\n",
      "  warnings.warn(message)\n"
     ]
    },
    {
     "name": "stdout",
     "output_type": "stream",
     "text": [
      "Validation Accuracy: 78.20%\n",
      "\u001b[32m[I 2023-12-01 12:13:52,964]\u001b[0m Trial 50 finished with value: 0.782 and parameters: {'lr': 0.0019283197128053136, 'hidden_channels': 64, 'hidden_layers': 0, 'p_dropout': 0.5235536358616264, 'batch_size': 140, 'epochs': 120, 'optimizer': <class 'torch.optim.adamax.Adamax'>, 'weight_decay': 0.007043479152817883, 'num_heads': 4, 'heads_p_dropout': 0.4680529919694035}. Best is trial 0 with value: 0.794.\u001b[0m\n"
     ]
    },
    {
     "name": "stderr",
     "output_type": "stream",
     "text": [
      "C:\\Users\\ramme\\anaconda3\\lib\\site-packages\\optuna\\distributions.py:535: UserWarning: Choices for a categorical distribution should be a tuple of None, bool, int, float and str for persistent storage but contains <class 'torch.optim.adamax.Adamax'> which is of type type.\n",
      "  warnings.warn(message)\n"
     ]
    },
    {
     "name": "stdout",
     "output_type": "stream",
     "text": [
      "Validation Accuracy: 77.60%\n",
      "\u001b[32m[I 2023-12-01 12:13:54,447]\u001b[0m Trial 51 finished with value: 0.776 and parameters: {'lr': 0.0017042641429793129, 'hidden_channels': 64, 'hidden_layers': 0, 'p_dropout': 0.530465570221566, 'batch_size': 140, 'epochs': 120, 'optimizer': <class 'torch.optim.adamax.Adamax'>, 'weight_decay': 0.008187427996936416, 'num_heads': 4, 'heads_p_dropout': 0.4796336616941192}. Best is trial 0 with value: 0.794.\u001b[0m\n"
     ]
    },
    {
     "name": "stderr",
     "output_type": "stream",
     "text": [
      "C:\\Users\\ramme\\anaconda3\\lib\\site-packages\\optuna\\distributions.py:535: UserWarning: Choices for a categorical distribution should be a tuple of None, bool, int, float and str for persistent storage but contains <class 'torch.optim.adamax.Adamax'> which is of type type.\n",
      "  warnings.warn(message)\n"
     ]
    },
    {
     "name": "stdout",
     "output_type": "stream",
     "text": [
      "Validation Accuracy: 75.60%\n",
      "\u001b[32m[I 2023-12-01 12:14:14,425]\u001b[0m Trial 53 finished with value: 0.756 and parameters: {'lr': 0.005786698892428948, 'hidden_channels': 64, 'hidden_layers': 1, 'p_dropout': 0.4892430748835511, 'batch_size': 140, 'epochs': 70, 'optimizer': <class 'torch.optim.adamax.Adamax'>, 'weight_decay': 0.0051889522256302655, 'num_heads': 4, 'heads_p_dropout': 0.34970895252687073}. Best is trial 0 with value: 0.794.\u001b[0m\n"
     ]
    },
    {
     "name": "stderr",
     "output_type": "stream",
     "text": [
      "C:\\Users\\ramme\\anaconda3\\lib\\site-packages\\optuna\\distributions.py:535: UserWarning: Choices for a categorical distribution should be a tuple of None, bool, int, float and str for persistent storage but contains <class 'torch.optim.adamax.Adamax'> which is of type type.\n",
      "  warnings.warn(message)\n"
     ]
    },
    {
     "name": "stdout",
     "output_type": "stream",
     "text": [
      "Validation Accuracy: 76.60%\n",
      "\u001b[32m[I 2023-12-01 12:14:16,322]\u001b[0m Trial 56 finished with value: 0.766 and parameters: {'lr': 0.0037080159066930976, 'hidden_channels': 32, 'hidden_layers': 0, 'p_dropout': 0.48267836817654025, 'batch_size': 140, 'epochs': 70, 'optimizer': <class 'torch.optim.adamax.Adamax'>, 'weight_decay': 0.005520775178571191, 'num_heads': 8, 'heads_p_dropout': 0.4280836223957693}. Best is trial 0 with value: 0.794.\u001b[0m\n"
     ]
    },
    {
     "name": "stderr",
     "output_type": "stream",
     "text": [
      "C:\\Users\\ramme\\anaconda3\\lib\\site-packages\\optuna\\distributions.py:535: UserWarning: Choices for a categorical distribution should be a tuple of None, bool, int, float and str for persistent storage but contains <class 'torch.optim.adamax.Adamax'> which is of type type.\n",
      "  warnings.warn(message)\n"
     ]
    },
    {
     "name": "stdout",
     "output_type": "stream",
     "text": [
      "Validation Accuracy: 76.60%\n",
      "\u001b[32m[I 2023-12-01 12:14:22,738]\u001b[0m Trial 55 finished with value: 0.766 and parameters: {'lr': 0.003657927711155215, 'hidden_channels': 64, 'hidden_layers': 0, 'p_dropout': 0.48995283717375, 'batch_size': 140, 'epochs': 70, 'optimizer': <class 'torch.optim.adamax.Adamax'>, 'weight_decay': 0.005450430193717248, 'num_heads': 8, 'heads_p_dropout': 0.4883033652482772}. Best is trial 0 with value: 0.794.\u001b[0m\n"
     ]
    },
    {
     "name": "stderr",
     "output_type": "stream",
     "text": [
      "C:\\Users\\ramme\\anaconda3\\lib\\site-packages\\optuna\\distributions.py:535: UserWarning: Choices for a categorical distribution should be a tuple of None, bool, int, float and str for persistent storage but contains <class 'torch.optim.adamax.Adamax'> which is of type type.\n",
      "  warnings.warn(message)\n"
     ]
    },
    {
     "name": "stdout",
     "output_type": "stream",
     "text": [
      "Validation Accuracy: 78.40%\n",
      "\u001b[32m[I 2023-12-01 12:14:31,004]\u001b[0m Trial 54 finished with value: 0.784 and parameters: {'lr': 0.0009121391707240818, 'hidden_channels': 64, 'hidden_layers': 1, 'p_dropout': 0.5321853128655246, 'batch_size': 140, 'epochs': 70, 'optimizer': <class 'torch.optim.adamax.Adamax'>, 'weight_decay': 0.005349330359504706, 'num_heads': 8, 'heads_p_dropout': 0.33264871499722004}. Best is trial 0 with value: 0.794.\u001b[0m\n"
     ]
    },
    {
     "name": "stderr",
     "output_type": "stream",
     "text": [
      "C:\\Users\\ramme\\anaconda3\\lib\\site-packages\\optuna\\distributions.py:535: UserWarning: Choices for a categorical distribution should be a tuple of None, bool, int, float and str for persistent storage but contains <class 'torch.optim.adamax.Adamax'> which is of type type.\n",
      "  warnings.warn(message)\n"
     ]
    },
    {
     "name": "stdout",
     "output_type": "stream",
     "text": [
      "Validation Accuracy: 57.20%\n",
      "\u001b[32m[I 2023-12-01 12:14:36,987]\u001b[0m Trial 59 finished with value: 0.572 and parameters: {'lr': 0.0009025195183140174, 'hidden_channels': 128, 'hidden_layers': 0, 'p_dropout': 0.4580475544175325, 'batch_size': 140, 'epochs': 20, 'optimizer': <class 'torch.optim.adamax.Adamax'>, 'weight_decay': 0.007239406772496467, 'num_heads': 8, 'heads_p_dropout': 0.5213399170991607}. Best is trial 0 with value: 0.794.\u001b[0m\n"
     ]
    },
    {
     "name": "stderr",
     "output_type": "stream",
     "text": [
      "C:\\Users\\ramme\\anaconda3\\lib\\site-packages\\optuna\\distributions.py:535: UserWarning: Choices for a categorical distribution should be a tuple of None, bool, int, float and str for persistent storage but contains <class 'torch.optim.adamax.Adamax'> which is of type type.\n",
      "  warnings.warn(message)\n"
     ]
    },
    {
     "name": "stdout",
     "output_type": "stream",
     "text": [
      "Validation Accuracy: 76.20%\n",
      "\u001b[32m[I 2023-12-01 12:14:39,893]\u001b[0m Trial 52 finished with value: 0.762 and parameters: {'lr': 0.0008148079441126733, 'hidden_channels': 64, 'hidden_layers': 1, 'p_dropout': 0.5033349072006441, 'batch_size': 140, 'epochs': 120, 'optimizer': <class 'torch.optim.adamax.Adamax'>, 'weight_decay': 0.0081473103865143, 'num_heads': 4, 'heads_p_dropout': 0.48620178814151543}. Best is trial 0 with value: 0.794.\u001b[0m\n"
     ]
    },
    {
     "name": "stderr",
     "output_type": "stream",
     "text": [
      "C:\\Users\\ramme\\anaconda3\\lib\\site-packages\\optuna\\distributions.py:535: UserWarning: Choices for a categorical distribution should be a tuple of None, bool, int, float and str for persistent storage but contains <class 'torch.optim.adamax.Adamax'> which is of type type.\n",
      "  warnings.warn(message)\n"
     ]
    },
    {
     "name": "stdout",
     "output_type": "stream",
     "text": [
      "Validation Accuracy: 79.00%\n",
      "\u001b[32m[I 2023-12-01 12:14:41,919]\u001b[0m Trial 57 finished with value: 0.79 and parameters: {'lr': 0.0035148206817066023, 'hidden_channels': 32, 'hidden_layers': 0, 'p_dropout': 0.46158021032047286, 'batch_size': 140, 'epochs': 60, 'optimizer': <class 'torch.optim.adamax.Adamax'>, 'weight_decay': 0.005536474383164867, 'num_heads': 8, 'heads_p_dropout': 0.4362410541311367}. Best is trial 0 with value: 0.794.\u001b[0m\n"
     ]
    },
    {
     "name": "stderr",
     "output_type": "stream",
     "text": [
      "C:\\Users\\ramme\\anaconda3\\lib\\site-packages\\optuna\\distributions.py:535: UserWarning: Choices for a categorical distribution should be a tuple of None, bool, int, float and str for persistent storage but contains <class 'torch.optim.adamax.Adamax'> which is of type type.\n",
      "  warnings.warn(message)\n"
     ]
    },
    {
     "name": "stdout",
     "output_type": "stream",
     "text": [
      "Validation Accuracy: 77.80%\n",
      "\u001b[32m[I 2023-12-01 12:14:55,379]\u001b[0m Trial 58 finished with value: 0.778 and parameters: {'lr': 0.0008992189314316935, 'hidden_channels': 128, 'hidden_layers': 0, 'p_dropout': 0.46376002228363794, 'batch_size': 140, 'epochs': 60, 'optimizer': <class 'torch.optim.adamax.Adamax'>, 'weight_decay': 0.006357853079487593, 'num_heads': 8, 'heads_p_dropout': 0.44496029800324943}. Best is trial 0 with value: 0.794.\u001b[0m\n"
     ]
    },
    {
     "name": "stderr",
     "output_type": "stream",
     "text": [
      "C:\\Users\\ramme\\anaconda3\\lib\\site-packages\\optuna\\distributions.py:535: UserWarning: Choices for a categorical distribution should be a tuple of None, bool, int, float and str for persistent storage but contains <class 'torch.optim.adamax.Adamax'> which is of type type.\n",
      "  warnings.warn(message)\n"
     ]
    },
    {
     "name": "stdout",
     "output_type": "stream",
     "text": [
      "Validation Accuracy: 58.80%\n",
      "\u001b[32m[I 2023-12-01 12:15:15,430]\u001b[0m Trial 60 finished with value: 0.588 and parameters: {'lr': 0.0009076405436083643, 'hidden_channels': 64, 'hidden_layers': 1, 'p_dropout': 0.5074165797907666, 'batch_size': 140, 'epochs': 60, 'optimizer': <class 'torch.optim.adamax.Adamax'>, 'weight_decay': 0.006030614130543649, 'num_heads': 8, 'heads_p_dropout': 0.4453873140881327}. Best is trial 0 with value: 0.794.\u001b[0m\n"
     ]
    },
    {
     "name": "stderr",
     "output_type": "stream",
     "text": [
      "C:\\Users\\ramme\\anaconda3\\lib\\site-packages\\optuna\\distributions.py:535: UserWarning: Choices for a categorical distribution should be a tuple of None, bool, int, float and str for persistent storage but contains <class 'torch.optim.adamax.Adamax'> which is of type type.\n",
      "  warnings.warn(message)\n"
     ]
    },
    {
     "name": "stdout",
     "output_type": "stream",
     "text": [
      "Validation Accuracy: 65.20%\n",
      "\u001b[32m[I 2023-12-01 12:15:16,336]\u001b[0m Trial 62 finished with value: 0.652 and parameters: {'lr': 0.0013638592410806017, 'hidden_channels': 32, 'hidden_layers': 1, 'p_dropout': 0.5039314552770927, 'batch_size': 140, 'epochs': 60, 'optimizer': <class 'torch.optim.adamax.Adamax'>, 'weight_decay': 0.006220415099310584, 'num_heads': 8, 'heads_p_dropout': 0.4402753794028507}. Best is trial 0 with value: 0.794.\u001b[0m\n"
     ]
    },
    {
     "name": "stderr",
     "output_type": "stream",
     "text": [
      "C:\\Users\\ramme\\anaconda3\\lib\\site-packages\\optuna\\distributions.py:535: UserWarning: Choices for a categorical distribution should be a tuple of None, bool, int, float and str for persistent storage but contains <class 'torch.optim.adamax.Adamax'> which is of type type.\n",
      "  warnings.warn(message)\n"
     ]
    },
    {
     "name": "stdout",
     "output_type": "stream",
     "text": [
      "Validation Accuracy: 78.40%\n",
      "\u001b[32m[I 2023-12-01 12:15:19,274]\u001b[0m Trial 63 finished with value: 0.784 and parameters: {'lr': 0.0012625305737144971, 'hidden_channels': 32, 'hidden_layers': 1, 'p_dropout': 0.5022490732256951, 'batch_size': 140, 'epochs': 60, 'optimizer': <class 'torch.optim.adamax.Adamax'>, 'weight_decay': 0.004896101490480132, 'num_heads': 8, 'heads_p_dropout': 0.43586999761909256}. Best is trial 0 with value: 0.794.\u001b[0m\n"
     ]
    },
    {
     "name": "stderr",
     "output_type": "stream",
     "text": [
      "C:\\Users\\ramme\\anaconda3\\lib\\site-packages\\optuna\\distributions.py:535: UserWarning: Choices for a categorical distribution should be a tuple of None, bool, int, float and str for persistent storage but contains <class 'torch.optim.adamax.Adamax'> which is of type type.\n",
      "  warnings.warn(message)\n"
     ]
    },
    {
     "name": "stdout",
     "output_type": "stream",
     "text": [
      "Validation Accuracy: 81.00%\n",
      "\u001b[32m[I 2023-12-01 12:15:22,108]\u001b[0m Trial 61 finished with value: 0.81 and parameters: {'lr': 0.0013191168503116166, 'hidden_channels': 64, 'hidden_layers': 1, 'p_dropout': 0.5048414017214051, 'batch_size': 140, 'epochs': 60, 'optimizer': <class 'torch.optim.adamax.Adamax'>, 'weight_decay': 0.005908460006339683, 'num_heads': 8, 'heads_p_dropout': 0.4423211437386582}. Best is trial 61 with value: 0.81.\u001b[0m\n"
     ]
    },
    {
     "name": "stderr",
     "output_type": "stream",
     "text": [
      "C:\\Users\\ramme\\anaconda3\\lib\\site-packages\\optuna\\distributions.py:535: UserWarning: Choices for a categorical distribution should be a tuple of None, bool, int, float and str for persistent storage but contains <class 'torch.optim.adamax.Adamax'> which is of type type.\n",
      "  warnings.warn(message)\n"
     ]
    },
    {
     "name": "stdout",
     "output_type": "stream",
     "text": [
      "Validation Accuracy: 64.80%\n",
      "\u001b[32m[I 2023-12-01 12:15:26,338]\u001b[0m Trial 64 finished with value: 0.648 and parameters: {'lr': 0.0013372003277935768, 'hidden_channels': 32, 'hidden_layers': 1, 'p_dropout': 0.502829790516717, 'batch_size': 140, 'epochs': 60, 'optimizer': <class 'torch.optim.adamax.Adamax'>, 'weight_decay': 0.005928598117101327, 'num_heads': 8, 'heads_p_dropout': 0.6982037579114546}. Best is trial 61 with value: 0.81.\u001b[0m\n"
     ]
    },
    {
     "name": "stderr",
     "output_type": "stream",
     "text": [
      "C:\\Users\\ramme\\anaconda3\\lib\\site-packages\\optuna\\distributions.py:535: UserWarning: Choices for a categorical distribution should be a tuple of None, bool, int, float and str for persistent storage but contains <class 'torch.optim.adamax.Adamax'> which is of type type.\n",
      "  warnings.warn(message)\n"
     ]
    },
    {
     "name": "stdout",
     "output_type": "stream",
     "text": [
      "Validation Accuracy: 78.80%\n",
      "\u001b[32m[I 2023-12-01 12:15:49,076]\u001b[0m Trial 66 finished with value: 0.788 and parameters: {'lr': 0.003139408341632013, 'hidden_channels': 32, 'hidden_layers': 1, 'p_dropout': 0.5342438144915399, 'batch_size': 140, 'epochs': 70, 'optimizer': <class 'torch.optim.adamax.Adamax'>, 'weight_decay': 0.004955809942443973, 'num_heads': 8, 'heads_p_dropout': 0.38947760168798734}. Best is trial 61 with value: 0.81.\u001b[0m\n"
     ]
    },
    {
     "name": "stderr",
     "output_type": "stream",
     "text": [
      "C:\\Users\\ramme\\anaconda3\\lib\\site-packages\\optuna\\distributions.py:535: UserWarning: Choices for a categorical distribution should be a tuple of None, bool, int, float and str for persistent storage but contains <class 'torch.optim.adamax.Adamax'> which is of type type.\n",
      "  warnings.warn(message)\n"
     ]
    },
    {
     "name": "stdout",
     "output_type": "stream",
     "text": [
      "Validation Accuracy: 59.40%\n",
      "\u001b[32m[I 2023-12-01 12:15:49,480]\u001b[0m Trial 67 finished with value: 0.594 and parameters: {'lr': 0.0005885441448669, 'hidden_channels': 32, 'hidden_layers': 1, 'p_dropout': 0.5366721052555525, 'batch_size': 140, 'epochs': 60, 'optimizer': <class 'torch.optim.adamax.Adamax'>, 'weight_decay': 0.004988167862896377, 'num_heads': 8, 'heads_p_dropout': 0.40237513030737576}. Best is trial 61 with value: 0.81.\u001b[0m\n"
     ]
    },
    {
     "name": "stderr",
     "output_type": "stream",
     "text": [
      "C:\\Users\\ramme\\anaconda3\\lib\\site-packages\\optuna\\distributions.py:535: UserWarning: Choices for a categorical distribution should be a tuple of None, bool, int, float and str for persistent storage but contains <class 'torch.optim.adamax.Adamax'> which is of type type.\n",
      "  warnings.warn(message)\n"
     ]
    },
    {
     "name": "stdout",
     "output_type": "stream",
     "text": [
      "Validation Accuracy: 78.20%\n",
      "\u001b[32m[I 2023-12-01 12:15:56,662]\u001b[0m Trial 65 finished with value: 0.782 and parameters: {'lr': 0.0011905747256671186, 'hidden_channels': 32, 'hidden_layers': 1, 'p_dropout': 0.5037618526670238, 'batch_size': 140, 'epochs': 90, 'optimizer': <class 'torch.optim.adamax.Adamax'>, 'weight_decay': 0.0049147646538889745, 'num_heads': 8, 'heads_p_dropout': 0.3941867784881426}. Best is trial 61 with value: 0.81.\u001b[0m\n"
     ]
    },
    {
     "name": "stderr",
     "output_type": "stream",
     "text": [
      "C:\\Users\\ramme\\anaconda3\\lib\\site-packages\\optuna\\distributions.py:535: UserWarning: Choices for a categorical distribution should be a tuple of None, bool, int, float and str for persistent storage but contains <class 'torch.optim.adamax.Adamax'> which is of type type.\n",
      "  warnings.warn(message)\n"
     ]
    },
    {
     "name": "stdout",
     "output_type": "stream",
     "text": [
      "Validation Accuracy: 57.40%\n",
      "\u001b[32m[I 2023-12-01 12:16:04,965]\u001b[0m Trial 68 finished with value: 0.574 and parameters: {'lr': 0.0005693169140658763, 'hidden_channels': 32, 'hidden_layers': 1, 'p_dropout': 0.5398714057182785, 'batch_size': 140, 'epochs': 90, 'optimizer': <class 'torch.optim.adamax.Adamax'>, 'weight_decay': 0.005795599386667651, 'num_heads': 8, 'heads_p_dropout': 0.39806650103539604}. Best is trial 61 with value: 0.81.\u001b[0m\n"
     ]
    },
    {
     "name": "stderr",
     "output_type": "stream",
     "text": [
      "C:\\Users\\ramme\\anaconda3\\lib\\site-packages\\optuna\\distributions.py:535: UserWarning: Choices for a categorical distribution should be a tuple of None, bool, int, float and str for persistent storage but contains <class 'torch.optim.adamax.Adamax'> which is of type type.\n",
      "  warnings.warn(message)\n"
     ]
    },
    {
     "name": "stdout",
     "output_type": "stream",
     "text": [
      "Validation Accuracy: 64.40%\n",
      "\u001b[32m[I 2023-12-01 12:16:18,832]\u001b[0m Trial 69 finished with value: 0.644 and parameters: {'lr': 0.0005174260499503603, 'hidden_channels': 64, 'hidden_layers': 1, 'p_dropout': 0.5315677011936825, 'batch_size': 140, 'epochs': 90, 'optimizer': <class 'torch.optim.adamax.Adamax'>, 'weight_decay': 0.005147698341272835, 'num_heads': 8, 'heads_p_dropout': 0.39149822577148535}. Best is trial 61 with value: 0.81.\u001b[0m\n"
     ]
    },
    {
     "name": "stderr",
     "output_type": "stream",
     "text": [
      "C:\\Users\\ramme\\anaconda3\\lib\\site-packages\\optuna\\distributions.py:535: UserWarning: Choices for a categorical distribution should be a tuple of None, bool, int, float and str for persistent storage but contains <class 'torch.optim.adamax.Adamax'> which is of type type.\n",
      "  warnings.warn(message)\n"
     ]
    },
    {
     "name": "stdout",
     "output_type": "stream",
     "text": [
      "Validation Accuracy: 78.00%\n",
      "\u001b[32m[I 2023-12-01 12:16:26,087]\u001b[0m Trial 74 finished with value: 0.78 and parameters: {'lr': 0.0033390350454987746, 'hidden_channels': 32, 'hidden_layers': 0, 'p_dropout': 0.48481304612636267, 'batch_size': 140, 'epochs': 30, 'optimizer': <class 'torch.optim.adamax.Adamax'>, 'weight_decay': 0.007491839957251178, 'num_heads': 8, 'heads_p_dropout': 0.533661535066646}. Best is trial 61 with value: 0.81.\u001b[0m\n"
     ]
    },
    {
     "name": "stderr",
     "output_type": "stream",
     "text": [
      "C:\\Users\\ramme\\anaconda3\\lib\\site-packages\\optuna\\distributions.py:535: UserWarning: Choices for a categorical distribution should be a tuple of None, bool, int, float and str for persistent storage but contains <class 'torch.optim.adamax.Adamax'> which is of type type.\n",
      "  warnings.warn(message)\n"
     ]
    },
    {
     "name": "stdout",
     "output_type": "stream",
     "text": [
      "Validation Accuracy: 78.00%\n",
      "\u001b[32m[I 2023-12-01 12:16:29,729]\u001b[0m Trial 70 finished with value: 0.78 and parameters: {'lr': 0.003378595191413496, 'hidden_channels': 32, 'hidden_layers': 1, 'p_dropout': 0.5358591037334113, 'batch_size': 140, 'epochs': 90, 'optimizer': <class 'torch.optim.adamax.Adamax'>, 'weight_decay': 0.005023723421752864, 'num_heads': 8, 'heads_p_dropout': 0.3856403045626025}. Best is trial 61 with value: 0.81.\u001b[0m\n"
     ]
    },
    {
     "name": "stderr",
     "output_type": "stream",
     "text": [
      "C:\\Users\\ramme\\anaconda3\\lib\\site-packages\\optuna\\distributions.py:535: UserWarning: Choices for a categorical distribution should be a tuple of None, bool, int, float and str for persistent storage but contains <class 'torch.optim.adamax.Adamax'> which is of type type.\n",
      "  warnings.warn(message)\n"
     ]
    },
    {
     "name": "stdout",
     "output_type": "stream",
     "text": [
      "Validation Accuracy: 75.00%\n",
      "\u001b[32m[I 2023-12-01 12:16:32,120]\u001b[0m Trial 73 finished with value: 0.75 and parameters: {'lr': 0.004299164909184055, 'hidden_channels': 32, 'hidden_layers': 0, 'p_dropout': 0.5595498945865433, 'batch_size': 140, 'epochs': 100, 'optimizer': <class 'torch.optim.adamax.Adamax'>, 'weight_decay': 0.007456717518121335, 'num_heads': 8, 'heads_p_dropout': 0.5384912332602521}. Best is trial 61 with value: 0.81.\u001b[0m\n"
     ]
    },
    {
     "name": "stderr",
     "output_type": "stream",
     "text": [
      "C:\\Users\\ramme\\anaconda3\\lib\\site-packages\\optuna\\distributions.py:535: UserWarning: Choices for a categorical distribution should be a tuple of None, bool, int, float and str for persistent storage but contains <class 'torch.optim.adamax.Adamax'> which is of type type.\n",
      "  warnings.warn(message)\n"
     ]
    },
    {
     "name": "stdout",
     "output_type": "stream",
     "text": [
      "Validation Accuracy: 75.40%\n",
      "\u001b[32m[I 2023-12-01 12:16:33,128]\u001b[0m Trial 71 finished with value: 0.754 and parameters: {'lr': 0.0034372407756232282, 'hidden_channels': 32, 'hidden_layers': 1, 'p_dropout': 0.4822624725713892, 'batch_size': 140, 'epochs': 90, 'optimizer': <class 'torch.optim.adamax.Adamax'>, 'weight_decay': 0.004663725929620731, 'num_heads': 8, 'heads_p_dropout': 0.39664583565103123}. Best is trial 61 with value: 0.81.\u001b[0m\n"
     ]
    },
    {
     "name": "stderr",
     "output_type": "stream",
     "text": [
      "C:\\Users\\ramme\\anaconda3\\lib\\site-packages\\optuna\\distributions.py:535: UserWarning: Choices for a categorical distribution should be a tuple of None, bool, int, float and str for persistent storage but contains <class 'torch.optim.adamax.Adamax'> which is of type type.\n",
      "  warnings.warn(message)\n"
     ]
    },
    {
     "name": "stdout",
     "output_type": "stream",
     "text": [
      "Validation Accuracy: 77.20%\n",
      "\u001b[32m[I 2023-12-01 12:16:44,531]\u001b[0m Trial 72 finished with value: 0.772 and parameters: {'lr': 0.0031456324917483697, 'hidden_channels': 32, 'hidden_layers': 1, 'p_dropout': 0.5611093096858482, 'batch_size': 140, 'epochs': 100, 'optimizer': <class 'torch.optim.adamax.Adamax'>, 'weight_decay': 0.004420323130629551, 'num_heads': 8, 'heads_p_dropout': 0.5317449695808959}. Best is trial 61 with value: 0.81.\u001b[0m\n"
     ]
    },
    {
     "name": "stderr",
     "output_type": "stream",
     "text": [
      "C:\\Users\\ramme\\anaconda3\\lib\\site-packages\\optuna\\distributions.py:535: UserWarning: Choices for a categorical distribution should be a tuple of None, bool, int, float and str for persistent storage but contains <class 'torch.optim.adamax.Adamax'> which is of type type.\n",
      "  warnings.warn(message)\n"
     ]
    },
    {
     "name": "stdout",
     "output_type": "stream",
     "text": [
      "Validation Accuracy: 75.80%\n",
      "\u001b[32m[I 2023-12-01 12:17:20,231]\u001b[0m Trial 75 finished with value: 0.758 and parameters: {'lr': 0.002151610145637388, 'hidden_channels': 64, 'hidden_layers': 1, 'p_dropout': 0.5694119233500409, 'batch_size': 140, 'epochs': 70, 'optimizer': <class 'torch.optim.adamax.Adamax'>, 'weight_decay': 0.004482156023429378, 'num_heads': 8, 'heads_p_dropout': 0.34020809285466924}. Best is trial 61 with value: 0.81.\u001b[0m\n"
     ]
    },
    {
     "name": "stderr",
     "output_type": "stream",
     "text": [
      "C:\\Users\\ramme\\anaconda3\\lib\\site-packages\\optuna\\distributions.py:535: UserWarning: Choices for a categorical distribution should be a tuple of None, bool, int, float and str for persistent storage but contains <class 'torch.optim.adamax.Adamax'> which is of type type.\n",
      "  warnings.warn(message)\n"
     ]
    },
    {
     "name": "stdout",
     "output_type": "stream",
     "text": [
      "Validation Accuracy: 76.40%\n",
      "\u001b[32m[I 2023-12-01 12:17:27,190]\u001b[0m Trial 76 finished with value: 0.764 and parameters: {'lr': 0.0021004697513604446, 'hidden_channels': 64, 'hidden_layers': 1, 'p_dropout': 0.5586201615001355, 'batch_size': 140, 'epochs': 70, 'optimizer': <class 'torch.optim.adamax.Adamax'>, 'weight_decay': 0.005563428840670682, 'num_heads': 8, 'heads_p_dropout': 0.3309395612844722}. Best is trial 61 with value: 0.81.\u001b[0m\n"
     ]
    },
    {
     "name": "stderr",
     "output_type": "stream",
     "text": [
      "C:\\Users\\ramme\\anaconda3\\lib\\site-packages\\optuna\\distributions.py:535: UserWarning: Choices for a categorical distribution should be a tuple of None, bool, int, float and str for persistent storage but contains <class 'torch.optim.adamax.Adamax'> which is of type type.\n",
      "  warnings.warn(message)\n"
     ]
    },
    {
     "name": "stdout",
     "output_type": "stream",
     "text": [
      "Validation Accuracy: 75.80%\n",
      "\u001b[32m[I 2023-12-01 12:17:30,770]\u001b[0m Trial 77 finished with value: 0.758 and parameters: {'lr': 0.0022550923113721535, 'hidden_channels': 64, 'hidden_layers': 1, 'p_dropout': 0.5594955116923374, 'batch_size': 140, 'epochs': 70, 'optimizer': <class 'torch.optim.adamax.Adamax'>, 'weight_decay': 0.005443796620766228, 'num_heads': 8, 'heads_p_dropout': 0.3529335529661014}. Best is trial 61 with value: 0.81.\u001b[0m\n"
     ]
    },
    {
     "name": "stderr",
     "output_type": "stream",
     "text": [
      "C:\\Users\\ramme\\anaconda3\\lib\\site-packages\\optuna\\distributions.py:535: UserWarning: Choices for a categorical distribution should be a tuple of None, bool, int, float and str for persistent storage but contains <class 'torch.optim.adamax.Adamax'> which is of type type.\n",
      "  warnings.warn(message)\n"
     ]
    },
    {
     "name": "stdout",
     "output_type": "stream",
     "text": [
      "Validation Accuracy: 78.60%\n",
      "\u001b[32m[I 2023-12-01 12:17:34,082]\u001b[0m Trial 78 finished with value: 0.786 and parameters: {'lr': 0.0022154642552475847, 'hidden_channels': 64, 'hidden_layers': 1, 'p_dropout': 0.46881229887820425, 'batch_size': 140, 'epochs': 70, 'optimizer': <class 'torch.optim.adamax.Adamax'>, 'weight_decay': 0.00570533688582006, 'num_heads': 8, 'heads_p_dropout': 0.34997648529157055}. Best is trial 61 with value: 0.81.\u001b[0m\n"
     ]
    },
    {
     "name": "stderr",
     "output_type": "stream",
     "text": [
      "C:\\Users\\ramme\\anaconda3\\lib\\site-packages\\optuna\\distributions.py:535: UserWarning: Choices for a categorical distribution should be a tuple of None, bool, int, float and str for persistent storage but contains <class 'torch.optim.adamax.Adamax'> which is of type type.\n",
      "  warnings.warn(message)\n"
     ]
    },
    {
     "name": "stdout",
     "output_type": "stream",
     "text": [
      "Validation Accuracy: 77.40%\n",
      "\u001b[32m[I 2023-12-01 12:17:46,754]\u001b[0m Trial 79 finished with value: 0.774 and parameters: {'lr': 0.00231406351932821, 'hidden_channels': 64, 'hidden_layers': 1, 'p_dropout': 0.5251877553696394, 'batch_size': 140, 'epochs': 70, 'optimizer': <class 'torch.optim.adamax.Adamax'>, 'weight_decay': 0.005547382253747222, 'num_heads': 8, 'heads_p_dropout': 0.34776973436764885}. Best is trial 61 with value: 0.81.\u001b[0m\n"
     ]
    },
    {
     "name": "stderr",
     "output_type": "stream",
     "text": [
      "C:\\Users\\ramme\\anaconda3\\lib\\site-packages\\optuna\\distributions.py:535: UserWarning: Choices for a categorical distribution should be a tuple of None, bool, int, float and str for persistent storage but contains <class 'torch.optim.adamax.Adamax'> which is of type type.\n",
      "  warnings.warn(message)\n"
     ]
    },
    {
     "name": "stdout",
     "output_type": "stream",
     "text": [
      "Validation Accuracy: 77.80%\n",
      "\u001b[32m[I 2023-12-01 12:17:56,922]\u001b[0m Trial 81 finished with value: 0.778 and parameters: {'lr': 0.005617184071878058, 'hidden_channels': 64, 'hidden_layers': 0, 'p_dropout': 0.5251850743292826, 'batch_size': 140, 'epochs': 40, 'optimizer': <class 'torch.optim.adamax.Adamax'>, 'weight_decay': 0.005757995583771114, 'num_heads': 8, 'heads_p_dropout': 0.41941583283945677}. Best is trial 61 with value: 0.81.\u001b[0m\n"
     ]
    },
    {
     "name": "stderr",
     "output_type": "stream",
     "text": [
      "C:\\Users\\ramme\\anaconda3\\lib\\site-packages\\optuna\\distributions.py:535: UserWarning: Choices for a categorical distribution should be a tuple of None, bool, int, float and str for persistent storage but contains <class 'torch.optim.adamax.Adamax'> which is of type type.\n",
      "  warnings.warn(message)\n"
     ]
    },
    {
     "name": "stdout",
     "output_type": "stream",
     "text": [
      "Validation Accuracy: 76.60%\n",
      "\u001b[32m[I 2023-12-01 12:18:15,994]\u001b[0m Trial 80 finished with value: 0.766 and parameters: {'lr': 0.0050628764635190565, 'hidden_channels': 64, 'hidden_layers': 1, 'p_dropout': 0.4707741855884967, 'batch_size': 140, 'epochs': 40, 'optimizer': <class 'torch.optim.adamax.Adamax'>, 'weight_decay': 0.005593879579458713, 'num_heads': 8, 'heads_p_dropout': 0.6122679141234237}. Best is trial 61 with value: 0.81.\u001b[0m\n"
     ]
    },
    {
     "name": "stderr",
     "output_type": "stream",
     "text": [
      "C:\\Users\\ramme\\anaconda3\\lib\\site-packages\\optuna\\distributions.py:535: UserWarning: Choices for a categorical distribution should be a tuple of None, bool, int, float and str for persistent storage but contains <class 'torch.optim.adamax.Adamax'> which is of type type.\n",
      "  warnings.warn(message)\n"
     ]
    },
    {
     "name": "stdout",
     "output_type": "stream",
     "text": [
      "Validation Accuracy: 75.80%\n",
      "\u001b[32m[I 2023-12-01 12:18:22,692]\u001b[0m Trial 83 finished with value: 0.758 and parameters: {'lr': 0.005854014261287484, 'hidden_channels': 128, 'hidden_layers': 0, 'p_dropout': 0.46764154129766805, 'batch_size': 140, 'epochs': 40, 'optimizer': <class 'torch.optim.adamax.Adamax'>, 'weight_decay': 0.006716875542268929, 'num_heads': 8, 'heads_p_dropout': 0.41643943466139527}. Best is trial 61 with value: 0.81.\u001b[0m\n"
     ]
    },
    {
     "name": "stderr",
     "output_type": "stream",
     "text": [
      "C:\\Users\\ramme\\anaconda3\\lib\\site-packages\\optuna\\distributions.py:535: UserWarning: Choices for a categorical distribution should be a tuple of None, bool, int, float and str for persistent storage but contains <class 'torch.optim.adamax.Adamax'> which is of type type.\n",
      "  warnings.warn(message)\n"
     ]
    },
    {
     "name": "stdout",
     "output_type": "stream",
     "text": [
      "Validation Accuracy: 74.60%\n",
      "\u001b[32m[I 2023-12-01 12:18:35,204]\u001b[0m Trial 82 finished with value: 0.746 and parameters: {'lr': 0.005796709776677008, 'hidden_channels': 256, 'hidden_layers': 0, 'p_dropout': 0.546249775029008, 'batch_size': 140, 'epochs': 40, 'optimizer': <class 'torch.optim.adamax.Adamax'>, 'weight_decay': 0.0065461606350274, 'num_heads': 8, 'heads_p_dropout': 0.422536650226829}. Best is trial 61 with value: 0.81.\u001b[0m\n"
     ]
    },
    {
     "name": "stderr",
     "output_type": "stream",
     "text": [
      "C:\\Users\\ramme\\anaconda3\\lib\\site-packages\\optuna\\distributions.py:535: UserWarning: Choices for a categorical distribution should be a tuple of None, bool, int, float and str for persistent storage but contains <class 'torch.optim.adamax.Adamax'> which is of type type.\n",
      "  warnings.warn(message)\n"
     ]
    },
    {
     "name": "stdout",
     "output_type": "stream",
     "text": [
      "Validation Accuracy: 77.80%\n",
      "\u001b[32m[I 2023-12-01 12:18:59,997]\u001b[0m Trial 84 finished with value: 0.778 and parameters: {'lr': 0.006384378227638566, 'hidden_channels': 256, 'hidden_layers': 0, 'p_dropout': 0.47178512180395066, 'batch_size': 140, 'epochs': 40, 'optimizer': <class 'torch.optim.adamax.Adamax'>, 'weight_decay': 0.006697840819073185, 'num_heads': 8, 'heads_p_dropout': 0.42276402124912255}. Best is trial 61 with value: 0.81.\u001b[0m\n"
     ]
    },
    {
     "name": "stderr",
     "output_type": "stream",
     "text": [
      "C:\\Users\\ramme\\anaconda3\\lib\\site-packages\\optuna\\distributions.py:535: UserWarning: Choices for a categorical distribution should be a tuple of None, bool, int, float and str for persistent storage but contains <class 'torch.optim.adamax.Adamax'> which is of type type.\n",
      "  warnings.warn(message)\n"
     ]
    },
    {
     "name": "stdout",
     "output_type": "stream",
     "text": [
      "Validation Accuracy: 77.00%\n",
      "\u001b[32m[I 2023-12-01 12:20:26,028]\u001b[0m Trial 88 finished with value: 0.77 and parameters: {'lr': 0.0017367957567235594, 'hidden_channels': 64, 'hidden_layers': 1, 'p_dropout': 0.44474563622169283, 'batch_size': 140, 'epochs': 50, 'optimizer': <class 'torch.optim.adamax.Adamax'>, 'weight_decay': 0.005977599815822938, 'num_heads': 8, 'heads_p_dropout': 0.4577154411345198}. Best is trial 61 with value: 0.81.\u001b[0m\n"
     ]
    },
    {
     "name": "stderr",
     "output_type": "stream",
     "text": [
      "C:\\Users\\ramme\\anaconda3\\lib\\site-packages\\optuna\\distributions.py:535: UserWarning: Choices for a categorical distribution should be a tuple of None, bool, int, float and str for persistent storage but contains <class 'torch.optim.adamax.Adamax'> which is of type type.\n",
      "  warnings.warn(message)\n"
     ]
    },
    {
     "name": "stdout",
     "output_type": "stream",
     "text": [
      "Validation Accuracy: 76.60%\n",
      "\u001b[32m[I 2023-12-01 12:20:39,798]\u001b[0m Trial 89 finished with value: 0.766 and parameters: {'lr': 0.0016366598915233575, 'hidden_channels': 64, 'hidden_layers': 1, 'p_dropout': 0.4469450132932909, 'batch_size': 140, 'epochs': 50, 'optimizer': <class 'torch.optim.adamax.Adamax'>, 'weight_decay': 0.0060254932524087665, 'num_heads': 8, 'heads_p_dropout': 0.4545658363427461}. Best is trial 61 with value: 0.81.\u001b[0m\n"
     ]
    },
    {
     "name": "stderr",
     "output_type": "stream",
     "text": [
      "C:\\Users\\ramme\\anaconda3\\lib\\site-packages\\optuna\\distributions.py:535: UserWarning: Choices for a categorical distribution should be a tuple of None, bool, int, float and str for persistent storage but contains <class 'torch.optim.adamax.Adamax'> which is of type type.\n",
      "  warnings.warn(message)\n"
     ]
    },
    {
     "name": "stdout",
     "output_type": "stream",
     "text": [
      "Validation Accuracy: 46.80%\n",
      "\u001b[32m[I 2023-12-01 12:21:11,196]\u001b[0m Trial 90 finished with value: 0.468 and parameters: {'lr': 0.0016318918053187753, 'hidden_channels': 64, 'hidden_layers': 1, 'p_dropout': 0.5139892881444001, 'batch_size': 140, 'epochs': 20, 'optimizer': <class 'torch.optim.adamax.Adamax'>, 'weight_decay': 0.0052614868830169, 'num_heads': 8, 'heads_p_dropout': 0.30367945226160026}. Best is trial 61 with value: 0.81.\u001b[0m\n"
     ]
    },
    {
     "name": "stderr",
     "output_type": "stream",
     "text": [
      "C:\\Users\\ramme\\anaconda3\\lib\\site-packages\\optuna\\distributions.py:535: UserWarning: Choices for a categorical distribution should be a tuple of None, bool, int, float and str for persistent storage but contains <class 'torch.optim.adamax.Adamax'> which is of type type.\n",
      "  warnings.warn(message)\n"
     ]
    },
    {
     "name": "stdout",
     "output_type": "stream",
     "text": [
      "Validation Accuracy: 65.00%\n",
      "\u001b[32m[I 2023-12-01 12:21:27,376]\u001b[0m Trial 92 finished with value: 0.65 and parameters: {'lr': 0.00407805784628723, 'hidden_channels': 128, 'hidden_layers': 0, 'p_dropout': 0.49575961527735624, 'batch_size': 140, 'epochs': 10, 'optimizer': <class 'torch.optim.adamax.Adamax'>, 'weight_decay': 0.006394115488668492, 'num_heads': 8, 'heads_p_dropout': 0.3686095259965662}. Best is trial 61 with value: 0.81.\u001b[0m\n"
     ]
    },
    {
     "name": "stderr",
     "output_type": "stream",
     "text": [
      "C:\\Users\\ramme\\anaconda3\\lib\\site-packages\\optuna\\distributions.py:535: UserWarning: Choices for a categorical distribution should be a tuple of None, bool, int, float and str for persistent storage but contains <class 'torch.optim.adamax.Adamax'> which is of type type.\n",
      "  warnings.warn(message)\n"
     ]
    },
    {
     "name": "stdout",
     "output_type": "stream",
     "text": [
      "Validation Accuracy: 76.40%\n",
      "\u001b[32m[I 2023-12-01 12:21:46,152]\u001b[0m Trial 85 finished with value: 0.764 and parameters: {'lr': 0.0016508593143101688, 'hidden_channels': 256, 'hidden_layers': 1, 'p_dropout': 0.46510665017554265, 'batch_size': 140, 'epochs': 50, 'optimizer': <class 'torch.optim.adamax.Adamax'>, 'weight_decay': 0.006620829120669743, 'num_heads': 8, 'heads_p_dropout': 0.3083770882310144}. Best is trial 61 with value: 0.81.\u001b[0m\n"
     ]
    },
    {
     "name": "stderr",
     "output_type": "stream",
     "text": [
      "C:\\Users\\ramme\\anaconda3\\lib\\site-packages\\optuna\\distributions.py:535: UserWarning: Choices for a categorical distribution should be a tuple of None, bool, int, float and str for persistent storage but contains <class 'torch.optim.adamax.Adamax'> which is of type type.\n",
      "  warnings.warn(message)\n"
     ]
    },
    {
     "name": "stdout",
     "output_type": "stream",
     "text": [
      "Validation Accuracy: 48.20%\n",
      "\u001b[32m[I 2023-12-01 12:21:55,792]\u001b[0m Trial 91 finished with value: 0.482 and parameters: {'lr': 0.0027883795883242176, 'hidden_channels': 128, 'hidden_layers': 2, 'p_dropout': 0.5121549494726856, 'batch_size': 140, 'epochs': 20, 'optimizer': <class 'torch.optim.adamax.Adamax'>, 'weight_decay': 0.006427132750081086, 'num_heads': 8, 'heads_p_dropout': 0.3644434804348215}. Best is trial 61 with value: 0.81.\u001b[0m\n"
     ]
    },
    {
     "name": "stderr",
     "output_type": "stream",
     "text": [
      "C:\\Users\\ramme\\anaconda3\\lib\\site-packages\\optuna\\distributions.py:535: UserWarning: Choices for a categorical distribution should be a tuple of None, bool, int, float and str for persistent storage but contains <class 'torch.optim.adamax.Adamax'> which is of type type.\n",
      "  warnings.warn(message)\n"
     ]
    },
    {
     "name": "stdout",
     "output_type": "stream",
     "text": [
      "Validation Accuracy: 74.60%\n",
      "\u001b[32m[I 2023-12-01 12:22:00,415]\u001b[0m Trial 86 finished with value: 0.746 and parameters: {'lr': 0.0016039058095125532, 'hidden_channels': 256, 'hidden_layers': 1, 'p_dropout': 0.5102791918486367, 'batch_size': 140, 'epochs': 50, 'optimizer': <class 'torch.optim.adamax.Adamax'>, 'weight_decay': 0.0065527466087945, 'num_heads': 8, 'heads_p_dropout': 0.3139536716553981}. Best is trial 61 with value: 0.81.\u001b[0m\n"
     ]
    },
    {
     "name": "stderr",
     "output_type": "stream",
     "text": [
      "C:\\Users\\ramme\\anaconda3\\lib\\site-packages\\optuna\\distributions.py:535: UserWarning: Choices for a categorical distribution should be a tuple of None, bool, int, float and str for persistent storage but contains <class 'torch.optim.adamax.Adamax'> which is of type type.\n",
      "  warnings.warn(message)\n"
     ]
    },
    {
     "name": "stdout",
     "output_type": "stream",
     "text": [
      "Validation Accuracy: 76.00%\n",
      "\u001b[32m[I 2023-12-01 12:22:06,785]\u001b[0m Trial 87 finished with value: 0.76 and parameters: {'lr': 0.001781081443860884, 'hidden_channels': 256, 'hidden_layers': 1, 'p_dropout': 0.4435576740957322, 'batch_size': 140, 'epochs': 50, 'optimizer': <class 'torch.optim.adamax.Adamax'>, 'weight_decay': 0.006133124233805371, 'num_heads': 8, 'heads_p_dropout': 0.30600812639090247}. Best is trial 61 with value: 0.81.\u001b[0m\n"
     ]
    },
    {
     "name": "stderr",
     "output_type": "stream",
     "text": [
      "C:\\Users\\ramme\\anaconda3\\lib\\site-packages\\optuna\\distributions.py:535: UserWarning: Choices for a categorical distribution should be a tuple of None, bool, int, float and str for persistent storage but contains <class 'torch.optim.adamax.Adamax'> which is of type type.\n",
      "  warnings.warn(message)\n"
     ]
    },
    {
     "name": "stdout",
     "output_type": "stream",
     "text": [
      "Validation Accuracy: 76.40%\n",
      "\u001b[32m[I 2023-12-01 12:22:31,606]\u001b[0m Trial 95 finished with value: 0.764 and parameters: {'lr': 0.0014219239055352814, 'hidden_channels': 32, 'hidden_layers': 1, 'p_dropout': 0.494471940983598, 'batch_size': 140, 'epochs': 60, 'optimizer': <class 'torch.optim.adamax.Adamax'>, 'weight_decay': 0.005798040931020973, 'num_heads': 8, 'heads_p_dropout': 0.4369060544667774}. Best is trial 61 with value: 0.81.\u001b[0m\n"
     ]
    },
    {
     "name": "stderr",
     "output_type": "stream",
     "text": [
      "C:\\Users\\ramme\\anaconda3\\lib\\site-packages\\optuna\\distributions.py:535: UserWarning: Choices for a categorical distribution should be a tuple of None, bool, int, float and str for persistent storage but contains <class 'torch.optim.adamax.Adamax'> which is of type type.\n",
      "  warnings.warn(message)\n"
     ]
    },
    {
     "name": "stdout",
     "output_type": "stream",
     "text": [
      "Validation Accuracy: 77.60%\n",
      "\u001b[32m[I 2023-12-01 12:22:33,009]\u001b[0m Trial 96 finished with value: 0.776 and parameters: {'lr': 0.0029642909692842103, 'hidden_channels': 32, 'hidden_layers': 1, 'p_dropout': 0.4927658268462593, 'batch_size': 140, 'epochs': 60, 'optimizer': <class 'torch.optim.adamax.Adamax'>, 'weight_decay': 0.005827878970070445, 'num_heads': 8, 'heads_p_dropout': 0.4342007316790981}. Best is trial 61 with value: 0.81.\u001b[0m\n"
     ]
    },
    {
     "name": "stderr",
     "output_type": "stream",
     "text": [
      "C:\\Users\\ramme\\anaconda3\\lib\\site-packages\\optuna\\distributions.py:535: UserWarning: Choices for a categorical distribution should be a tuple of None, bool, int, float and str for persistent storage but contains <class 'torch.optim.adamax.Adamax'> which is of type type.\n",
      "  warnings.warn(message)\n"
     ]
    },
    {
     "name": "stdout",
     "output_type": "stream",
     "text": [
      "Validation Accuracy: 78.40%\n",
      "\u001b[32m[I 2023-12-01 12:22:37,520]\u001b[0m Trial 94 finished with value: 0.784 and parameters: {'lr': 0.0027540533103146037, 'hidden_channels': 64, 'hidden_layers': 0, 'p_dropout': 0.47595511829559634, 'batch_size': 140, 'epochs': 110, 'optimizer': <class 'torch.optim.adamax.Adamax'>, 'weight_decay': 0.005319784351739676, 'num_heads': 8, 'heads_p_dropout': 0.6834849604328248}. Best is trial 61 with value: 0.81.\u001b[0m\n",
      "Validation Accuracy: 53.00%\n",
      "\u001b[32m[I 2023-12-01 12:22:38,327]\u001b[0m Trial 97 finished with value: 0.53 and parameters: {'lr': 0.001123810010552763, 'hidden_channels': 32, 'hidden_layers': 1, 'p_dropout': 0.4968870028501719, 'batch_size': 140, 'epochs': 60, 'optimizer': <class 'torch.optim.adamax.Adamax'>, 'weight_decay': 0.007238321857802193, 'num_heads': 8, 'heads_p_dropout': 0.4336462926658107}. Best is trial 61 with value: 0.81.\u001b[0m\n",
      "Validation Accuracy: 77.40%\n",
      "\u001b[32m[I 2023-12-01 12:22:45,366]\u001b[0m Trial 98 finished with value: 0.774 and parameters: {'lr': 0.0011480595690272078, 'hidden_channels': 32, 'hidden_layers': 0, 'p_dropout': 0.4760732714198087, 'batch_size': 140, 'epochs': 60, 'optimizer': <class 'torch.optim.adamax.Adamax'>, 'weight_decay': 0.005295638188281523, 'num_heads': 8, 'heads_p_dropout': 0.43731031515110735}. Best is trial 61 with value: 0.81.\u001b[0m\n",
      "Validation Accuracy: 78.20%\n",
      "\u001b[32m[I 2023-12-01 12:22:54,426]\u001b[0m Trial 99 finished with value: 0.782 and parameters: {'lr': 0.0010514239723283844, 'hidden_channels': 32, 'hidden_layers': 0, 'p_dropout': 0.5198572502450045, 'batch_size': 140, 'epochs': 110, 'optimizer': <class 'torch.optim.adamax.Adamax'>, 'weight_decay': 0.005370384432304594, 'num_heads': 8, 'heads_p_dropout': 0.41056622443666246}. Best is trial 61 with value: 0.81.\u001b[0m\n",
      "Validation Accuracy: 74.00%\n",
      "\u001b[32m[I 2023-12-01 12:23:06,804]\u001b[0m Trial 93 finished with value: 0.74 and parameters: {'lr': 0.003003592352911351, 'hidden_channels': 64, 'hidden_layers': 2, 'p_dropout': 0.4770941838676899, 'batch_size': 140, 'epochs': 110, 'optimizer': <class 'torch.optim.adamax.Adamax'>, 'weight_decay': 0.00719865739325192, 'num_heads': 8, 'heads_p_dropout': 0.276038247630024}. Best is trial 61 with value: 0.81.\u001b[0m\n",
      "FrozenTrial(number=61, state=TrialState.COMPLETE, values=[0.81], datetime_start=datetime.datetime(2023, 12, 1, 12, 14, 36, 995616), datetime_complete=datetime.datetime(2023, 12, 1, 12, 15, 22, 108286), params={'lr': 0.0013191168503116166, 'hidden_channels': 64, 'hidden_layers': 1, 'p_dropout': 0.5048414017214051, 'batch_size': 140, 'epochs': 60, 'optimizer': <class 'torch.optim.adamax.Adamax'>, 'weight_decay': 0.005908460006339683, 'num_heads': 8, 'heads_p_dropout': 0.4423211437386582}, user_attrs={}, system_attrs={}, intermediate_values={1: 1.9465137720108032, 2: 1.9413384199142456, 3: 1.934877872467041, 4: 1.9314810037612915, 5: 1.9244914054870605, 6: 1.919739007949829, 7: 1.9134184122085571, 8: 1.9103643894195557, 9: 1.9036946296691895, 10: 1.8978710174560547, 11: 1.888895034790039, 12: 1.882323145866394, 13: 1.8727598190307617, 14: 1.8638240098953247, 15: 1.8519049882888794, 16: 1.8383228778839111, 17: 1.8221893310546875, 18: 1.8119678497314453, 19: 1.7888339757919312, 20: 1.7735544443130493, 21: 1.7605690956115723, 22: 1.7321791648864746, 23: 1.7203843593597412, 24: 1.694782018661499, 25: 1.6750781536102295, 26: 1.6496531963348389, 27: 1.6349421739578247, 28: 1.608742117881775, 29: 1.5900403261184692, 30: 1.5687665939331055, 31: 1.5501928329467773, 32: 1.533866286277771, 33: 1.5148025751113892, 34: 1.4986317157745361, 35: 1.4809255599975586, 36: 1.470541000366211, 37: 1.4532920122146606, 38: 1.4445292949676514, 39: 1.4318205118179321, 40: 1.4232546091079712, 41: 1.4133591651916504, 42: 1.4061282873153687, 43: 1.391248106956482, 44: 1.3953826427459717, 45: 1.379309058189392, 46: 1.3775861263275146, 47: 1.366969347000122, 48: 1.3594646453857422, 49: 1.352010726928711, 50: 1.3527023792266846, 51: 1.3444267511367798, 52: 1.3435497283935547, 53: 1.3285155296325684, 54: 1.3290765285491943, 55: 1.3213540315628052, 56: 1.3223025798797607, 57: 1.3199807405471802, 58: 1.314035415649414, 59: 1.3132990598678589, 60: 1.3053030967712402}, distributions={'lr': FloatDistribution(high=0.01, log=True, low=1e-05, step=None), 'hidden_channels': CategoricalDistribution(choices=(8, 16, 32, 64, 128, 256)), 'hidden_layers': CategoricalDistribution(choices=(0, 1, 2)), 'p_dropout': FloatDistribution(high=0.7, log=False, low=0.4, step=None), 'batch_size': CategoricalDistribution(choices=(140,)), 'epochs': CategoricalDistribution(choices=(10, 20, 30, 40, 50, 60, 70, 80, 90, 100, 110, 120)), 'optimizer': CategoricalDistribution(choices=(<class 'torch.optim.adamax.Adamax'>,)), 'weight_decay': FloatDistribution(high=0.01, log=False, low=1e-05, step=None), 'num_heads': CategoricalDistribution(choices=(4, 8, 16)), 'heads_p_dropout': FloatDistribution(high=0.7, log=False, low=0.1, step=None)}, trial_id=61, value=None)\n"
     ]
    }
   ],
   "source": [
    "import optuna\n",
    "from optuna.pruners import SuccessiveHalvingPruner, NopPruner\n",
    "from torch.optim import SGD, RMSprop, Adagrad, Adadelta, Adam, Adamax, NAdam\n",
    "import numpy as np\n",
    "\n",
    "n_trails = 100\n",
    "n_jobs = 5 # Number of parallel jobs\n",
    "\n",
    "def objective(trial):\n",
    "    lr = trial.suggest_float('lr', 1e-5, 1e-2, log=True)\n",
    "    hidden_channels = trial.suggest_categorical('hidden_channels', [8,16,32,64,128,256]) #try [16,32,64,128,256]\n",
    "    size_gat = trial.suggest_categorical('hidden_layers', [0,1,2])\n",
    "    p_dropout = trial.suggest_float('p_dropout', 0.4, 0.7)\n",
    "    batch_size=trial.suggest_categorical('batch_size', [140]) # entire training set / batch training\n",
    "    epochs = trial.suggest_categorical('epochs', np.arange(10,130,10).tolist())\n",
    "    #optimizer = trial.suggest_categorical('optimizer', [SGD, RMSprop, Adagrad, Adadelta, Adam, Adamax, NAdam])\n",
    "    optimizer = trial.suggest_categorical('optimizer', [Adamax])\n",
    "    weight_decay = trial.suggest_float('weight_decay', 1e-5, 1e-2)\n",
    "    num_heads = trial.suggest_categorical('num_heads', [4,8,16])\n",
    "    heads_p_dropout = trial.suggest_float('heads_p_dropout', 0.1, 0.7)\n",
    "    \n",
    "    data = dataset[0]\n",
    "    loader = DataLoader(dataset, batch_size=batch_size, shuffle=True)\n",
    "    #(self, num_features, num_classes, hidden_channels, dropout, num_heads, size_gat)\n",
    "    model = GAT(num_features=data.num_features, num_classes=dataset.num_classes, hidden_channels=hidden_channels, \n",
    "                num_heads=num_heads, heads_p_dropout=heads_p_dropout,size_gat=size_gat, p_dropout=p_dropout)\n",
    "    optimizer = optimizer(model.parameters(), lr=lr, weight_decay=weight_decay)#, momentum=0.9) #for RMSprop\n",
    "\n",
    "    for epoch in range(1, epochs+1):\n",
    "        for data in loader:\n",
    "            criterion=nn.CrossEntropyLoss()\n",
    "            model.train()\n",
    "            optimizer.zero_grad()\n",
    "            out = model(data.x, data.edge_index)\n",
    "            loss = criterion(out[data.train_mask], data.y[data.train_mask])\n",
    "            loss.backward()\n",
    "            optimizer.step()\n",
    "\n",
    "            trial.report(loss, epoch)\n",
    "\n",
    "            if trial.should_prune():\n",
    "                raise optuna.exceptions.TrialPruned()\n",
    "\n",
    "    # Validate model\n",
    "    model.eval()\n",
    "    out = model(data.x, data.edge_index)  # Predicted probabilities\n",
    "    probas = torch.nn.functional.softmax(out, dim=1)  # Convert logits to probabilities\n",
    "    pred = probas.argmax(dim=1)\n",
    "\n",
    "    # Only consider validation data\n",
    "    true_labels = data.y[data.val_mask].cpu().numpy()\n",
    "    predicted_labels = pred[data.val_mask].cpu().numpy()\n",
    "\n",
    "    # Recall\n",
    "    recall = recall_score(true_labels, predicted_labels, average='macro')  # Using macro average\n",
    "\n",
    "    # Acuracy\n",
    "    correct = pred[data.val_mask].eq(data.y[data.val_mask]).sum().item()\n",
    "    acc = correct / data.val_mask.sum().item()\n",
    "    print(f'Validation Accuracy: {acc * 100:.2f}%')\n",
    "    \n",
    "    # F1 score\n",
    "    f1 = f1_score(true_labels, predicted_labels, average='macro')\n",
    "\n",
    "    #append the metrics to a csv file, and include the columns: avg_auc, recall, acc, f1\n",
    "    with open('GAT_cora_test_results04.csv', 'a') as f:\n",
    "        optimizer_name=optimizer.__class__.__name__\n",
    "        f.write(f'{batch_size}, {hidden_channels}, {num_heads},{size_gat},{heads_p_dropout},{lr}, {weight_decay}, {epochs}, {p_dropout}, {optimizer_name},{recall},{acc},{f1}\\n')\n",
    "    \n",
    "    return acc\n",
    "\n",
    "study = optuna.create_study(direction=\"maximize\", pruner=NopPruner())\n",
    "#study = optuna.create_study(direction=\"minimize\", pruner=SuccessiveHalvingPruner(min_resource=1, reduction_factor=4, min_early_stopping_rate=0))\n",
    "study.optimize(objective, n_trials=n_trails, timeout=6000, n_jobs=n_jobs,show_progress_bar = True)\n",
    "print(study.best_trial)"
   ]
  },
  {
   "cell_type": "code",
   "execution_count": 4,
   "id": "7e4963f6-8330-4941-98fd-08cbe14335a5",
   "metadata": {},
   "outputs": [
    {
     "name": "stdout",
     "output_type": "stream",
     "text": [
      "{'lr': 0.00010436594091179323, 'hidden_channels': 16, 'hidden_layers': 0, 'p_dropout': 0.4465534667574045, 'batch_size': 128, 'epochs': 200, 'optimizer': <class 'torch.optim.adam.Adam'>, 'weight_decay': 5.40503466421723e-05, 'num_heads': 8}\n"
     ]
    }
   ],
   "source": [
    "print(study.best_params)"
   ]
  },
  {
   "cell_type": "code",
   "execution_count": 3,
   "id": "bd697959-4bdb-4a59-ad15-84e116aaab64",
   "metadata": {},
   "outputs": [
    {
     "data": {
      "text/html": [
       "<div>\n",
       "<style scoped>\n",
       "    .dataframe tbody tr th:only-of-type {\n",
       "        vertical-align: middle;\n",
       "    }\n",
       "\n",
       "    .dataframe tbody tr th {\n",
       "        vertical-align: top;\n",
       "    }\n",
       "\n",
       "    .dataframe thead th {\n",
       "        text-align: right;\n",
       "    }\n",
       "</style>\n",
       "<table border=\"1\" class=\"dataframe\">\n",
       "  <thead>\n",
       "    <tr style=\"text-align: right;\">\n",
       "      <th></th>\n",
       "      <th>batch_size</th>\n",
       "      <th>hidden_channels</th>\n",
       "      <th>num_heads</th>\n",
       "      <th>size_gat</th>\n",
       "      <th>heads_p_dropout</th>\n",
       "      <th>lr</th>\n",
       "      <th>weight_decay</th>\n",
       "      <th>epochs</th>\n",
       "      <th>p_dropout</th>\n",
       "      <th>optimizer</th>\n",
       "      <th>recall</th>\n",
       "      <th>acc</th>\n",
       "      <th>f1</th>\n",
       "    </tr>\n",
       "  </thead>\n",
       "  <tbody>\n",
       "    <tr>\n",
       "      <th>264</th>\n",
       "      <td>140</td>\n",
       "      <td>64</td>\n",
       "      <td>8</td>\n",
       "      <td>1</td>\n",
       "      <td>0.442321</td>\n",
       "      <td>0.001319</td>\n",
       "      <td>0.005908</td>\n",
       "      <td>60</td>\n",
       "      <td>0.504841</td>\n",
       "      <td>Adamax</td>\n",
       "      <td>0.820408</td>\n",
       "      <td>0.810</td>\n",
       "      <td>0.796731</td>\n",
       "    </tr>\n",
       "    <tr>\n",
       "      <th>178</th>\n",
       "      <td>140</td>\n",
       "      <td>128</td>\n",
       "      <td>8</td>\n",
       "      <td>1</td>\n",
       "      <td>0.699724</td>\n",
       "      <td>0.004374</td>\n",
       "      <td>0.007152</td>\n",
       "      <td>60</td>\n",
       "      <td>0.549744</td>\n",
       "      <td>Adamax</td>\n",
       "      <td>0.823069</td>\n",
       "      <td>0.808</td>\n",
       "      <td>0.797650</td>\n",
       "    </tr>\n",
       "    <tr>\n",
       "      <th>86</th>\n",
       "      <td>140</td>\n",
       "      <td>64</td>\n",
       "      <td>8</td>\n",
       "      <td>0</td>\n",
       "      <td>0.620153</td>\n",
       "      <td>0.002870</td>\n",
       "      <td>0.002089</td>\n",
       "      <td>20</td>\n",
       "      <td>0.672601</td>\n",
       "      <td>Adam</td>\n",
       "      <td>0.809805</td>\n",
       "      <td>0.802</td>\n",
       "      <td>0.790469</td>\n",
       "    </tr>\n",
       "    <tr>\n",
       "      <th>142</th>\n",
       "      <td>140</td>\n",
       "      <td>32</td>\n",
       "      <td>8</td>\n",
       "      <td>1</td>\n",
       "      <td>0.686240</td>\n",
       "      <td>0.001427</td>\n",
       "      <td>0.000351</td>\n",
       "      <td>20</td>\n",
       "      <td>0.532862</td>\n",
       "      <td>Adam</td>\n",
       "      <td>0.791978</td>\n",
       "      <td>0.798</td>\n",
       "      <td>0.785846</td>\n",
       "    </tr>\n",
       "    <tr>\n",
       "      <th>192</th>\n",
       "      <td>140</td>\n",
       "      <td>256</td>\n",
       "      <td>8</td>\n",
       "      <td>1</td>\n",
       "      <td>0.656421</td>\n",
       "      <td>0.000918</td>\n",
       "      <td>0.009433</td>\n",
       "      <td>90</td>\n",
       "      <td>0.450874</td>\n",
       "      <td>Adamax</td>\n",
       "      <td>0.815967</td>\n",
       "      <td>0.798</td>\n",
       "      <td>0.785716</td>\n",
       "    </tr>\n",
       "    <tr>\n",
       "      <th>19</th>\n",
       "      <td>140</td>\n",
       "      <td>16</td>\n",
       "      <td>16</td>\n",
       "      <td>1</td>\n",
       "      <td>0.317787</td>\n",
       "      <td>0.000464</td>\n",
       "      <td>0.004264</td>\n",
       "      <td>60</td>\n",
       "      <td>0.493932</td>\n",
       "      <td>RMSprop</td>\n",
       "      <td>0.813187</td>\n",
       "      <td>0.796</td>\n",
       "      <td>0.788267</td>\n",
       "    </tr>\n",
       "    <tr>\n",
       "      <th>190</th>\n",
       "      <td>140</td>\n",
       "      <td>8</td>\n",
       "      <td>8</td>\n",
       "      <td>2</td>\n",
       "      <td>0.278171</td>\n",
       "      <td>0.003691</td>\n",
       "      <td>0.002000</td>\n",
       "      <td>110</td>\n",
       "      <td>0.595328</td>\n",
       "      <td>Adamax</td>\n",
       "      <td>0.818523</td>\n",
       "      <td>0.794</td>\n",
       "      <td>0.787752</td>\n",
       "    </tr>\n",
       "    <tr>\n",
       "      <th>201</th>\n",
       "      <td>140</td>\n",
       "      <td>32</td>\n",
       "      <td>8</td>\n",
       "      <td>0</td>\n",
       "      <td>0.425403</td>\n",
       "      <td>0.004503</td>\n",
       "      <td>0.006155</td>\n",
       "      <td>20</td>\n",
       "      <td>0.584113</td>\n",
       "      <td>Adamax</td>\n",
       "      <td>0.814421</td>\n",
       "      <td>0.794</td>\n",
       "      <td>0.783548</td>\n",
       "    </tr>\n",
       "    <tr>\n",
       "      <th>67</th>\n",
       "      <td>140</td>\n",
       "      <td>8</td>\n",
       "      <td>4</td>\n",
       "      <td>0</td>\n",
       "      <td>0.407551</td>\n",
       "      <td>0.009288</td>\n",
       "      <td>0.001757</td>\n",
       "      <td>90</td>\n",
       "      <td>0.599208</td>\n",
       "      <td>Adam</td>\n",
       "      <td>0.805100</td>\n",
       "      <td>0.792</td>\n",
       "      <td>0.780690</td>\n",
       "    </tr>\n",
       "    <tr>\n",
       "      <th>39</th>\n",
       "      <td>140</td>\n",
       "      <td>16</td>\n",
       "      <td>16</td>\n",
       "      <td>1</td>\n",
       "      <td>0.171058</td>\n",
       "      <td>0.000906</td>\n",
       "      <td>0.005002</td>\n",
       "      <td>120</td>\n",
       "      <td>0.551317</td>\n",
       "      <td>RMSprop</td>\n",
       "      <td>0.811165</td>\n",
       "      <td>0.792</td>\n",
       "      <td>0.780957</td>\n",
       "    </tr>\n",
       "  </tbody>\n",
       "</table>\n",
       "</div>"
      ],
      "text/plain": [
       "     batch_size  hidden_channels  num_heads  size_gat  heads_p_dropout  \\\n",
       "264         140               64          8         1         0.442321   \n",
       "178         140              128          8         1         0.699724   \n",
       "86          140               64          8         0         0.620153   \n",
       "142         140               32          8         1         0.686240   \n",
       "192         140              256          8         1         0.656421   \n",
       "19          140               16         16         1         0.317787   \n",
       "190         140                8          8         2         0.278171   \n",
       "201         140               32          8         0         0.425403   \n",
       "67          140                8          4         0         0.407551   \n",
       "39          140               16         16         1         0.171058   \n",
       "\n",
       "           lr  weight_decay  epochs  p_dropout optimizer    recall    acc  \\\n",
       "264  0.001319      0.005908      60   0.504841    Adamax  0.820408  0.810   \n",
       "178  0.004374      0.007152      60   0.549744    Adamax  0.823069  0.808   \n",
       "86   0.002870      0.002089      20   0.672601      Adam  0.809805  0.802   \n",
       "142  0.001427      0.000351      20   0.532862      Adam  0.791978  0.798   \n",
       "192  0.000918      0.009433      90   0.450874    Adamax  0.815967  0.798   \n",
       "19   0.000464      0.004264      60   0.493932   RMSprop  0.813187  0.796   \n",
       "190  0.003691      0.002000     110   0.595328    Adamax  0.818523  0.794   \n",
       "201  0.004503      0.006155      20   0.584113    Adamax  0.814421  0.794   \n",
       "67   0.009288      0.001757      90   0.599208      Adam  0.805100  0.792   \n",
       "39   0.000906      0.005002     120   0.551317   RMSprop  0.811165  0.792   \n",
       "\n",
       "           f1  \n",
       "264  0.796731  \n",
       "178  0.797650  \n",
       "86   0.790469  \n",
       "142  0.785846  \n",
       "192  0.785716  \n",
       "19   0.788267  \n",
       "190  0.787752  \n",
       "201  0.783548  \n",
       "67   0.780690  \n",
       "39   0.780957  "
      ]
     },
     "execution_count": 3,
     "metadata": {},
     "output_type": "execute_result"
    }
   ],
   "source": [
    "import pandas as pd\n",
    "results_df = pd.read_csv('GAT_cora_test_results04.csv', header=None)\n",
    "results_df.columns = ['batch_size', 'hidden_channels', 'num_heads','size_gat','heads_p_dropout', 'lr', 'weight_decay', 'epochs', 'p_dropout', 'optimizer', 'recall', 'acc', 'f1']\n",
    "\n",
    "results_df.sort_values('acc', ascending=False).iloc[:10]\n",
    "#results_df.loc[results_df['optimizer']]\n",
    "#results_df[results_df.optimizer.str.contains('Adam')].sort_values('acc', ascending=False).iloc[:5]\n",
    "\n",
    "#Model with intermediate dropouts\n",
    "# 128 16 16\t0 0.692889\t0.000491\t0.002541\t100\t0.597672\tAdam\t0.826481\t0.810\t0.795890 | recall 0.811940 acc 0.791800 f1 0.790024\n",
    "# 256 8\t8\t1 0.342939\t0.003539\t0.006355\t100\t0.615685\tAdam\t0.818477\t0.798\t0.788357 | recall 0.799963 acc 0.784200 f1 0.778919\n",
    "# 16 8 8    1 0.214470\t0.001952\t0.005183\t100\t0.561916\tAdam\t0.821532\t0.796\t0.786771 | recall 0.806776 acc 0.793900 f1 0.787959\n",
    "# 256 8\t8\t0 0.693739\t0.001282\t0.005451\t100\t0.695004\tAdam\t0.808504\t0.792\t0.777007 | recall 0.821401 acc 0.802500 f1 0.798981\n",
    "\n",
    "# 16 8\t8\t1 0.365570\t0.003452\t0.005054\t100\t0.515095\tRMSprop\t0.811762\t0.798\t0.784681 | recall 0.80490 acc 0.78300 f1 0.78022\n",
    "# 16 16\t8\t1 0.361727\t0.000210\t0.003056\t100\t0.497582\tRMSprop\t0.819189\t0.792\t0.790542 | recall 0.807747 acc 0.787900 f1 0.785956\n",
    "\n",
    "# 16 16\t16\t1 0.298358\t0.000509\t0.006146\t200\t0.520403\tAdamax\t0.833137\t0.812\t0.806787 | recall 0.810468 acc 0.791000 f1 0.788410\n",
    "# 16 32\t16\t1 0.221265\t0.000761\t0.005568\t200\t0.525549\tAdamax\t0.807103\t0.788\t0.775959 | recall 0.798144 acc 0.782200 f1 0.779102"
   ]
  },
  {
   "cell_type": "code",
   "execution_count": 3,
   "id": "7e29821b-39c4-41ef-8ce2-3005360cd777",
   "metadata": {},
   "outputs": [
    {
     "name": "stdout",
     "output_type": "stream",
     "text": [
      "The file was deleted\n"
     ]
    }
   ],
   "source": [
    "# DELETE FILE that stores the HYPERPARAMETERS\n",
    "# import os\n",
    "# if os.path.exists(\"GAT_cora_test_results04.csv\"):\n",
    "#     os.remove(\"GAT_cora_test_results04.csv\")\n",
    "#     print(\"The file was deleted\")\n",
    "# else:\n",
    "#   print(\"The file does not exist\")"
   ]
  },
  {
   "cell_type": "code",
   "execution_count": 16,
   "id": "da57c8f8-de33-4f77-964b-b0caf0b466c8",
   "metadata": {},
   "outputs": [],
   "source": [
    "# Get hyperparameters from dataframe\n",
    "slc_row=2\n",
    "batch_size=int(results_df.sort_values('acc', ascending=False).iloc[slc_row]['batch_size'])\n",
    "hidden_channels = int(results_df.sort_values('acc', ascending=False).iloc[slc_row]['hidden_channels'])\n",
    "size_gat = results_df.sort_values('acc', ascending=False).iloc[slc_row]['size_gat']\n",
    "lr = results_df.sort_values('acc', ascending=False).iloc[slc_row]['lr']\n",
    "weight_decay = results_df.sort_values('acc', ascending=False).iloc[slc_row]['weight_decay']\n",
    "epochs = results_df.sort_values('acc', ascending=False).iloc[slc_row]['epochs']\n",
    "p_dropout = results_df.sort_values('acc', ascending=False).iloc[slc_row]['p_dropout']\n",
    "num_heads = int(results_df.sort_values('acc', ascending=False).iloc[slc_row]['num_heads'])\n",
    "heads_p_dropout=int(results_df.sort_values('acc', ascending=False).iloc[slc_row]['heads_p_dropout'])"
   ]
  },
  {
   "cell_type": "code",
   "execution_count": 56,
   "id": "55e93ef0-8196-45e1-8469-c7ef3ae2bd8d",
   "metadata": {},
   "outputs": [
    {
     "data": {
      "text/plain": [
       "{'lr': 0.0006522990207284269,\n",
       " 'hidden_channels': 8,\n",
       " 'hidden_layers': 1,\n",
       " 'p_dropout': 0.6760540197652862,\n",
       " 'batch_size': 128,\n",
       " 'epochs': 200,\n",
       " 'optimizer': torch.optim.rmsprop.RMSprop,\n",
       " 'weight_decay': 0.004112674572557716,\n",
       " 'num_heads': 8}"
      ]
     },
     "execution_count": 56,
     "metadata": {},
     "output_type": "execute_result"
    }
   ],
   "source": [
    "study.best_params"
   ]
  },
  {
   "cell_type": "code",
   "execution_count": 27,
   "id": "945d38e8-25c9-4ee8-af94-3899373eb30b",
   "metadata": {},
   "outputs": [],
   "source": [
    "# Get hyperparameters from dataframe - select specific OPTIMIZER\n",
    "slc_row=0\n",
    "optim='RMSprop'\n",
    "batch_size=int(results_df[results_df.optimizer.str.contains(optim)].sort_values('acc', ascending=False).iloc[slc_row]['batch_size'])\n",
    "hidden_channels = int(results_df[results_df.optimizer.str.contains(optim)].sort_values('acc', ascending=False).iloc[slc_row]['hidden_channels'])\n",
    "size_gat = results_df[results_df.optimizer.str.contains(optim)].sort_values('acc', ascending=False).iloc[slc_row]['size_gat']\n",
    "lr = results_df[results_df.optimizer.str.contains(optim)].sort_values('acc', ascending=False).iloc[slc_row]['lr']\n",
    "weight_decay = results_df[results_df.optimizer.str.contains(optim)].sort_values('acc', ascending=False).iloc[slc_row]['weight_decay']\n",
    "epochs = results_df[results_df.optimizer.str.contains(optim)].sort_values('acc', ascending=False).iloc[slc_row]['epochs']\n",
    "p_dropout = results_df[results_df.optimizer.str.contains(optim)].sort_values('acc', ascending=False).iloc[slc_row]['p_dropout']\n",
    "num_heads = int(results_df[results_df.optimizer.str.contains(optim)].sort_values('acc', ascending=False).iloc[slc_row]['num_heads'])\n",
    "heads_p_dropout = int(results_df[results_df.optimizer.str.contains(optim)].sort_values('acc', ascending=False).iloc[slc_row]['heads_p_dropout'])"
   ]
  },
  {
   "cell_type": "code",
   "execution_count": 17,
   "id": "2d262022-7594-4246-a2da-f7fff4a5b005",
   "metadata": {},
   "outputs": [
    {
     "data": {
      "text/plain": [
       "0.0028700863669291"
      ]
     },
     "execution_count": 17,
     "metadata": {},
     "output_type": "execute_result"
    }
   ],
   "source": [
    "lr"
   ]
  },
  {
   "cell_type": "code",
   "execution_count": 26,
   "id": "0017e39f-35cf-48f2-9650-967ed8ffa645",
   "metadata": {},
   "outputs": [],
   "source": [
    "# Hyperparameters from study\n",
    "batch_size = study.best_params['batch_size']\n",
    "hidden_channels = study.best_params['hidden_channels']\n",
    "size_gat = study.best_params['hidden_layers']\n",
    "lr = study.best_params['lr']\n",
    "weight_decay = study.best_params['weight_decay']\n",
    "epochs = study.best_params['epochs']\n",
    "p_dropout = study.best_params['dropout']\n",
    "num_heads = study.best_params['num_heads']\n",
    "optimizer = Adam"
   ]
  },
  {
   "cell_type": "code",
   "execution_count": 74,
   "id": "ba2e1f99-8420-4d2b-9d90-e15ffa0e8495",
   "metadata": {},
   "outputs": [],
   "source": [
    "# Manually set hyperparameters\n",
    "# Best model so far\n",
    "batch_size = 32\n",
    "hidden_channels = 8\n",
    "size_gat = 0\n",
    "lr = 0.003663\t\n",
    "weight_decay = 0.005504\n",
    "epochs = 100\n",
    "p_dropout = 0.660999\n",
    "num_heads = 16\n",
    "optimizer = RMSprop"
   ]
  },
  {
   "cell_type": "code",
   "execution_count": 5,
   "id": "ab3552a3-b77b-4480-84b5-383352d8728f",
   "metadata": {},
   "outputs": [],
   "source": [
    "from torch.optim import SGD, RMSprop, Adagrad, Adadelta, Adam, Adamax, NAdam\n",
    "#optimizer = Adam\n",
    "def train(model,optimizer,data,epoch):\n",
    "    criterion=nn.CrossEntropyLoss()\n",
    "    model.train()\n",
    "    optimizer.zero_grad()\n",
    "    out = model(data.x, data.edge_index)\n",
    "    loss = criterion(out[data.train_mask], data.y[data.train_mask])\n",
    "    loss.backward()\n",
    "    optimizer.step()\n",
    "    #print(f'Epoch: {epoch}, Loss: {loss.item()}')\n",
    "\n",
    "def test(model, data):\n",
    "    model.eval()\n",
    "    out = model(data.x, data.edge_index)  # Predicted probabilities\n",
    "    probas = torch.nn.functional.softmax(out, dim=1)  # Convert logits to probabilities\n",
    "    pred = probas.argmax(dim=1)\n",
    "\n",
    "    # Test data\n",
    "    true_labels = data.y[data.test_mask].cpu().numpy()\n",
    "    predicted_labels = pred[data.test_mask].cpu().numpy()\n",
    "\n",
    "    # Recall\n",
    "    recall = recall_score(true_labels, predicted_labels, average='macro')  # Using macro average\n",
    "    #print(f'Test Recall: {recall:.4f}')\n",
    "\n",
    "    # Acuracy\n",
    "    correct = pred[data.test_mask].eq(data.y[data.test_mask]).sum().item()\n",
    "    acc = correct / data.test_mask.sum().item()\n",
    "    #print(f'Test Accuracy: {acc * 100:.2f}%')\n",
    "\n",
    "    # F1 score\n",
    "    f1 = f1_score(true_labels, predicted_labels, average='macro')\n",
    "    #print(f'Test F1 score: {f1:.4f}')\n",
    "\n",
    "    #append the metrics to a csv file, and include the columns: avg_auc, recall, acc, f1\n",
    "    with open('GAT_cora_best_model_metrics04.csv', 'a') as f:\n",
    "        f.write(f'{recall},{acc},{f1}\\n')\n",
    "\n",
    "def test_GAT(dataset,batch_size,hidden_channels,p_dropout,num_heads,heads_p_dropout,size_gat,optimizer,lr,weight_decay,epochs):\n",
    "#(self, num_features, num_classes, hidden_channels, dropout, num_heads, size_gat)\n",
    "    data = dataset[0]\n",
    "    loader = DataLoader(dataset, batch_size, shuffle=True)\n",
    "    # Initialize the model and optimizer\n",
    "    model = GAT(num_features=data.num_features, num_classes=dataset.num_classes, hidden_channels=hidden_channels, p_dropout=p_dropout, \n",
    "                heads_p_dropout=heads_p_dropout,num_heads=num_heads, size_gat=size_gat)\n",
    "    optimizer = optimizer(model.parameters(), lr=lr, weight_decay=weight_decay, momentum=0.9) #for RMSprop\n",
    "    # Training loop\n",
    "    for epoch in range(1, epochs+1):\n",
    "        for data in loader:\n",
    "            train(model,optimizer,data,epoch)\n",
    "    \n",
    "    test(model,data)"
   ]
  },
  {
   "cell_type": "code",
   "execution_count": 29,
   "id": "3c615fe4-4d25-4178-a8d9-8c19e66f7044",
   "metadata": {},
   "outputs": [
    {
     "name": "stdout",
     "output_type": "stream",
     "text": [
      "The file was deleted\n"
     ]
    }
   ],
   "source": [
    "# DELETE FILE that stores the METRICS\n",
    "import os\n",
    "if os.path.exists(\"GAT_cora_best_model_metrics04.csv\"):\n",
    "    os.remove(\"GAT_cora_best_model_metrics04.csv\")\n",
    "    print(\"The file was deleted\")\n",
    "else:\n",
    "  print(\"The file does not exist\")"
   ]
  },
  {
   "cell_type": "code",
   "execution_count": 30,
   "id": "588a0c37-de60-4585-843b-25198b39558b",
   "metadata": {},
   "outputs": [],
   "source": [
    "import time\n",
    "times=[]\n",
    "optimizer=RMSprop\n",
    "momentum = 0.9\n",
    "for i in range (0,10):\n",
    "    st = time.time()\n",
    "    test_GAT(dataset,batch_size,hidden_channels,p_dropout,num_heads,heads_p_dropout,size_gat,optimizer,lr,weight_decay,epochs)\n",
    "    et = time.time()\n",
    "    elapsed_time = et - st\n",
    "    #print('Execution time:', elapsed_time, 'seconds')\n",
    "    times.append(elapsed_time)"
   ]
  },
  {
   "cell_type": "code",
   "execution_count": 31,
   "id": "f164122f-e105-4e3e-bcc0-c83fca78daa2",
   "metadata": {},
   "outputs": [],
   "source": [
    "import pandas as pd\n",
    "best_model_df = pd.read_csv('GAT_cora_best_model_metrics04.csv', header=None)\n",
    "best_model_df.columns = ['recall', 'acc', 'f1']\n",
    "best_model_df['train_and_test_time']=times\n",
    "avg_df=best_model_df[['recall', 'acc', 'f1','train_and_test_time']].mean()"
   ]
  },
  {
   "cell_type": "code",
   "execution_count": 32,
   "id": "04e3dde3-9c9c-44fa-940d-268e4e97b2cd",
   "metadata": {},
   "outputs": [
    {
     "data": {
      "text/plain": [
       "recall                 0.798520\n",
       "acc                    0.780400\n",
       "f1                     0.776577\n",
       "train_and_test_time    6.936770\n",
       "dtype: float64"
      ]
     },
     "execution_count": 32,
     "metadata": {},
     "output_type": "execute_result"
    }
   ],
   "source": [
    "avg_df #0.77"
   ]
  },
  {
   "cell_type": "code",
   "execution_count": 33,
   "id": "0ee21972-9f5a-4905-a0d0-0cbd32c41c3b",
   "metadata": {},
   "outputs": [
    {
     "name": "stdout",
     "output_type": "stream",
     "text": [
      "0.009640193635676282\n",
      "train_and_test_time    0.115613\n",
      "dtype: float64\n"
     ]
    }
   ],
   "source": [
    "#According to Schur et al. in Pitfalls of Graph Neural Network Evaluation, the GAT is slightly better than\n",
    "#the GCN (82.8% ± 0.6% versus 81.9% ± 0.8%) on Cora and CiteSeer (71.0 ± 0.6% versus 69.5% ±\n",
    "#0.9%).\n",
    "print(best_model_df['acc'].std())\n",
    "print(best_model_df[['train_and_test_time']].mean() / epochs)"
   ]
  },
  {
   "cell_type": "code",
   "execution_count": 17,
   "id": "eb457285-c0dd-4016-9c42-1e75d37eb4d0",
   "metadata": {},
   "outputs": [],
   "source": [
    "gat = GAT(data.num_features, dataset.num_classes, hidden_channels, num_heads,heads_p_dropout,size_gat,p_dropout)\n",
    "#num_features, num_classes, hidden_channels, num_heads, heads_p_dropout,size_gat, p_dropout):\n",
    "optimizer=Adam\n",
    "\n",
    "data = dataset[0]\n",
    "loader = DataLoader(dataset, batch_size, shuffle=True)\n",
    "# Initialize the model and optimizer\n",
    "optimizer = optimizer(gat.parameters(), lr=lr, weight_decay=weight_decay)#,momentum=0.9) #for RMSprop)\n",
    "# Training loop\n",
    "\n",
    "for epoch in range(1, epochs+1):\n",
    "    for data in loader:\n",
    "        train(gat,optimizer,data,epoch)"
   ]
  },
  {
   "cell_type": "code",
   "execution_count": 18,
   "id": "5f251236-cdbb-4a4c-a6c4-80109d06f3dc",
   "metadata": {},
   "outputs": [
    {
     "data": {
      "image/png": "[encoded data removed]",
      "text/plain": [
       "<Figure size 1200x500 with 1 Axes>"
      ]
     },
     "metadata": {},
     "output_type": "display_data"
    }
   ],
   "source": [
    "import numpy as np\n",
    "import matplotlib.pyplot as plt\n",
    "from torch_geometric.utils import degree\n",
    "from collections import Counter\n",
    "\n",
    "def accuracy(y_pred, y_true):\n",
    "    \"\"\"Calculate accuracy.\"\"\"\n",
    "    return (sum(y_pred == y_true) / len(y_true))*100\n",
    "\n",
    "# Get model's classifications\n",
    "out = gat(data.x, data.edge_index)\n",
    "\n",
    "# Calculate the degree of each node\n",
    "degrees = degree(data.edge_index[0]).numpy()\n",
    "# Select degrees of nodes in test set\n",
    "degrees=degrees[data.test_mask.numpy()]\n",
    "\n",
    "# Store accuracy scores and sample sizes\n",
    "accuracies = []\n",
    "sizes = []\n",
    "\n",
    "probas = torch.nn.functional.softmax(out, dim=1)  # Convert logits to probabilities\n",
    "pred = probas.argmax(dim=1)\n",
    "\n",
    "# Test data\n",
    "true_labels = data.y[data.test_mask].cpu().numpy()\n",
    "predicted_labels = pred[data.test_mask].cpu().numpy()\n",
    "\n",
    "# Accuracy for degrees between 0 and 5\n",
    "for i in range(1, 10):\n",
    "    mask = np.where(degrees == i)[0]\n",
    "    accuracies.append(accuracy(predicted_labels[mask], true_labels[mask]))\n",
    "    sizes.append(len(mask))\n",
    "\n",
    "# Accuracy for degrees > 10\n",
    "mask = np.where(degrees > 10)[0]\n",
    "accuracies.append(accuracy(out.argmax(dim=1)[mask], data.y[mask]))\n",
    "sizes.append(len(mask))\n",
    "\n",
    "# Bar plot\n",
    "fig, ax = plt.subplots(figsize=(12,5))\n",
    "ax.set_xlabel('Node degree')\n",
    "ax.set_ylabel('Accuracy')\n",
    "plt.bar(['1','2','3','4','5','6','7','8','9','10+'], accuracies, width=0.2, color='black', edgecolor='black')\n",
    "for i in range(0, 10):\n",
    "    plt.text(i, accuracies[i], f'{accuracies[i]:.2f}%', ha='center', color='black')\n",
    "for i in range(0, 10):\n",
    "    plt.text(i, accuracies[i]//2, sizes[i], ha='center', color='white')\n",
    "\n",
    "plt.title('Accuracy of GAT Model with Adam Optimizer on Cora Test Set by Node Degree')\n",
    "plt.tight_layout()\n",
    "plt.savefig('GAT_Cora_Adam_Accuracy_by_Degree.png')\n",
    "\n",
    "plt.show()"
   ]
  },
  {
   "cell_type": "code",
   "execution_count": null,
   "id": "75111d12-f4e1-4854-9e0c-c8cc0ed4eda7",
   "metadata": {},
   "outputs": [],
   "source": []
  }
 ],
 "metadata": {
  "kernelspec": {
   "display_name": "Python 3 (ipykernel)",
   "language": "python",
   "name": "python3"
  },
  "language_info": {
   "codemirror_mode": {
    "name": "ipython",
    "version": 3
   },
   "file_extension": ".py",
   "mimetype": "text/x-python",
   "name": "python",
   "nbconvert_exporter": "python",
   "pygments_lexer": "ipython3",
   "version": "3.10.12"
  }
 },
 "nbformat": 4,
 "nbformat_minor": 5
}
