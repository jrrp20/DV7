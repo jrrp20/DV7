{
 "cells": [
  {
   "cell_type": "code",
   "execution_count": 1,
   "id": "fa2e549a-486a-4216-a218-bddbb824e764",
   "metadata": {},
   "outputs": [],
   "source": [
    "from torch_geometric.datasets import Planetoid\n",
    "\n",
    "# Import dataset from PyTorch Geometric\n",
    "dataset = Planetoid(root=\".\", name=\"CiteSeer\")\n",
    "data = dataset[0]"
   ]
  },
  {
   "cell_type": "code",
   "execution_count": 2,
   "id": "b824af92-705c-49f2-a3b6-6329b9eba8ef",
   "metadata": {},
   "outputs": [
    {
     "name": "stdout",
     "output_type": "stream",
     "text": [
      "Dataset: CiteSeer()\n",
      "---------------\n",
      "Number of graphs: 1\n",
      "Number of nodes: 3327\n",
      "Number of features: 3703\n",
      "Number of classes: 6\n",
      "Number of edges: 9104\n",
      "Edges are directed: False\n",
      "Graph has isolated nodes: True\n",
      "Graph has loops: False\n",
      "Average node degree: 2.74\n"
     ]
    }
   ],
   "source": [
    "print(f'Dataset: {dataset}')\n",
    "print('---------------')\n",
    "print(f'Number of graphs: {len(dataset)}')\n",
    "print(f'Number of nodes: {data.x.shape[0]}')\n",
    "print(f'Number of features: {dataset.num_features}')\n",
    "print(f'Number of classes: {dataset.num_classes}')\n",
    "\n",
    "print(f'Number of edges: {data.num_edges}')\n",
    "print(f'Edges are directed: {data.is_directed()}')\n",
    "print(f'Graph has isolated nodes: {data.has_isolated_nodes()}') # nodes not connected by edges\n",
    "print(f'Graph has loops: {data.has_self_loops()}')\n",
    "print(f'Average node degree: {data.num_edges / data.num_nodes:.2f}')"
   ]
  },
  {
   "cell_type": "code",
   "execution_count": 4,
   "id": "6f473bf5-f779-4bf4-ad8f-676df18b6646",
   "metadata": {},
   "outputs": [
    {
     "name": "stdout",
     "output_type": "stream",
     "text": [
      "120\n",
      "500\n",
      "1000\n"
     ]
    }
   ],
   "source": [
    "print(data.train_mask.sum().item()) # train_mask denotes against which nodes to train (140 nodes)\n",
    "print(data.val_mask.sum().item()) # val_mask denotes which nodes to use for validation, e.g., to perform early stopping (500 nodes)\n",
    "print(data.test_mask.sum().item()) # test_mask denotes against which nodes to test (1000 nodes)."
   ]
  },
  {
   "cell_type": "code",
   "execution_count": 26,
   "id": "92483a23-4a13-44dd-8745-48dd7427dd78",
   "metadata": {},
   "outputs": [
    {
     "data": {
      "image/png": "[encoded data removed]",
      "text/plain": [
       "<Figure size 1200x500 with 1 Axes>"
      ]
     },
     "metadata": {},
     "output_type": "display_data"
    },
    {
     "name": "stdout",
     "output_type": "stream",
     "text": [
      "Counter({1.0: 42, 2.0: 32, 3.0: 14, 4.0: 8, 6.0: 7, 5.0: 6, 10.0: 3, 7.0: 3, 12.0: 1, 14.0: 1, 11.0: 1, 8.0: 1, 16.0: 1})\n"
     ]
    }
   ],
   "source": [
    "#Plot the number of nodes per node degree\n",
    "import matplotlib.pyplot as plt\n",
    "from torch_geometric.utils import degree\n",
    "from collections import Counter\n",
    "\n",
    "# Calculate the degree of each node\n",
    "degrees = degree(data.edge_index[0]).numpy()\n",
    "# Select degrees of nodes in test set\n",
    "degrees=degrees[data.train_mask.numpy()]\n",
    "\n",
    "numbers = Counter(degrees)\n",
    "\n",
    "fig, ax = plt.subplots(figsize=(12,5))\n",
    "ax.set_xlabel('Node degree')\n",
    "ax.set_ylabel('Number of nodes')\n",
    "ax.set_xlim([-1, 25])\n",
    "plt.bar(numbers.keys(), numbers.values(),width=0.2, color='black', edgecolor='black')\n",
    "plt.title('CiteSeer Graph Training Set: Number of Nodes by Node Degree')\n",
    "plt.tight_layout()\n",
    "plt.savefig('CiteSeer_Graph_Train_Node_Degrees.png')\n",
    "\n",
    "plt.show()\n",
    "\n",
    "print(numbers)"
   ]
  },
  {
   "cell_type": "code",
   "execution_count": 2,
   "id": "03d1f287-5eaf-4260-b1e4-b7c0ddc78288",
   "metadata": {},
   "outputs": [],
   "source": [
    "from torch_geometric.loader import DataLoader\n",
    "import torch.nn as nn\n",
    "import torch.nn.functional as F\n",
    "from torch_geometric.nn import GATv2Conv\n",
    "import torch.optim as optim\n",
    "import torch\n",
    "from sklearn.metrics import roc_auc_score\n",
    "from sklearn.metrics import recall_score\n",
    "from sklearn.metrics import f1_score\n",
    "\n",
    "import random\n",
    "random.seed(0)\n",
    "\n",
    "torch.manual_seed(0)\n",
    "\n",
    "class GAT(nn.Module):\n",
    "    def __init__(self, num_features, num_classes, hidden_channels, num_heads, heads_p_dropout,size_gat, p_dropout):\n",
    "        super(GAT, self).__init__()\n",
    "        self.convs = torch.nn.ModuleList()\n",
    "        \n",
    "        self.convs.append(GATv2Conv(num_features, hidden_channels, heads=num_heads,dropout=heads_p_dropout))\n",
    "\n",
    "        for i in range(size_gat):\n",
    "            self.convs.append(GATv2Conv(hidden_channels*num_heads, hidden_channels, heads=num_heads))\n",
    "\n",
    "        #add dropout layer\n",
    "        self.dropout = nn.Dropout(p=p_dropout)\n",
    "\n",
    "        # Output layer\n",
    "        self.convs.append(GATv2Conv(hidden_channels*num_heads, num_classes, heads=1))   # concat=False means that the \n",
    "                                                                                    # multihead attentions are averaged\n",
    "        self.act = F.leaky_relu\n",
    "        #self.act = F.elu\n",
    "        \n",
    "    # Model with leading dropout\n",
    "    # def forward(self, x, edge_index):\n",
    "    #     for conv in self.convs:\n",
    "    #         x = self.dropout(x)\n",
    "    #         x = conv(x, edge_index)\n",
    "\n",
    "    #         if conv != self.convs[-1]:\n",
    "    #             x = self.act(x)\n",
    "\n",
    "    #     return F.softmax(x, dim=1)\n",
    "\n",
    "    # Model w/o leading dropout\n",
    "    def forward(self, x, edge_index):\n",
    "        for conv in self.convs:\n",
    "            if conv == self.convs[0]:\n",
    "                x = conv(x, edge_index)\n",
    "                x = self.act(x)\n",
    "            elif conv in self.convs[1:-2]:\n",
    "                x = self.dropout(x)\n",
    "                x = conv(x, edge_index)\n",
    "                x = self.act(x)\n",
    "            else:\n",
    "                x = self.dropout(x)\n",
    "                x = conv(x, edge_index)\n",
    "\n",
    "        return F.softmax(x, dim=1)"
   ]
  },
  {
   "cell_type": "code",
   "execution_count": null,
   "id": "b22b9334-7244-4411-a6a4-c78b9ad8f55a",
   "metadata": {},
   "outputs": [
    {
     "name": "stderr",
     "output_type": "stream",
     "text": [
      "\u001b[32m[I 2023-12-01 20:44:25,569]\u001b[0m A new study created in memory with name: no-name-5e44824e-0873-44d6-bcde-fe05b8482650\u001b[0m\n",
      "C:\\Users\\ramme\\anaconda3\\lib\\site-packages\\optuna\\progress_bar.py:56: ExperimentalWarning: Progress bar is experimental (supported from v1.2.0). The interface can change in the future.\n",
      "  self._init_valid()\n"
     ]
    },
    {
     "data": {
      "application/vnd.jupyter.widget-view+json": {
       "model_id": "226caa66c4664e0f83e3e1cc0347f75a",
       "version_major": 2,
       "version_minor": 0
      },
      "text/plain": [
       "  0%|          | 0/50 [00:00<?, ?it/s]"
      ]
     },
     "metadata": {},
     "output_type": "display_data"
    },
    {
     "name": "stderr",
     "output_type": "stream",
     "text": [
      "C:\\Users\\ramme\\anaconda3\\lib\\site-packages\\optuna\\distributions.py:535: UserWarning: Choices for a categorical distribution should be a tuple of None, bool, int, float and str for persistent storage but contains <class 'torch.optim.adam.Adam'> which is of type type.\n",
      "  warnings.warn(message)\n"
     ]
    },
    {
     "name": "stdout",
     "output_type": "stream",
     "text": [
      "Validation Accuracy: 67.40%\n",
      "\u001b[32m[I 2023-12-01 20:44:49,983]\u001b[0m Trial 4 finished with value: 0.674 and parameters: {'lr': 0.0008255194936040153, 'hidden_channels': 128, 'hidden_layers': 0, 'p_dropout': 0.44004085538312776, 'batch_size': 120, 'epochs': 20, 'optimizer': <class 'torch.optim.adam.Adam'>, 'weight_decay': 0.008149783263609316, 'num_heads': 8, 'heads_p_dropout': 0.6827807493888969}. Best is trial 4 with value: 0.674.\u001b[0m\n"
     ]
    },
    {
     "name": "stderr",
     "output_type": "stream",
     "text": [
      "C:\\Users\\ramme\\anaconda3\\lib\\site-packages\\optuna\\distributions.py:535: UserWarning: Choices for a categorical distribution should be a tuple of None, bool, int, float and str for persistent storage but contains <class 'torch.optim.adam.Adam'> which is of type type.\n",
      "  warnings.warn(message)\n"
     ]
    },
    {
     "name": "stdout",
     "output_type": "stream",
     "text": [
      "Validation Accuracy: 20.80%\n",
      "\u001b[32m[I 2023-12-01 20:44:57,377]\u001b[0m Trial 2 finished with value: 0.208 and parameters: {'lr': 2.2367494704753766e-05, 'hidden_channels': 16, 'hidden_layers': 2, 'p_dropout': 0.43003418225525236, 'batch_size': 120, 'epochs': 20, 'optimizer': <class 'torch.optim.adam.Adam'>, 'weight_decay': 0.0004621025782066569, 'num_heads': 4, 'heads_p_dropout': 0.3656550449033904}. Best is trial 4 with value: 0.674.\u001b[0m\n"
     ]
    },
    {
     "name": "stderr",
     "output_type": "stream",
     "text": [
      "C:\\Users\\ramme\\anaconda3\\lib\\site-packages\\optuna\\distributions.py:535: UserWarning: Choices for a categorical distribution should be a tuple of None, bool, int, float and str for persistent storage but contains <class 'torch.optim.adam.Adam'> which is of type type.\n",
      "  warnings.warn(message)\n"
     ]
    },
    {
     "name": "stdout",
     "output_type": "stream",
     "text": [
      "Validation Accuracy: 68.60%\n",
      "\u001b[32m[I 2023-12-01 20:45:17,971]\u001b[0m Trial 0 finished with value: 0.686 and parameters: {'lr': 0.0006398850928752537, 'hidden_channels': 64, 'hidden_layers': 1, 'p_dropout': 0.46254449998395736, 'batch_size': 120, 'epochs': 40, 'optimizer': <class 'torch.optim.adam.Adam'>, 'weight_decay': 0.005196645535238667, 'num_heads': 8, 'heads_p_dropout': 0.3966648139367194}. Best is trial 0 with value: 0.686.\u001b[0m\n"
     ]
    },
    {
     "name": "stderr",
     "output_type": "stream",
     "text": [
      "C:\\Users\\ramme\\anaconda3\\lib\\site-packages\\optuna\\distributions.py:535: UserWarning: Choices for a categorical distribution should be a tuple of None, bool, int, float and str for persistent storage but contains <class 'torch.optim.adam.Adam'> which is of type type.\n",
      "  warnings.warn(message)\n"
     ]
    },
    {
     "name": "stdout",
     "output_type": "stream",
     "text": [
      "Validation Accuracy: 71.60%\n",
      "\u001b[32m[I 2023-12-01 20:45:55,071]\u001b[0m Trial 6 finished with value: 0.716 and parameters: {'lr': 0.0009369256835633683, 'hidden_channels': 256, 'hidden_layers': 0, 'p_dropout': 0.6683790270674775, 'batch_size': 120, 'epochs': 20, 'optimizer': <class 'torch.optim.adam.Adam'>, 'weight_decay': 0.006856890501945798, 'num_heads': 8, 'heads_p_dropout': 0.24657433110419708}. Best is trial 6 with value: 0.716.\u001b[0m\n"
     ]
    },
    {
     "name": "stderr",
     "output_type": "stream",
     "text": [
      "C:\\Users\\ramme\\anaconda3\\lib\\site-packages\\optuna\\distributions.py:535: UserWarning: Choices for a categorical distribution should be a tuple of None, bool, int, float and str for persistent storage but contains <class 'torch.optim.adam.Adam'> which is of type type.\n",
      "  warnings.warn(message)\n"
     ]
    },
    {
     "name": "stdout",
     "output_type": "stream",
     "text": [
      "Validation Accuracy: 69.80%\n",
      "\u001b[32m[I 2023-12-01 20:46:52,894]\u001b[0m Trial 3 finished with value: 0.698 and parameters: {'lr': 0.0008301907200198501, 'hidden_channels': 32, 'hidden_layers': 2, 'p_dropout': 0.627007903808189, 'batch_size': 120, 'epochs': 80, 'optimizer': <class 'torch.optim.adam.Adam'>, 'weight_decay': 0.008544333392144339, 'num_heads': 4, 'heads_p_dropout': 0.18254772923443308}. Best is trial 6 with value: 0.716.\u001b[0m\n"
     ]
    },
    {
     "name": "stderr",
     "output_type": "stream",
     "text": [
      "C:\\Users\\ramme\\anaconda3\\lib\\site-packages\\optuna\\distributions.py:535: UserWarning: Choices for a categorical distribution should be a tuple of None, bool, int, float and str for persistent storage but contains <class 'torch.optim.adam.Adam'> which is of type type.\n",
      "  warnings.warn(message)\n"
     ]
    },
    {
     "name": "stdout",
     "output_type": "stream",
     "text": [
      "Validation Accuracy: 67.00%\n",
      "\u001b[32m[I 2023-12-01 20:47:19,092]\u001b[0m Trial 7 finished with value: 0.67 and parameters: {'lr': 0.009060717194395539, 'hidden_channels': 16, 'hidden_layers': 2, 'p_dropout': 0.560731017260319, 'batch_size': 120, 'epochs': 50, 'optimizer': <class 'torch.optim.adam.Adam'>, 'weight_decay': 0.002790421779504028, 'num_heads': 16, 'heads_p_dropout': 0.36765034438347033}. Best is trial 6 with value: 0.716.\u001b[0m\n"
     ]
    },
    {
     "name": "stderr",
     "output_type": "stream",
     "text": [
      "C:\\Users\\ramme\\anaconda3\\lib\\site-packages\\optuna\\distributions.py:535: UserWarning: Choices for a categorical distribution should be a tuple of None, bool, int, float and str for persistent storage but contains <class 'torch.optim.adam.Adam'> which is of type type.\n",
      "  warnings.warn(message)\n"
     ]
    },
    {
     "name": "stdout",
     "output_type": "stream",
     "text": [
      "Validation Accuracy: 45.60%\n",
      "\u001b[32m[I 2023-12-01 20:47:57,544]\u001b[0m Trial 1 finished with value: 0.456 and parameters: {'lr': 4.563594039978948e-05, 'hidden_channels': 128, 'hidden_layers': 1, 'p_dropout': 0.46060558350211717, 'batch_size': 120, 'epochs': 40, 'optimizer': <class 'torch.optim.adam.Adam'>, 'weight_decay': 0.00554206302609316, 'num_heads': 16, 'heads_p_dropout': 0.6532241687562172}. Best is trial 6 with value: 0.716.\u001b[0m\n"
     ]
    },
    {
     "name": "stderr",
     "output_type": "stream",
     "text": [
      "C:\\Users\\ramme\\anaconda3\\lib\\site-packages\\optuna\\distributions.py:535: UserWarning: Choices for a categorical distribution should be a tuple of None, bool, int, float and str for persistent storage but contains <class 'torch.optim.adam.Adam'> which is of type type.\n",
      "  warnings.warn(message)\n"
     ]
    },
    {
     "name": "stdout",
     "output_type": "stream",
     "text": [
      "Validation Accuracy: 67.20%\n",
      "\u001b[32m[I 2023-12-01 20:49:06,262]\u001b[0m Trial 9 finished with value: 0.672 and parameters: {'lr': 0.0016573150265171436, 'hidden_channels': 256, 'hidden_layers': 0, 'p_dropout': 0.4356716273698597, 'batch_size': 120, 'epochs': 80, 'optimizer': <class 'torch.optim.adam.Adam'>, 'weight_decay': 0.002032070312573646, 'num_heads': 4, 'heads_p_dropout': 0.29397643895544046}. Best is trial 6 with value: 0.716.\u001b[0m\n"
     ]
    },
    {
     "name": "stderr",
     "output_type": "stream",
     "text": [
      "C:\\Users\\ramme\\anaconda3\\lib\\site-packages\\optuna\\distributions.py:535: UserWarning: Choices for a categorical distribution should be a tuple of None, bool, int, float and str for persistent storage but contains <class 'torch.optim.adam.Adam'> which is of type type.\n",
      "  warnings.warn(message)\n"
     ]
    },
    {
     "name": "stdout",
     "output_type": "stream",
     "text": [
      "Validation Accuracy: 55.40%\n",
      "\u001b[32m[I 2023-12-01 20:49:33,081]\u001b[0m Trial 10 finished with value: 0.554 and parameters: {'lr': 0.0001522557734360913, 'hidden_channels': 64, 'hidden_layers': 2, 'p_dropout': 0.5633293646615928, 'batch_size': 120, 'epochs': 30, 'optimizer': <class 'torch.optim.adam.Adam'>, 'weight_decay': 0.006752840645960043, 'num_heads': 16, 'heads_p_dropout': 0.3871533918920742}. Best is trial 6 with value: 0.716.\u001b[0m\n"
     ]
    },
    {
     "name": "stderr",
     "output_type": "stream",
     "text": [
      "C:\\Users\\ramme\\anaconda3\\lib\\site-packages\\optuna\\distributions.py:535: UserWarning: Choices for a categorical distribution should be a tuple of None, bool, int, float and str for persistent storage but contains <class 'torch.optim.adam.Adam'> which is of type type.\n",
      "  warnings.warn(message)\n"
     ]
    },
    {
     "name": "stdout",
     "output_type": "stream",
     "text": [
      "Validation Accuracy: 64.20%\n",
      "\u001b[32m[I 2023-12-01 20:50:26,661]\u001b[0m Trial 11 finished with value: 0.642 and parameters: {'lr': 0.00010073184521845882, 'hidden_channels': 16, 'hidden_layers': 1, 'p_dropout': 0.6564977857214755, 'batch_size': 120, 'epochs': 70, 'optimizer': <class 'torch.optim.adam.Adam'>, 'weight_decay': 8.034012522719402e-05, 'num_heads': 16, 'heads_p_dropout': 0.38568891185238763}. Best is trial 6 with value: 0.716.\u001b[0m\n"
     ]
    },
    {
     "name": "stderr",
     "output_type": "stream",
     "text": [
      "C:\\Users\\ramme\\anaconda3\\lib\\site-packages\\optuna\\distributions.py:535: UserWarning: Choices for a categorical distribution should be a tuple of None, bool, int, float and str for persistent storage but contains <class 'torch.optim.adam.Adam'> which is of type type.\n",
      "  warnings.warn(message)\n"
     ]
    },
    {
     "name": "stdout",
     "output_type": "stream",
     "text": [
      "Validation Accuracy: 46.80%\n",
      "\u001b[32m[I 2023-12-01 20:51:00,099]\u001b[0m Trial 5 finished with value: 0.468 and parameters: {'lr': 4.063195426335669e-05, 'hidden_channels': 256, 'hidden_layers': 2, 'p_dropout': 0.5769967708589521, 'batch_size': 120, 'epochs': 110, 'optimizer': <class 'torch.optim.adam.Adam'>, 'weight_decay': 0.002454501214997288, 'num_heads': 4, 'heads_p_dropout': 0.6380998996992728}. Best is trial 6 with value: 0.716.\u001b[0m\n"
     ]
    },
    {
     "name": "stderr",
     "output_type": "stream",
     "text": [
      "C:\\Users\\ramme\\anaconda3\\lib\\site-packages\\optuna\\distributions.py:535: UserWarning: Choices for a categorical distribution should be a tuple of None, bool, int, float and str for persistent storage but contains <class 'torch.optim.adam.Adam'> which is of type type.\n",
      "  warnings.warn(message)\n"
     ]
    },
    {
     "name": "stdout",
     "output_type": "stream",
     "text": [
      "Validation Accuracy: 68.80%\n",
      "\u001b[32m[I 2023-12-01 20:51:05,990]\u001b[0m Trial 15 finished with value: 0.688 and parameters: {'lr': 0.002163614670555951, 'hidden_channels': 32, 'hidden_layers': 0, 'p_dropout': 0.6756706809370473, 'batch_size': 120, 'epochs': 10, 'optimizer': <class 'torch.optim.adam.Adam'>, 'weight_decay': 0.00894313659719163, 'num_heads': 8, 'heads_p_dropout': 0.12330014789133481}. Best is trial 6 with value: 0.716.\u001b[0m\n"
     ]
    },
    {
     "name": "stderr",
     "output_type": "stream",
     "text": [
      "C:\\Users\\ramme\\anaconda3\\lib\\site-packages\\optuna\\distributions.py:535: UserWarning: Choices for a categorical distribution should be a tuple of None, bool, int, float and str for persistent storage but contains <class 'torch.optim.adam.Adam'> which is of type type.\n",
      "  warnings.warn(message)\n"
     ]
    },
    {
     "name": "stdout",
     "output_type": "stream",
     "text": [
      "Validation Accuracy: 68.20%\n",
      "\u001b[32m[I 2023-12-01 20:51:06,950]\u001b[0m Trial 12 finished with value: 0.682 and parameters: {'lr': 0.000576697913421144, 'hidden_channels': 8, 'hidden_layers': 2, 'p_dropout': 0.41904725615642996, 'batch_size': 120, 'epochs': 90, 'optimizer': <class 'torch.optim.adam.Adam'>, 'weight_decay': 0.004308054288835418, 'num_heads': 8, 'heads_p_dropout': 0.2630004508762566}. Best is trial 6 with value: 0.716.\u001b[0m\n"
     ]
    },
    {
     "name": "stderr",
     "output_type": "stream",
     "text": [
      "C:\\Users\\ramme\\anaconda3\\lib\\site-packages\\optuna\\distributions.py:535: UserWarning: Choices for a categorical distribution should be a tuple of None, bool, int, float and str for persistent storage but contains <class 'torch.optim.adam.Adam'> which is of type type.\n",
      "  warnings.warn(message)\n"
     ]
    },
    {
     "name": "stdout",
     "output_type": "stream",
     "text": [
      "Validation Accuracy: 65.40%\n",
      "\u001b[32m[I 2023-12-01 20:51:09,071]\u001b[0m Trial 13 finished with value: 0.654 and parameters: {'lr': 0.007586763077883699, 'hidden_channels': 32, 'hidden_layers': 1, 'p_dropout': 0.6790970219255179, 'batch_size': 120, 'epochs': 60, 'optimizer': <class 'torch.optim.adam.Adam'>, 'weight_decay': 0.007844649607853312, 'num_heads': 16, 'heads_p_dropout': 0.28606543472012524}. Best is trial 6 with value: 0.716.\u001b[0m\n"
     ]
    },
    {
     "name": "stderr",
     "output_type": "stream",
     "text": [
      "C:\\Users\\ramme\\anaconda3\\lib\\site-packages\\optuna\\distributions.py:535: UserWarning: Choices for a categorical distribution should be a tuple of None, bool, int, float and str for persistent storage but contains <class 'torch.optim.adam.Adam'> which is of type type.\n",
      "  warnings.warn(message)\n"
     ]
    },
    {
     "name": "stdout",
     "output_type": "stream",
     "text": [
      "Validation Accuracy: 23.80%\n",
      "\u001b[32m[I 2023-12-01 20:51:28,388]\u001b[0m Trial 14 finished with value: 0.238 and parameters: {'lr': 1.0113154392142743e-05, 'hidden_channels': 8, 'hidden_layers': 0, 'p_dropout': 0.6986323067452304, 'batch_size': 120, 'epochs': 110, 'optimizer': <class 'torch.optim.adam.Adam'>, 'weight_decay': 0.009944879544390696, 'num_heads': 8, 'heads_p_dropout': 0.13005766832664495}. Best is trial 6 with value: 0.716.\u001b[0m\n"
     ]
    },
    {
     "name": "stderr",
     "output_type": "stream",
     "text": [
      "C:\\Users\\ramme\\anaconda3\\lib\\site-packages\\optuna\\distributions.py:535: UserWarning: Choices for a categorical distribution should be a tuple of None, bool, int, float and str for persistent storage but contains <class 'torch.optim.adam.Adam'> which is of type type.\n",
      "  warnings.warn(message)\n"
     ]
    },
    {
     "name": "stdout",
     "output_type": "stream",
     "text": [
      "Validation Accuracy: 69.20%\n",
      "\u001b[32m[I 2023-12-01 20:51:45,037]\u001b[0m Trial 17 finished with value: 0.692 and parameters: {'lr': 0.00021922029966913592, 'hidden_channels': 32, 'hidden_layers': 0, 'p_dropout': 0.6294995191130857, 'batch_size': 120, 'epochs': 80, 'optimizer': <class 'torch.optim.adam.Adam'>, 'weight_decay': 0.009884050161478503, 'num_heads': 4, 'heads_p_dropout': 0.12429228465352524}. Best is trial 6 with value: 0.716.\u001b[0m\n"
     ]
    },
    {
     "name": "stderr",
     "output_type": "stream",
     "text": [
      "C:\\Users\\ramme\\anaconda3\\lib\\site-packages\\optuna\\distributions.py:535: UserWarning: Choices for a categorical distribution should be a tuple of None, bool, int, float and str for persistent storage but contains <class 'torch.optim.adam.Adam'> which is of type type.\n",
      "  warnings.warn(message)\n"
     ]
    },
    {
     "name": "stdout",
     "output_type": "stream",
     "text": [
      "Validation Accuracy: 69.80%\n",
      "\u001b[32m[I 2023-12-01 20:51:50,012]\u001b[0m Trial 18 finished with value: 0.698 and parameters: {'lr': 0.00028292709723261083, 'hidden_channels': 32, 'hidden_layers': 0, 'p_dropout': 0.6301754969695899, 'batch_size': 120, 'epochs': 80, 'optimizer': <class 'torch.optim.adam.Adam'>, 'weight_decay': 0.00979468168821381, 'num_heads': 4, 'heads_p_dropout': 0.1176823065679119}. Best is trial 6 with value: 0.716.\u001b[0m\n"
     ]
    },
    {
     "name": "stderr",
     "output_type": "stream",
     "text": [
      "C:\\Users\\ramme\\anaconda3\\lib\\site-packages\\optuna\\distributions.py:535: UserWarning: Choices for a categorical distribution should be a tuple of None, bool, int, float and str for persistent storage but contains <class 'torch.optim.adam.Adam'> which is of type type.\n",
      "  warnings.warn(message)\n"
     ]
    },
    {
     "name": "stdout",
     "output_type": "stream",
     "text": [
      "Validation Accuracy: 70.00%\n",
      "\u001b[32m[I 2023-12-01 20:51:56,532]\u001b[0m Trial 16 finished with value: 0.7 and parameters: {'lr': 0.0002857859003514778, 'hidden_channels': 8, 'hidden_layers': 0, 'p_dropout': 0.6254882345199697, 'batch_size': 120, 'epochs': 100, 'optimizer': <class 'torch.optim.adam.Adam'>, 'weight_decay': 0.009975941885724924, 'num_heads': 8, 'heads_p_dropout': 0.18112647774548277}. Best is trial 6 with value: 0.716.\u001b[0m\n"
     ]
    },
    {
     "name": "stderr",
     "output_type": "stream",
     "text": [
      "C:\\Users\\ramme\\anaconda3\\lib\\site-packages\\optuna\\distributions.py:535: UserWarning: Choices for a categorical distribution should be a tuple of None, bool, int, float and str for persistent storage but contains <class 'torch.optim.adam.Adam'> which is of type type.\n",
      "  warnings.warn(message)\n"
     ]
    },
    {
     "name": "stdout",
     "output_type": "stream",
     "text": [
      "Validation Accuracy: 71.80%\n",
      "\u001b[32m[I 2023-12-01 20:55:30,490]\u001b[0m Trial 19 finished with value: 0.718 and parameters: {'lr': 0.0002799256336746948, 'hidden_channels': 256, 'hidden_layers': 0, 'p_dropout': 0.6275476665743862, 'batch_size': 120, 'epochs': 120, 'optimizer': <class 'torch.optim.adam.Adam'>, 'weight_decay': 0.006872989305632184, 'num_heads': 4, 'heads_p_dropout': 0.19080835716247838}. Best is trial 19 with value: 0.718.\u001b[0m\n"
     ]
    },
    {
     "name": "stderr",
     "output_type": "stream",
     "text": [
      "C:\\Users\\ramme\\anaconda3\\lib\\site-packages\\optuna\\distributions.py:535: UserWarning: Choices for a categorical distribution should be a tuple of None, bool, int, float and str for persistent storage but contains <class 'torch.optim.adam.Adam'> which is of type type.\n",
      "  warnings.warn(message)\n"
     ]
    },
    {
     "name": "stdout",
     "output_type": "stream",
     "text": [
      "Validation Accuracy: 52.20%\n",
      "\u001b[32m[I 2023-12-01 20:55:41,167]\u001b[0m Trial 8 finished with value: 0.522 and parameters: {'lr': 1.9201905823988515e-05, 'hidden_channels': 128, 'hidden_layers': 2, 'p_dropout': 0.6905573287087305, 'batch_size': 120, 'epochs': 80, 'optimizer': <class 'torch.optim.adam.Adam'>, 'weight_decay': 0.004340351061511343, 'num_heads': 16, 'heads_p_dropout': 0.1094631572184228}. Best is trial 19 with value: 0.718.\u001b[0m\n"
     ]
    },
    {
     "name": "stderr",
     "output_type": "stream",
     "text": [
      "C:\\Users\\ramme\\anaconda3\\lib\\site-packages\\optuna\\distributions.py:535: UserWarning: Choices for a categorical distribution should be a tuple of None, bool, int, float and str for persistent storage but contains <class 'torch.optim.adam.Adam'> which is of type type.\n",
      "  warnings.warn(message)\n"
     ]
    },
    {
     "name": "stdout",
     "output_type": "stream",
     "text": [
      "Validation Accuracy: 70.60%\n",
      "\u001b[32m[I 2023-12-01 20:56:42,150]\u001b[0m Trial 22 finished with value: 0.706 and parameters: {'lr': 0.00011376813999851911, 'hidden_channels': 256, 'hidden_layers': 0, 'p_dropout': 0.5982911397996108, 'batch_size': 120, 'epochs': 100, 'optimizer': <class 'torch.optim.adam.Adam'>, 'weight_decay': 0.0070500629288057694, 'num_heads': 8, 'heads_p_dropout': 0.2091271474383839}. Best is trial 19 with value: 0.718.\u001b[0m\n"
     ]
    },
    {
     "name": "stderr",
     "output_type": "stream",
     "text": [
      "C:\\Users\\ramme\\anaconda3\\lib\\site-packages\\optuna\\distributions.py:535: UserWarning: Choices for a categorical distribution should be a tuple of None, bool, int, float and str for persistent storage but contains <class 'torch.optim.adam.Adam'> which is of type type.\n",
      "  warnings.warn(message)\n"
     ]
    },
    {
     "name": "stdout",
     "output_type": "stream",
     "text": [
      "Validation Accuracy: 69.60%\n",
      "\u001b[32m[I 2023-12-01 20:59:53,749]\u001b[0m Trial 23 finished with value: 0.696 and parameters: {'lr': 9.310589507415161e-05, 'hidden_channels': 256, 'hidden_layers': 0, 'p_dropout': 0.5877092249992366, 'batch_size': 120, 'epochs': 120, 'optimizer': <class 'torch.optim.adam.Adam'>, 'weight_decay': 0.0067917892538868286, 'num_heads': 4, 'heads_p_dropout': 0.22306322710624588}. Best is trial 19 with value: 0.718.\u001b[0m\n"
     ]
    },
    {
     "name": "stderr",
     "output_type": "stream",
     "text": [
      "C:\\Users\\ramme\\anaconda3\\lib\\site-packages\\optuna\\distributions.py:535: UserWarning: Choices for a categorical distribution should be a tuple of None, bool, int, float and str for persistent storage but contains <class 'torch.optim.adam.Adam'> which is of type type.\n",
      "  warnings.warn(message)\n"
     ]
    },
    {
     "name": "stdout",
     "output_type": "stream",
     "text": [
      "Validation Accuracy: 67.80%\n",
      "\u001b[32m[I 2023-12-01 21:01:37,806]\u001b[0m Trial 20 finished with value: 0.678 and parameters: {'lr': 0.00028034793705660117, 'hidden_channels': 256, 'hidden_layers': 2, 'p_dropout': 0.622382441560161, 'batch_size': 120, 'epochs': 120, 'optimizer': <class 'torch.optim.adam.Adam'>, 'weight_decay': 0.006907715225970577, 'num_heads': 4, 'heads_p_dropout': 0.21891627693354915}. Best is trial 19 with value: 0.718.\u001b[0m\n"
     ]
    },
    {
     "name": "stderr",
     "output_type": "stream",
     "text": [
      "C:\\Users\\ramme\\anaconda3\\lib\\site-packages\\optuna\\distributions.py:535: UserWarning: Choices for a categorical distribution should be a tuple of None, bool, int, float and str for persistent storage but contains <class 'torch.optim.adam.Adam'> which is of type type.\n",
      "  warnings.warn(message)\n"
     ]
    },
    {
     "name": "stdout",
     "output_type": "stream",
     "text": [
      "Validation Accuracy: 66.40%\n",
      "\u001b[32m[I 2023-12-01 21:03:27,789]\u001b[0m Trial 21 finished with value: 0.664 and parameters: {'lr': 0.002138041145875333, 'hidden_channels': 256, 'hidden_layers': 2, 'p_dropout': 0.6155361541132688, 'batch_size': 120, 'epochs': 120, 'optimizer': <class 'torch.optim.adam.Adam'>, 'weight_decay': 0.0070398496736995145, 'num_heads': 4, 'heads_p_dropout': 0.20559219763066391}. Best is trial 19 with value: 0.718.\u001b[0m\n"
     ]
    },
    {
     "name": "stderr",
     "output_type": "stream",
     "text": [
      "C:\\Users\\ramme\\anaconda3\\lib\\site-packages\\optuna\\distributions.py:535: UserWarning: Choices for a categorical distribution should be a tuple of None, bool, int, float and str for persistent storage but contains <class 'torch.optim.adam.Adam'> which is of type type.\n",
      "  warnings.warn(message)\n"
     ]
    },
    {
     "name": "stdout",
     "output_type": "stream",
     "text": [
      "Validation Accuracy: 73.00%\n",
      "\u001b[32m[I 2023-12-01 21:11:36,269]\u001b[0m Trial 24 finished with value: 0.73 and parameters: {'lr': 0.00011106712249506732, 'hidden_channels': 256, 'hidden_layers': 0, 'p_dropout': 0.5975013411266228, 'batch_size': 120, 'epochs': 120, 'optimizer': <class 'torch.optim.adam.Adam'>, 'weight_decay': 0.007286496577037943, 'num_heads': 8, 'heads_p_dropout': 0.22413901622174143}. Best is trial 24 with value: 0.73.\u001b[0m\n"
     ]
    },
    {
     "name": "stderr",
     "output_type": "stream",
     "text": [
      "C:\\Users\\ramme\\anaconda3\\lib\\site-packages\\optuna\\distributions.py:535: UserWarning: Choices for a categorical distribution should be a tuple of None, bool, int, float and str for persistent storage but contains <class 'torch.optim.adam.Adam'> which is of type type.\n",
      "  warnings.warn(message)\n"
     ]
    },
    {
     "name": "stdout",
     "output_type": "stream",
     "text": [
      "Validation Accuracy: 72.80%\n",
      "\u001b[32m[I 2023-12-01 21:21:50,108]\u001b[0m Trial 25 finished with value: 0.728 and parameters: {'lr': 0.00012770725184118448, 'hidden_channels': 256, 'hidden_layers': 0, 'p_dropout': 0.5987672868965719, 'batch_size': 120, 'epochs': 120, 'optimizer': <class 'torch.optim.adam.Adam'>, 'weight_decay': 0.00693578804453742, 'num_heads': 8, 'heads_p_dropout': 0.22273304241649763}. Best is trial 24 with value: 0.73.\u001b[0m\n"
     ]
    },
    {
     "name": "stderr",
     "output_type": "stream",
     "text": [
      "C:\\Users\\ramme\\anaconda3\\lib\\site-packages\\optuna\\distributions.py:535: UserWarning: Choices for a categorical distribution should be a tuple of None, bool, int, float and str for persistent storage but contains <class 'torch.optim.adam.Adam'> which is of type type.\n",
      "  warnings.warn(message)\n"
     ]
    },
    {
     "name": "stdout",
     "output_type": "stream",
     "text": [
      "Validation Accuracy: 72.60%\n",
      "\u001b[32m[I 2023-12-01 22:13:39,077]\u001b[0m Trial 26 finished with value: 0.726 and parameters: {'lr': 0.00015852803585373733, 'hidden_channels': 256, 'hidden_layers': 0, 'p_dropout': 0.6019851553858545, 'batch_size': 120, 'epochs': 100, 'optimizer': <class 'torch.optim.adam.Adam'>, 'weight_decay': 0.007038431007555366, 'num_heads': 8, 'heads_p_dropout': 0.21533058955742584}. Best is trial 24 with value: 0.73.\u001b[0m\n"
     ]
    },
    {
     "name": "stderr",
     "output_type": "stream",
     "text": [
      "C:\\Users\\ramme\\anaconda3\\lib\\site-packages\\optuna\\distributions.py:535: UserWarning: Choices for a categorical distribution should be a tuple of None, bool, int, float and str for persistent storage but contains <class 'torch.optim.adam.Adam'> which is of type type.\n",
      "  warnings.warn(message)\n"
     ]
    }
   ],
   "source": [
    "import optuna\n",
    "from optuna.pruners import SuccessiveHalvingPruner, NopPruner\n",
    "from torch.optim import SGD, RMSprop, Adagrad, Adadelta, Adam, Adamax, NAdam\n",
    "import numpy as np\n",
    "\n",
    "n_trails = 50\n",
    "n_jobs = 5 # Number of parallel jobs\n",
    "\n",
    "def objective(trial):\n",
    "    lr = trial.suggest_float('lr', 1e-5, 1e-2, log=True)\n",
    "    hidden_channels = trial.suggest_categorical('hidden_channels', [8,16,32,64,128,256]) #try [16,32,64,128,256]\n",
    "    size_gat = trial.suggest_categorical('hidden_layers', [0,1,2])\n",
    "    p_dropout = trial.suggest_float('p_dropout', 0.4, 0.7)\n",
    "    batch_size=trial.suggest_categorical('batch_size', [120]) # entire training set / batch training\n",
    "    epochs = trial.suggest_categorical('epochs', np.arange(10,130,10).tolist())\n",
    "    #optimizer = trial.suggest_categorical('optimizer', [SGD, RMSprop, Adagrad, Adadelta, Adam, Adamax, NAdam])\n",
    "    optimizer = trial.suggest_categorical('optimizer', [Adam])\n",
    "    weight_decay = trial.suggest_float('weight_decay', 1e-5, 1e-2)\n",
    "    num_heads = trial.suggest_categorical('num_heads', [4,8,16])\n",
    "    heads_p_dropout = trial.suggest_float('heads_p_dropout', 0.1, 0.7)\n",
    "    \n",
    "    data = dataset[0]\n",
    "    loader = DataLoader(dataset, batch_size=batch_size, shuffle=True)\n",
    "    #(self, num_features, num_classes, hidden_channels, dropout, num_heads, size_gat)\n",
    "    model = GAT(num_features=data.num_features, num_classes=dataset.num_classes, hidden_channels=hidden_channels, \n",
    "                num_heads=num_heads, heads_p_dropout=heads_p_dropout,size_gat=size_gat, p_dropout=p_dropout)\n",
    "    optimizer = optimizer(model.parameters(), lr=lr, weight_decay=weight_decay)#, momentum=0.9) #for RMSprop\n",
    "\n",
    "    for epoch in range(1, epochs+1):\n",
    "        for data in loader:\n",
    "            criterion=nn.CrossEntropyLoss()\n",
    "            model.train()\n",
    "            optimizer.zero_grad()\n",
    "            out = model(data.x, data.edge_index)\n",
    "            loss = criterion(out[data.train_mask], data.y[data.train_mask])\n",
    "            loss.backward()\n",
    "            optimizer.step()\n",
    "\n",
    "            trial.report(loss, epoch)\n",
    "\n",
    "            if trial.should_prune():\n",
    "                raise optuna.exceptions.TrialPruned()\n",
    "\n",
    "    # Validate model\n",
    "    model.eval()\n",
    "    out = model(data.x, data.edge_index)  # Predicted probabilities\n",
    "    probas = torch.nn.functional.softmax(out, dim=1)  # Convert logits to probabilities\n",
    "    pred = probas.argmax(dim=1)\n",
    "\n",
    "    # Only consider validation data\n",
    "    true_labels = data.y[data.val_mask].cpu().numpy()\n",
    "    predicted_labels = pred[data.val_mask].cpu().numpy()\n",
    "\n",
    "    # Recall\n",
    "    recall = recall_score(true_labels, predicted_labels, average='macro')  # Using macro average\n",
    "\n",
    "    # Acuracy\n",
    "    correct = pred[data.val_mask].eq(data.y[data.val_mask]).sum().item()\n",
    "    acc = correct / data.val_mask.sum().item()\n",
    "    print(f'Validation Accuracy: {acc * 100:.2f}%')\n",
    "    \n",
    "    # F1 score\n",
    "    f1 = f1_score(true_labels, predicted_labels, average='macro')\n",
    "\n",
    "    #append the metrics to a csv file, and include the columns: avg_auc, recall, acc, f1\n",
    "    with open('GAT_CiteSeer_test_results04.csv', 'a') as f:\n",
    "        optimizer_name=optimizer.__class__.__name__\n",
    "        f.write(f'{batch_size}, {hidden_channels}, {num_heads},{size_gat},{heads_p_dropout},{lr}, {weight_decay}, {epochs}, {p_dropout}, {optimizer_name},{recall},{acc},{f1}\\n')\n",
    "    \n",
    "    return acc\n",
    "\n",
    "study = optuna.create_study(direction=\"maximize\", pruner=NopPruner())\n",
    "#study = optuna.create_study(direction=\"minimize\", pruner=SuccessiveHalvingPruner(min_resource=1, reduction_factor=4, min_early_stopping_rate=0))\n",
    "study.optimize(objective, n_trials=n_trails, timeout=6000, n_jobs=n_jobs,show_progress_bar = True)\n",
    "print(study.best_trial)"
   ]
  },
  {
   "cell_type": "code",
   "execution_count": 4,
   "id": "7e4963f6-8330-4941-98fd-08cbe14335a5",
   "metadata": {},
   "outputs": [
    {
     "name": "stdout",
     "output_type": "stream",
     "text": [
      "{'lr': 0.00010436594091179323, 'hidden_channels': 16, 'hidden_layers': 0, 'p_dropout': 0.4465534667574045, 'batch_size': 128, 'epochs': 200, 'optimizer': <class 'torch.optim.adam.Adam'>, 'weight_decay': 5.40503466421723e-05, 'num_heads': 8}\n"
     ]
    }
   ],
   "source": [
    "print(study.best_params)"
   ]
  },
  {
   "cell_type": "code",
   "execution_count": 3,
   "id": "bd697959-4bdb-4a59-ad15-84e116aaab64",
   "metadata": {},
   "outputs": [
    {
     "data": {
      "text/html": [
       "<div>\n",
       "<style scoped>\n",
       "    .dataframe tbody tr th:only-of-type {\n",
       "        vertical-align: middle;\n",
       "    }\n",
       "\n",
       "    .dataframe tbody tr th {\n",
       "        vertical-align: top;\n",
       "    }\n",
       "\n",
       "    .dataframe thead th {\n",
       "        text-align: right;\n",
       "    }\n",
       "</style>\n",
       "<table border=\"1\" class=\"dataframe\">\n",
       "  <thead>\n",
       "    <tr style=\"text-align: right;\">\n",
       "      <th></th>\n",
       "      <th>batch_size</th>\n",
       "      <th>hidden_channels</th>\n",
       "      <th>num_heads</th>\n",
       "      <th>size_gat</th>\n",
       "      <th>heads_p_dropout</th>\n",
       "      <th>lr</th>\n",
       "      <th>weight_decay</th>\n",
       "      <th>epochs</th>\n",
       "      <th>p_dropout</th>\n",
       "      <th>optimizer</th>\n",
       "      <th>recall</th>\n",
       "      <th>acc</th>\n",
       "      <th>f1</th>\n",
       "    </tr>\n",
       "  </thead>\n",
       "  <tbody>\n",
       "    <tr>\n",
       "      <th>55</th>\n",
       "      <td>120</td>\n",
       "      <td>16</td>\n",
       "      <td>16</td>\n",
       "      <td>0</td>\n",
       "      <td>0.660611</td>\n",
       "      <td>0.001611</td>\n",
       "      <td>0.009190</td>\n",
       "      <td>30</td>\n",
       "      <td>0.494207</td>\n",
       "      <td>Adamax</td>\n",
       "      <td>0.693106</td>\n",
       "      <td>0.738</td>\n",
       "      <td>0.688154</td>\n",
       "    </tr>\n",
       "    <tr>\n",
       "      <th>238</th>\n",
       "      <td>120</td>\n",
       "      <td>128</td>\n",
       "      <td>8</td>\n",
       "      <td>2</td>\n",
       "      <td>0.546782</td>\n",
       "      <td>0.000122</td>\n",
       "      <td>0.005317</td>\n",
       "      <td>10</td>\n",
       "      <td>0.574488</td>\n",
       "      <td>RMSprop</td>\n",
       "      <td>0.655501</td>\n",
       "      <td>0.738</td>\n",
       "      <td>0.637650</td>\n",
       "    </tr>\n",
       "    <tr>\n",
       "      <th>3</th>\n",
       "      <td>120</td>\n",
       "      <td>32</td>\n",
       "      <td>8</td>\n",
       "      <td>1</td>\n",
       "      <td>0.604600</td>\n",
       "      <td>0.000842</td>\n",
       "      <td>0.001093</td>\n",
       "      <td>30</td>\n",
       "      <td>0.433574</td>\n",
       "      <td>Adamax</td>\n",
       "      <td>0.684122</td>\n",
       "      <td>0.734</td>\n",
       "      <td>0.681205</td>\n",
       "    </tr>\n",
       "    <tr>\n",
       "      <th>33</th>\n",
       "      <td>120</td>\n",
       "      <td>8</td>\n",
       "      <td>16</td>\n",
       "      <td>0</td>\n",
       "      <td>0.297160</td>\n",
       "      <td>0.001672</td>\n",
       "      <td>0.006694</td>\n",
       "      <td>20</td>\n",
       "      <td>0.505091</td>\n",
       "      <td>Adamax</td>\n",
       "      <td>0.681410</td>\n",
       "      <td>0.734</td>\n",
       "      <td>0.685881</td>\n",
       "    </tr>\n",
       "    <tr>\n",
       "      <th>263</th>\n",
       "      <td>120</td>\n",
       "      <td>128</td>\n",
       "      <td>16</td>\n",
       "      <td>0</td>\n",
       "      <td>0.689295</td>\n",
       "      <td>0.000026</td>\n",
       "      <td>0.009169</td>\n",
       "      <td>40</td>\n",
       "      <td>0.650249</td>\n",
       "      <td>RMSprop</td>\n",
       "      <td>0.710511</td>\n",
       "      <td>0.732</td>\n",
       "      <td>0.699732</td>\n",
       "    </tr>\n",
       "    <tr>\n",
       "      <th>79</th>\n",
       "      <td>120</td>\n",
       "      <td>64</td>\n",
       "      <td>16</td>\n",
       "      <td>1</td>\n",
       "      <td>0.685854</td>\n",
       "      <td>0.000909</td>\n",
       "      <td>0.009872</td>\n",
       "      <td>40</td>\n",
       "      <td>0.511580</td>\n",
       "      <td>Adamax</td>\n",
       "      <td>0.659384</td>\n",
       "      <td>0.730</td>\n",
       "      <td>0.652624</td>\n",
       "    </tr>\n",
       "    <tr>\n",
       "      <th>312</th>\n",
       "      <td>120</td>\n",
       "      <td>256</td>\n",
       "      <td>8</td>\n",
       "      <td>0</td>\n",
       "      <td>0.224139</td>\n",
       "      <td>0.000111</td>\n",
       "      <td>0.007286</td>\n",
       "      <td>120</td>\n",
       "      <td>0.597501</td>\n",
       "      <td>Adam</td>\n",
       "      <td>0.695967</td>\n",
       "      <td>0.730</td>\n",
       "      <td>0.689607</td>\n",
       "    </tr>\n",
       "    <tr>\n",
       "      <th>313</th>\n",
       "      <td>120</td>\n",
       "      <td>256</td>\n",
       "      <td>8</td>\n",
       "      <td>0</td>\n",
       "      <td>0.222733</td>\n",
       "      <td>0.000128</td>\n",
       "      <td>0.006936</td>\n",
       "      <td>120</td>\n",
       "      <td>0.598767</td>\n",
       "      <td>Adam</td>\n",
       "      <td>0.699241</td>\n",
       "      <td>0.728</td>\n",
       "      <td>0.692269</td>\n",
       "    </tr>\n",
       "    <tr>\n",
       "      <th>126</th>\n",
       "      <td>120</td>\n",
       "      <td>64</td>\n",
       "      <td>16</td>\n",
       "      <td>0</td>\n",
       "      <td>0.290481</td>\n",
       "      <td>0.000026</td>\n",
       "      <td>0.009791</td>\n",
       "      <td>40</td>\n",
       "      <td>0.697410</td>\n",
       "      <td>RMSprop</td>\n",
       "      <td>0.688524</td>\n",
       "      <td>0.726</td>\n",
       "      <td>0.682785</td>\n",
       "    </tr>\n",
       "    <tr>\n",
       "      <th>252</th>\n",
       "      <td>120</td>\n",
       "      <td>128</td>\n",
       "      <td>16</td>\n",
       "      <td>0</td>\n",
       "      <td>0.600233</td>\n",
       "      <td>0.000025</td>\n",
       "      <td>0.008374</td>\n",
       "      <td>40</td>\n",
       "      <td>0.591341</td>\n",
       "      <td>RMSprop</td>\n",
       "      <td>0.712304</td>\n",
       "      <td>0.726</td>\n",
       "      <td>0.695447</td>\n",
       "    </tr>\n",
       "  </tbody>\n",
       "</table>\n",
       "</div>"
      ],
      "text/plain": [
       "     batch_size  hidden_channels  num_heads  size_gat  heads_p_dropout  \\\n",
       "55          120               16         16         0         0.660611   \n",
       "238         120              128          8         2         0.546782   \n",
       "3           120               32          8         1         0.604600   \n",
       "33          120                8         16         0         0.297160   \n",
       "263         120              128         16         0         0.689295   \n",
       "79          120               64         16         1         0.685854   \n",
       "312         120              256          8         0         0.224139   \n",
       "313         120              256          8         0         0.222733   \n",
       "126         120               64         16         0         0.290481   \n",
       "252         120              128         16         0         0.600233   \n",
       "\n",
       "           lr  weight_decay  epochs  p_dropout optimizer    recall    acc  \\\n",
       "55   0.001611      0.009190      30   0.494207    Adamax  0.693106  0.738   \n",
       "238  0.000122      0.005317      10   0.574488   RMSprop  0.655501  0.738   \n",
       "3    0.000842      0.001093      30   0.433574    Adamax  0.684122  0.734   \n",
       "33   0.001672      0.006694      20   0.505091    Adamax  0.681410  0.734   \n",
       "263  0.000026      0.009169      40   0.650249   RMSprop  0.710511  0.732   \n",
       "79   0.000909      0.009872      40   0.511580    Adamax  0.659384  0.730   \n",
       "312  0.000111      0.007286     120   0.597501      Adam  0.695967  0.730   \n",
       "313  0.000128      0.006936     120   0.598767      Adam  0.699241  0.728   \n",
       "126  0.000026      0.009791      40   0.697410   RMSprop  0.688524  0.726   \n",
       "252  0.000025      0.008374      40   0.591341   RMSprop  0.712304  0.726   \n",
       "\n",
       "           f1  \n",
       "55   0.688154  \n",
       "238  0.637650  \n",
       "3    0.681205  \n",
       "33   0.685881  \n",
       "263  0.699732  \n",
       "79   0.652624  \n",
       "312  0.689607  \n",
       "313  0.692269  \n",
       "126  0.682785  \n",
       "252  0.695447  "
      ]
     },
     "execution_count": 3,
     "metadata": {},
     "output_type": "execute_result"
    }
   ],
   "source": [
    "import pandas as pd\n",
    "results_df = pd.read_csv('GAT_CiteSeer_test_results04.csv', header=None)\n",
    "results_df.columns = ['batch_size', 'hidden_channels', 'num_heads','size_gat','heads_p_dropout', 'lr', 'weight_decay', 'epochs', 'p_dropout', 'optimizer', 'recall', 'acc', 'f1']\n",
    "\n",
    "results_df.sort_values('acc', ascending=False).iloc[:10]\n",
    "#results_df.loc[results_df['optimizer']]\n",
    "#results_df[results_df.optimizer.str.contains('Adam')].sort_values('acc', ascending=False).iloc[:5]"
   ]
  },
  {
   "cell_type": "code",
   "execution_count": 3,
   "id": "7e29821b-39c4-41ef-8ce2-3005360cd777",
   "metadata": {},
   "outputs": [
    {
     "name": "stdout",
     "output_type": "stream",
     "text": [
      "The file was deleted\n"
     ]
    }
   ],
   "source": [
    "# DELETE FILE that stores the HYPERPARAMETERS\n",
    "# import os\n",
    "# if os.path.exists(\"GAT_CiteSeer_test_results04.csv\"):\n",
    "#     os.remove(\"GAT_CiteSeer_test_results04.csv\")\n",
    "#     print(\"The file was deleted\")\n",
    "# else:\n",
    "#   print(\"The file does not exist\")"
   ]
  },
  {
   "cell_type": "code",
   "execution_count": 21,
   "id": "da57c8f8-de33-4f77-964b-b0caf0b466c8",
   "metadata": {},
   "outputs": [],
   "source": [
    "# Get hyperparameters from dataframe\n",
    "slc_row=4\n",
    "batch_size=int(results_df.sort_values('acc', ascending=False).iloc[slc_row]['batch_size'])\n",
    "hidden_channels = int(results_df.sort_values('acc', ascending=False).iloc[slc_row]['hidden_channels'])\n",
    "size_gat = results_df.sort_values('acc', ascending=False).iloc[slc_row]['size_gat']\n",
    "lr = results_df.sort_values('acc', ascending=False).iloc[slc_row]['lr']\n",
    "weight_decay = results_df.sort_values('acc', ascending=False).iloc[slc_row]['weight_decay']\n",
    "epochs = results_df.sort_values('acc', ascending=False).iloc[slc_row]['epochs']\n",
    "p_dropout = results_df.sort_values('acc', ascending=False).iloc[slc_row]['p_dropout']\n",
    "num_heads = int(results_df.sort_values('acc', ascending=False).iloc[slc_row]['num_heads'])\n",
    "heads_p_dropout=int(results_df.sort_values('acc', ascending=False).iloc[slc_row]['heads_p_dropout'])"
   ]
  },
  {
   "cell_type": "code",
   "execution_count": 56,
   "id": "55e93ef0-8196-45e1-8469-c7ef3ae2bd8d",
   "metadata": {},
   "outputs": [
    {
     "data": {
      "text/plain": [
       "{'lr': 0.0006522990207284269,\n",
       " 'hidden_channels': 8,\n",
       " 'hidden_layers': 1,\n",
       " 'p_dropout': 0.6760540197652862,\n",
       " 'batch_size': 128,\n",
       " 'epochs': 200,\n",
       " 'optimizer': torch.optim.rmsprop.RMSprop,\n",
       " 'weight_decay': 0.004112674572557716,\n",
       " 'num_heads': 8}"
      ]
     },
     "execution_count": 56,
     "metadata": {},
     "output_type": "execute_result"
    }
   ],
   "source": [
    "study.best_params"
   ]
  },
  {
   "cell_type": "code",
   "execution_count": 27,
   "id": "945d38e8-25c9-4ee8-af94-3899373eb30b",
   "metadata": {},
   "outputs": [],
   "source": [
    "# Get hyperparameters from dataframe - select specific OPTIMIZER\n",
    "slc_row=4\n",
    "optim='Adam'\n",
    "batch_size=int(results_df[results_df.optimizer.str.contains(optim)].sort_values('acc', ascending=False).iloc[slc_row]['batch_size'])\n",
    "hidden_channels = int(results_df[results_df.optimizer.str.contains(optim)].sort_values('acc', ascending=False).iloc[slc_row]['hidden_channels'])\n",
    "size_gat = results_df[results_df.optimizer.str.contains(optim)].sort_values('acc', ascending=False).iloc[slc_row]['size_gat']\n",
    "lr = results_df[results_df.optimizer.str.contains(optim)].sort_values('acc', ascending=False).iloc[slc_row]['lr']\n",
    "weight_decay = results_df[results_df.optimizer.str.contains(optim)].sort_values('acc', ascending=False).iloc[slc_row]['weight_decay']\n",
    "epochs = results_df[results_df.optimizer.str.contains(optim)].sort_values('acc', ascending=False).iloc[slc_row]['epochs']\n",
    "p_dropout = results_df[results_df.optimizer.str.contains(optim)].sort_values('acc', ascending=False).iloc[slc_row]['p_dropout']\n",
    "num_heads = int(results_df[results_df.optimizer.str.contains(optim)].sort_values('acc', ascending=False).iloc[slc_row]['num_heads'])\n",
    "heads_p_dropout = int(results_df[results_df.optimizer.str.contains(optim)].sort_values('acc', ascending=False).iloc[slc_row]['heads_p_dropout'])"
   ]
  },
  {
   "cell_type": "code",
   "execution_count": 28,
   "id": "d4debc41-603d-4f92-8177-0d81e5fb6690",
   "metadata": {},
   "outputs": [
    {
     "data": {
      "text/plain": [
       "0.000111067122495"
      ]
     },
     "execution_count": 28,
     "metadata": {},
     "output_type": "execute_result"
    }
   ],
   "source": [
    "lr"
   ]
  },
  {
   "cell_type": "code",
   "execution_count": 26,
   "id": "0017e39f-35cf-48f2-9650-967ed8ffa645",
   "metadata": {},
   "outputs": [],
   "source": [
    "# Hyperparameters from study\n",
    "batch_size = study.best_params['batch_size']\n",
    "hidden_channels = study.best_params['hidden_channels']\n",
    "size_gat = study.best_params['hidden_layers']\n",
    "lr = study.best_params['lr']\n",
    "weight_decay = study.best_params['weight_decay']\n",
    "epochs = study.best_params['epochs']\n",
    "p_dropout = study.best_params['dropout']\n",
    "num_heads = study.best_params['num_heads']\n",
    "optimizer = Adam"
   ]
  },
  {
   "cell_type": "code",
   "execution_count": 74,
   "id": "ba2e1f99-8420-4d2b-9d90-e15ffa0e8495",
   "metadata": {},
   "outputs": [],
   "source": [
    "# Manually set hyperparameters\n",
    "# Best model so far\n",
    "batch_size = 32\n",
    "hidden_channels = 8\n",
    "size_gat = 0\n",
    "lr = 0.003663\t\n",
    "weight_decay = 0.005504\n",
    "epochs = 100\n",
    "p_dropout = 0.660999\n",
    "num_heads = 16\n",
    "optimizer = RMSprop"
   ]
  },
  {
   "cell_type": "code",
   "execution_count": 5,
   "id": "ab3552a3-b77b-4480-84b5-383352d8728f",
   "metadata": {},
   "outputs": [],
   "source": [
    "from torch.optim import SGD, RMSprop, Adagrad, Adadelta, Adam, Adamax, NAdam\n",
    "#optimizer = Adam\n",
    "def train(model,optimizer,data,epoch):\n",
    "    criterion=nn.CrossEntropyLoss()\n",
    "    model.train()\n",
    "    optimizer.zero_grad()\n",
    "    out = model(data.x, data.edge_index)\n",
    "    loss = criterion(out[data.train_mask], data.y[data.train_mask])\n",
    "    loss.backward()\n",
    "    optimizer.step()\n",
    "    #print(f'Epoch: {epoch}, Loss: {loss.item()}')\n",
    "\n",
    "def test(model, data):\n",
    "    model.eval()\n",
    "    out = model(data.x, data.edge_index)  # Predicted probabilities\n",
    "    probas = torch.nn.functional.softmax(out, dim=1)  # Convert logits to probabilities\n",
    "    pred = probas.argmax(dim=1)\n",
    "\n",
    "    # Test data\n",
    "    true_labels = data.y[data.test_mask].cpu().numpy()\n",
    "    predicted_labels = pred[data.test_mask].cpu().numpy()\n",
    "\n",
    "    # Recall\n",
    "    recall = recall_score(true_labels, predicted_labels, average='macro')  # Using macro average\n",
    "    #print(f'Test Recall: {recall:.4f}')\n",
    "\n",
    "    # Acuracy\n",
    "    correct = pred[data.test_mask].eq(data.y[data.test_mask]).sum().item()\n",
    "    acc = correct / data.test_mask.sum().item()\n",
    "    #print(f'Test Accuracy: {acc * 100:.2f}%')\n",
    "\n",
    "    # F1 score\n",
    "    f1 = f1_score(true_labels, predicted_labels, average='macro')\n",
    "    #print(f'Test F1 score: {f1:.4f}')\n",
    "\n",
    "    #append the metrics to a csv file, and include the columns: avg_auc, recall, acc, f1\n",
    "    with open('GAT_CiteSeer_best_model_metrics04.csv', 'a') as f:\n",
    "        f.write(f'{recall},{acc},{f1}\\n')\n",
    "\n",
    "def test_GAT(dataset,batch_size,hidden_channels,p_dropout,num_heads,heads_p_dropout,size_gat,optimizer,lr,weight_decay,epochs):\n",
    "#(self, num_features, num_classes, hidden_channels, dropout, num_heads, size_gat)\n",
    "    data = dataset[0]\n",
    "    loader = DataLoader(dataset, batch_size, shuffle=True)\n",
    "    # Initialize the model and optimizer\n",
    "    model = GAT(num_features=data.num_features, num_classes=dataset.num_classes, hidden_channels=hidden_channels, p_dropout=p_dropout, \n",
    "                heads_p_dropout=heads_p_dropout,num_heads=num_heads, size_gat=size_gat)\n",
    "    optimizer = optimizer(model.parameters(), lr=lr, weight_decay=weight_decay)#, momentum=0.9) #for RMSprop\n",
    "    # Training loop\n",
    "    for epoch in range(1, epochs+1):\n",
    "        for data in loader:\n",
    "            train(model,optimizer,data,epoch)\n",
    "    \n",
    "    test(model,data)"
   ]
  },
  {
   "cell_type": "code",
   "execution_count": 31,
   "id": "3c615fe4-4d25-4178-a8d9-8c19e66f7044",
   "metadata": {},
   "outputs": [
    {
     "name": "stdout",
     "output_type": "stream",
     "text": [
      "The file was deleted\n"
     ]
    }
   ],
   "source": [
    "# DELETE FILE that stores the METRICS\n",
    "import os\n",
    "if os.path.exists(\"GAT_CiteSeer_best_model_metrics04.csv\"):\n",
    "    os.remove(\"GAT_CiteSeer_best_model_metrics04.csv\")\n",
    "    print(\"The file was deleted\")\n",
    "else:\n",
    "  print(\"The file does not exist\")"
   ]
  },
  {
   "cell_type": "code",
   "execution_count": 32,
   "id": "588a0c37-de60-4585-843b-25198b39558b",
   "metadata": {},
   "outputs": [],
   "source": [
    "import time\n",
    "times=[]\n",
    "optimizer=Adam\n",
    "momentum = 0.9\n",
    "for i in range (0,10):\n",
    "    st = time.time()\n",
    "    test_GAT(dataset,batch_size,hidden_channels,p_dropout,num_heads,heads_p_dropout,size_gat,optimizer,lr,weight_decay,epochs)\n",
    "    et = time.time()\n",
    "    elapsed_time = et - st\n",
    "    #print('Execution time:', elapsed_time, 'seconds')\n",
    "    times.append(elapsed_time)"
   ]
  },
  {
   "cell_type": "code",
   "execution_count": 33,
   "id": "f164122f-e105-4e3e-bcc0-c83fca78daa2",
   "metadata": {},
   "outputs": [],
   "source": [
    "import pandas as pd\n",
    "best_model_df = pd.read_csv('GAT_CiteSeer_best_model_metrics04.csv', header=None)\n",
    "best_model_df.columns = ['recall', 'acc', 'f1']\n",
    "best_model_df['train_and_test_time']=times\n",
    "avg_df=best_model_df[['recall', 'acc', 'f1','train_and_test_time']].mean()"
   ]
  },
  {
   "cell_type": "code",
   "execution_count": 34,
   "id": "04e3dde3-9c9c-44fa-940d-268e4e97b2cd",
   "metadata": {},
   "outputs": [
    {
     "data": {
      "text/plain": [
       "recall                   0.682069\n",
       "acc                      0.716600\n",
       "f1                       0.677021\n",
       "train_and_test_time    104.835317\n",
       "dtype: float64"
      ]
     },
     "execution_count": 34,
     "metadata": {},
     "output_type": "execute_result"
    }
   ],
   "source": [
    "avg_df #0.77"
   ]
  },
  {
   "cell_type": "code",
   "execution_count": 35,
   "id": "0ee21972-9f5a-4905-a0d0-0cbd32c41c3b",
   "metadata": {},
   "outputs": [
    {
     "name": "stdout",
     "output_type": "stream",
     "text": [
      "0.004141926551202422\n",
      "train_and_test_time    0.873628\n",
      "dtype: float64\n"
     ]
    }
   ],
   "source": [
    "#According to Schur et al. in Pitfalls of Graph Neural Network Evaluation, the GAT is slightly better than\n",
    "#the GCN (82.8% ± 0.6% versus 81.9% ± 0.8%) on Cora and CiteSeer (71.0 ± 0.6% versus 69.5% ±\n",
    "#0.9%).\n",
    "print(best_model_df['acc'].std())\n",
    "print(best_model_df[['train_and_test_time']].mean() / epochs)"
   ]
  },
  {
   "cell_type": "code",
   "execution_count": 22,
   "id": "eb457285-c0dd-4016-9c42-1e75d37eb4d0",
   "metadata": {},
   "outputs": [],
   "source": [
    "gat = GAT(data.num_features, dataset.num_classes, hidden_channels, num_heads,heads_p_dropout,size_gat,p_dropout)\n",
    "#num_features, num_classes, hidden_channels, num_heads, heads_p_dropout,size_gat, p_dropout):\n",
    "optimizer=RMSprop\n",
    "\n",
    "data = dataset[0]\n",
    "loader = DataLoader(dataset, batch_size, shuffle=True)\n",
    "# Initialize the model and optimizer\n",
    "optimizer = optimizer(gat.parameters(), lr=lr, weight_decay=weight_decay,momentum=0.9) #for RMSprop)\n",
    "# Training loop\n",
    "\n",
    "for epoch in range(1, epochs+1):\n",
    "    for data in loader:\n",
    "        train(gat,optimizer,data,epoch)"
   ]
  },
  {
   "cell_type": "code",
   "execution_count": 23,
   "id": "5f251236-cdbb-4a4c-a6c4-80109d06f3dc",
   "metadata": {},
   "outputs": [
    {
     "data": {
      "image/png": "[encoded data removed]",
      "text/plain": [
       "<Figure size 1200x500 with 1 Axes>"
      ]
     },
     "metadata": {},
     "output_type": "display_data"
    }
   ],
   "source": [
    "import numpy as np\n",
    "import matplotlib.pyplot as plt\n",
    "from torch_geometric.utils import degree\n",
    "from collections import Counter\n",
    "\n",
    "def accuracy(y_pred, y_true):\n",
    "    \"\"\"Calculate accuracy.\"\"\"\n",
    "    return (sum(y_pred == y_true) / len(y_true))*100\n",
    "\n",
    "# Get model's classifications\n",
    "out = gat(data.x, data.edge_index)\n",
    "\n",
    "# Calculate the degree of each node\n",
    "degrees = degree(data.edge_index[0]).numpy()\n",
    "# Select degrees of nodes in test set\n",
    "degrees=degrees[data.test_mask.numpy()]\n",
    "\n",
    "# Store accuracy scores and sample sizes\n",
    "accuracies = []\n",
    "sizes = []\n",
    "\n",
    "probas = torch.nn.functional.softmax(out, dim=1)  # Convert logits to probabilities\n",
    "pred = probas.argmax(dim=1)\n",
    "\n",
    "# Test data\n",
    "true_labels = data.y[data.test_mask].cpu().numpy()\n",
    "predicted_labels = pred[data.test_mask].cpu().numpy()\n",
    "\n",
    "# Accuracy for degrees between 0 and 5\n",
    "for i in range(1, 10):\n",
    "    mask = np.where(degrees == i)[0]\n",
    "    accuracies.append(accuracy(predicted_labels[mask], true_labels[mask]))\n",
    "    sizes.append(len(mask))\n",
    "\n",
    "# Accuracy for degrees > 10\n",
    "mask = np.where(degrees > 10)[0]\n",
    "accuracies.append(accuracy(out.argmax(dim=1)[mask], data.y[mask]))\n",
    "sizes.append(len(mask))\n",
    "\n",
    "# Bar plot\n",
    "fig, ax = plt.subplots(figsize=(12,5))\n",
    "ax.set_xlabel('Node degree')\n",
    "ax.set_ylabel('Accuracy')\n",
    "plt.bar(['1','2','3','4','5','6','7','8','9','10+'], accuracies, width=0.2, color='black', edgecolor='black')\n",
    "for i in range(0, 10):\n",
    "    plt.text(i, accuracies[i], f'{accuracies[i]:.2f}%', ha='center', color='black')\n",
    "for i in range(0, 10):\n",
    "    plt.text(i, accuracies[i]//2, sizes[i], ha='center', color='white')\n",
    "\n",
    "plt.title('Accuracy of GAT Model with RMSprop Optimizer on CiteSeer Test Set by Node Degree')\n",
    "plt.tight_layout()\n",
    "plt.savefig('GAT_CiteSeer_RMSprop_Accuracy_by_Degree.png')\n",
    "\n",
    "plt.show()"
   ]
  },
  {
   "cell_type": "code",
   "execution_count": null,
   "id": "75111d12-f4e1-4854-9e0c-c8cc0ed4eda7",
   "metadata": {},
   "outputs": [],
   "source": []
  }
 ],
 "metadata": {
  "kernelspec": {
   "display_name": "Python 3 (ipykernel)",
   "language": "python",
   "name": "python3"
  },
  "language_info": {
   "codemirror_mode": {
    "name": "ipython",
    "version": 3
   },
   "file_extension": ".py",
   "mimetype": "text/x-python",
   "name": "python",
   "nbconvert_exporter": "python",
   "pygments_lexer": "ipython3",
   "version": "3.10.12"
  }
 },
 "nbformat": 4,
 "nbformat_minor": 5
}
