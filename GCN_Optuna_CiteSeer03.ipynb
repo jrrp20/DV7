{
 "cells": [
  {
   "cell_type": "code",
   "execution_count": 1,
   "id": "8e5379a6-c2d1-43fa-bd7e-71dce4d3485a",
   "metadata": {},
   "outputs": [],
   "source": [
    "from torch_geometric.datasets import Planetoid\n",
    "\n",
    "dataset = Planetoid(root=\".\", name=\"CiteSeer\")\n",
    "data = dataset[0]"
   ]
  },
  {
   "cell_type": "code",
   "execution_count": 2,
   "id": "e6e4913d-8ca1-46f0-bccc-28559f9a86d4",
   "metadata": {},
   "outputs": [
    {
     "name": "stdout",
     "output_type": "stream",
     "text": [
      "Dataset: Cora()\n",
      "---------------\n",
      "Number of graphs: 1\n",
      "Number of nodes: 2708\n",
      "Number of features: 1433\n",
      "Number of classes: 7\n",
      "Edges are directed: False\n",
      "Graph has isolated nodes: False\n",
      "Graph has loops: False\n"
     ]
    }
   ],
   "source": [
    "print(f'Dataset: {dataset}')\n",
    "print('---------------')\n",
    "print(f'Number of graphs: {len(dataset)}')\n",
    "print(f'Number of nodes: {data.x.shape[0]}')\n",
    "print(f'Number of features: {dataset.num_features}')\n",
    "print(f'Number of classes: {dataset.num_classes}')\n",
    "\n",
    "print(f'Edges are directed: {data.is_directed()}')\n",
    "print(f'Graph has isolated nodes: {data.has_isolated_nodes()}')\n",
    "print(f'Graph has loops: {data.has_self_loops()}')"
   ]
  },
  {
   "cell_type": "code",
   "execution_count": 3,
   "id": "fbd81f1a-e78b-4eaf-8fc0-e39a07da9f72",
   "metadata": {},
   "outputs": [
    {
     "data": {
      "text/plain": [
       "1000"
      ]
     },
     "execution_count": 3,
     "metadata": {},
     "output_type": "execute_result"
    }
   ],
   "source": [
    "data.train_mask.sum().item() # train_mask denotes against which nodes to train (140 nodes)\n",
    "data.val_mask.sum().item() # val_mask denotes which nodes to use for validation, e.g., to perform early stopping (500 nodes)\n",
    "data.test_mask.sum().item() # test_mask denotes against which nodes to test (1000 nodes)."
   ]
  },
  {
   "cell_type": "code",
   "execution_count": 11,
   "id": "ca73098b-284c-4717-b569-00f11477e407",
   "metadata": {},
   "outputs": [],
   "source": [
    "dct={}\n",
    "for c in data.y[data.train_mask].numpy():\n",
    "    if c in dct:\n",
    "        dct[c] += 1\n",
    "    else:\n",
    "        dct[c] = 1\n",
    "print(dct)"
   ]
  },
  {
   "cell_type": "code",
   "execution_count": 2,
   "id": "924e67eb-47fa-441d-a97a-c36f254d48a6",
   "metadata": {},
   "outputs": [],
   "source": [
    "from torch_geometric.loader import DataLoader\n",
    "import torch.nn as nn\n",
    "import torch.nn.functional as F\n",
    "from torch_geometric.nn import GCNConv\n",
    "import torch.optim as optim\n",
    "import torch\n",
    "from sklearn.metrics import roc_auc_score\n",
    "from sklearn.metrics import recall_score\n",
    "from sklearn.metrics import f1_score\n",
    "\n",
    "class GCN(nn.Module):\n",
    "    def __init__(self, num_features, num_classes, hidden_channels, size_gcn, p_dropout):\n",
    "        super(GCN, self).__init__()\n",
    "        self.convs = torch.nn.ModuleList()\n",
    "\n",
    "        self.convs.append(GCNConv(num_features, hidden_channels))\n",
    "\n",
    "        for i in range(size_gcn):\n",
    "            self.convs.append(GCNConv(hidden_channels, hidden_channels))\n",
    "        \n",
    "        # add dropout layer\n",
    "        self.dropout = nn.Dropout(p=p_dropout)\n",
    "\n",
    "        self.convs.append(GCNConv(hidden_channels, num_classes))\n",
    "\n",
    "        self.act = F.leaky_relu\n",
    "\n",
    "     # Model with leading dropout\n",
    "    def forward(self, x, edge_index):\n",
    "        for conv in self.convs:\n",
    "            x = self.dropout(x)\n",
    "            x = conv(x, edge_index)\n",
    "\n",
    "            if conv != self.convs[-1]:\n",
    "                x = self.act(x)\n",
    "\n",
    "        return F.softmax(x, dim=1)"
   ]
  },
  {
   "cell_type": "code",
   "execution_count": 40,
   "id": "db7e8b24-9d9b-46b2-89e5-4364cb74a628",
   "metadata": {},
   "outputs": [
    {
     "name": "stderr",
     "output_type": "stream",
     "text": [
      "\u001b[32m[I 2023-11-28 13:47:44,438]\u001b[0m A new study created in memory with name: no-name-6170fb85-55a0-4ad7-8b9f-a2127c4f3ff6\u001b[0m\n",
      "C:\\Users\\ramme\\anaconda3\\lib\\site-packages\\optuna\\progress_bar.py:56: ExperimentalWarning: Progress bar is experimental (supported from v1.2.0). The interface can change in the future.\n",
      "  self._init_valid()\n"
     ]
    },
    {
     "data": {
      "application/vnd.jupyter.widget-view+json": {
       "model_id": "bf2da524530847e39148a1a166557c1c",
       "version_major": 2,
       "version_minor": 0
      },
      "text/plain": [
       "  0%|          | 0/100 [00:00<?, ?it/s]"
      ]
     },
     "metadata": {},
     "output_type": "display_data"
    },
    {
     "name": "stderr",
     "output_type": "stream",
     "text": [
      "C:\\Users\\ramme\\anaconda3\\lib\\site-packages\\optuna\\distributions.py:535: UserWarning: Choices for a categorical distribution should be a tuple of None, bool, int, float and str for persistent storage but contains <class 'torch.optim.rmsprop.RMSprop'> which is of type type.\n",
      "  warnings.warn(message)\n"
     ]
    },
    {
     "name": "stdout",
     "output_type": "stream",
     "text": [
      "Validation Accuracy: 67.00%\n",
      "\u001b[32m[I 2023-11-28 13:47:56,378]\u001b[0m Trial 2 finished with value: 0.67 and parameters: {'lr': 0.009601839296895303, 'hidden_channels': 64, 'hidden_layers': 0, 'p_dropout': 0.17759946113835334, 'batch_size': 120, 'epochs': 80, 'optimizer': <class 'torch.optim.rmsprop.RMSprop'>, 'weight_decay': 0.0017387734404663987}. Best is trial 2 with value: 0.67.\u001b[0m\n"
     ]
    },
    {
     "name": "stderr",
     "output_type": "stream",
     "text": [
      "C:\\Users\\ramme\\anaconda3\\lib\\site-packages\\optuna\\distributions.py:535: UserWarning: Choices for a categorical distribution should be a tuple of None, bool, int, float and str for persistent storage but contains <class 'torch.optim.rmsprop.RMSprop'> which is of type type.\n",
      "  warnings.warn(message)\n"
     ]
    },
    {
     "name": "stdout",
     "output_type": "stream",
     "text": [
      "Validation Accuracy: 38.40%\n",
      "\u001b[32m[I 2023-11-28 13:47:58,526]\u001b[0m Trial 5 finished with value: 0.384 and parameters: {'lr': 0.00025638088372624665, 'hidden_channels': 32, 'hidden_layers': 2, 'p_dropout': 0.6369593627980822, 'batch_size': 120, 'epochs': 10, 'optimizer': <class 'torch.optim.rmsprop.RMSprop'>, 'weight_decay': 0.004687217535428451}. Best is trial 2 with value: 0.67.\u001b[0m\n"
     ]
    },
    {
     "name": "stderr",
     "output_type": "stream",
     "text": [
      "C:\\Users\\ramme\\anaconda3\\lib\\site-packages\\optuna\\distributions.py:535: UserWarning: Choices for a categorical distribution should be a tuple of None, bool, int, float and str for persistent storage but contains <class 'torch.optim.rmsprop.RMSprop'> which is of type type.\n",
      "  warnings.warn(message)\n",
      "C:\\Users\\ramme\\anaconda3\\lib\\site-packages\\optuna\\distributions.py:535: UserWarning: Choices for a categorical distribution should be a tuple of None, bool, int, float and str for persistent storage but contains <class 'torch.optim.rmsprop.RMSprop'> which is of type type.\n",
      "  warnings.warn(message)\n"
     ]
    },
    {
     "name": "stdout",
     "output_type": "stream",
     "text": [
      "Validation Accuracy: 71.00%\n",
      "\u001b[32m[I 2023-11-28 13:48:03,176]\u001b[0m Trial 0 finished with value: 0.71 and parameters: {'lr': 0.0007878954823987216, 'hidden_channels': 32, 'hidden_layers': 1, 'p_dropout': 0.5910121048967519, 'batch_size': 120, 'epochs': 110, 'optimizer': <class 'torch.optim.rmsprop.RMSprop'>, 'weight_decay': 0.0044726345212626655}. Best is trial 0 with value: 0.71.\u001b[0m\n",
      "Validation Accuracy: 31.80%\n",
      "\u001b[32m[I 2023-11-28 13:48:03,328]\u001b[0m Trial 4 finished with value: 0.318 and parameters: {'lr': 0.003634870175809165, 'hidden_channels': 256, 'hidden_layers': 2, 'p_dropout': 0.16779137321210869, 'batch_size': 120, 'epochs': 50, 'optimizer': <class 'torch.optim.rmsprop.RMSprop'>, 'weight_decay': 0.008146799506931524}. Best is trial 0 with value: 0.71.\u001b[0m\n"
     ]
    },
    {
     "name": "stderr",
     "output_type": "stream",
     "text": [
      "C:\\Users\\ramme\\anaconda3\\lib\\site-packages\\optuna\\distributions.py:535: UserWarning: Choices for a categorical distribution should be a tuple of None, bool, int, float and str for persistent storage but contains <class 'torch.optim.rmsprop.RMSprop'> which is of type type.\n",
      "  warnings.warn(message)\n"
     ]
    },
    {
     "name": "stdout",
     "output_type": "stream",
     "text": [
      "Validation Accuracy: 56.00%\n",
      "\u001b[32m[I 2023-11-28 13:48:05,370]\u001b[0m Trial 1 finished with value: 0.56 and parameters: {'lr': 1.3668214968545023e-05, 'hidden_channels': 16, 'hidden_layers': 1, 'p_dropout': 0.15120635252103637, 'batch_size': 120, 'epochs': 120, 'optimizer': <class 'torch.optim.rmsprop.RMSprop'>, 'weight_decay': 0.0023178254438534344}. Best is trial 0 with value: 0.71.\u001b[0m\n"
     ]
    },
    {
     "name": "stderr",
     "output_type": "stream",
     "text": [
      "C:\\Users\\ramme\\anaconda3\\lib\\site-packages\\optuna\\distributions.py:535: UserWarning: Choices for a categorical distribution should be a tuple of None, bool, int, float and str for persistent storage but contains <class 'torch.optim.rmsprop.RMSprop'> which is of type type.\n",
      "  warnings.warn(message)\n"
     ]
    },
    {
     "name": "stdout",
     "output_type": "stream",
     "text": [
      "Validation Accuracy: 39.40%\n",
      "\u001b[32m[I 2023-11-28 13:48:08,251]\u001b[0m Trial 3 finished with value: 0.394 and parameters: {'lr': 2.0875084353362033e-05, 'hidden_channels': 32, 'hidden_layers': 2, 'p_dropout': 0.3955512061299108, 'batch_size': 120, 'epochs': 100, 'optimizer': <class 'torch.optim.rmsprop.RMSprop'>, 'weight_decay': 0.008492214003557711}. Best is trial 0 with value: 0.71.\u001b[0m\n"
     ]
    },
    {
     "name": "stderr",
     "output_type": "stream",
     "text": [
      "C:\\Users\\ramme\\anaconda3\\lib\\site-packages\\optuna\\distributions.py:535: UserWarning: Choices for a categorical distribution should be a tuple of None, bool, int, float and str for persistent storage but contains <class 'torch.optim.rmsprop.RMSprop'> which is of type type.\n",
      "  warnings.warn(message)\n"
     ]
    },
    {
     "name": "stdout",
     "output_type": "stream",
     "text": [
      "Validation Accuracy: 36.20%\n",
      "\u001b[32m[I 2023-11-28 13:48:12,170]\u001b[0m Trial 9 finished with value: 0.362 and parameters: {'lr': 2.5927757453312404e-05, 'hidden_channels': 32, 'hidden_layers': 2, 'p_dropout': 0.3883056676098573, 'batch_size': 120, 'epochs': 30, 'optimizer': <class 'torch.optim.rmsprop.RMSprop'>, 'weight_decay': 0.0005311186877190879}. Best is trial 0 with value: 0.71.\u001b[0m\n"
     ]
    },
    {
     "name": "stderr",
     "output_type": "stream",
     "text": [
      "C:\\Users\\ramme\\anaconda3\\lib\\site-packages\\optuna\\distributions.py:535: UserWarning: Choices for a categorical distribution should be a tuple of None, bool, int, float and str for persistent storage but contains <class 'torch.optim.rmsprop.RMSprop'> which is of type type.\n",
      "  warnings.warn(message)\n"
     ]
    },
    {
     "name": "stdout",
     "output_type": "stream",
     "text": [
      "Validation Accuracy: 68.00%\n",
      "\u001b[32m[I 2023-11-28 13:48:19,833]\u001b[0m Trial 8 finished with value: 0.68 and parameters: {'lr': 0.002327494452862379, 'hidden_channels': 64, 'hidden_layers': 1, 'p_dropout': 0.4343433711400041, 'batch_size': 120, 'epochs': 80, 'optimizer': <class 'torch.optim.rmsprop.RMSprop'>, 'weight_decay': 0.009481817176902033}. Best is trial 0 with value: 0.71.\u001b[0m\n"
     ]
    },
    {
     "name": "stderr",
     "output_type": "stream",
     "text": [
      "C:\\Users\\ramme\\anaconda3\\lib\\site-packages\\optuna\\distributions.py:535: UserWarning: Choices for a categorical distribution should be a tuple of None, bool, int, float and str for persistent storage but contains <class 'torch.optim.rmsprop.RMSprop'> which is of type type.\n",
      "  warnings.warn(message)\n"
     ]
    },
    {
     "name": "stdout",
     "output_type": "stream",
     "text": [
      "Validation Accuracy: 34.20%\n",
      "\u001b[32m[I 2023-11-28 13:48:20,497]\u001b[0m Trial 6 finished with value: 0.342 and parameters: {'lr': 1.0449676534015527e-05, 'hidden_channels': 16, 'hidden_layers': 1, 'p_dropout': 0.6393338041159491, 'batch_size': 120, 'epochs': 120, 'optimizer': <class 'torch.optim.rmsprop.RMSprop'>, 'weight_decay': 0.0009126809615807365}. Best is trial 0 with value: 0.71.\u001b[0m\n"
     ]
    },
    {
     "name": "stderr",
     "output_type": "stream",
     "text": [
      "C:\\Users\\ramme\\anaconda3\\lib\\site-packages\\optuna\\distributions.py:535: UserWarning: Choices for a categorical distribution should be a tuple of None, bool, int, float and str for persistent storage but contains <class 'torch.optim.rmsprop.RMSprop'> which is of type type.\n",
      "  warnings.warn(message)\n"
     ]
    },
    {
     "name": "stdout",
     "output_type": "stream",
     "text": [
      "Validation Accuracy: 70.40%\n",
      "\u001b[32m[I 2023-11-28 13:48:26,242]\u001b[0m Trial 10 finished with value: 0.704 and parameters: {'lr': 0.0006236429328973815, 'hidden_channels': 32, 'hidden_layers': 0, 'p_dropout': 0.16890734091815943, 'batch_size': 120, 'epochs': 120, 'optimizer': <class 'torch.optim.rmsprop.RMSprop'>, 'weight_decay': 0.0025701773592278227}. Best is trial 0 with value: 0.71.\u001b[0m\n"
     ]
    },
    {
     "name": "stderr",
     "output_type": "stream",
     "text": [
      "C:\\Users\\ramme\\anaconda3\\lib\\site-packages\\optuna\\distributions.py:535: UserWarning: Choices for a categorical distribution should be a tuple of None, bool, int, float and str for persistent storage but contains <class 'torch.optim.rmsprop.RMSprop'> which is of type type.\n",
      "  warnings.warn(message)\n"
     ]
    },
    {
     "name": "stdout",
     "output_type": "stream",
     "text": [
      "Validation Accuracy: 34.80%\n",
      "\u001b[32m[I 2023-11-28 13:48:27,877]\u001b[0m Trial 13 finished with value: 0.348 and parameters: {'lr': 1.1194368211501088e-05, 'hidden_channels': 64, 'hidden_layers': 1, 'p_dropout': 0.25505394076859883, 'batch_size': 120, 'epochs': 30, 'optimizer': <class 'torch.optim.rmsprop.RMSprop'>, 'weight_decay': 0.009962226961265058}. Best is trial 0 with value: 0.71.\u001b[0m\n"
     ]
    },
    {
     "name": "stderr",
     "output_type": "stream",
     "text": [
      "C:\\Users\\ramme\\anaconda3\\lib\\site-packages\\optuna\\distributions.py:535: UserWarning: Choices for a categorical distribution should be a tuple of None, bool, int, float and str for persistent storage but contains <class 'torch.optim.rmsprop.RMSprop'> which is of type type.\n",
      "  warnings.warn(message)\n"
     ]
    },
    {
     "name": "stdout",
     "output_type": "stream",
     "text": [
      "Validation Accuracy: 71.40%\n",
      "\u001b[32m[I 2023-11-28 13:48:33,159]\u001b[0m Trial 11 finished with value: 0.714 and parameters: {'lr': 1.8487503351838225e-05, 'hidden_channels': 256, 'hidden_layers': 1, 'p_dropout': 0.12740090125735992, 'batch_size': 120, 'epochs': 70, 'optimizer': <class 'torch.optim.rmsprop.RMSprop'>, 'weight_decay': 0.0077935429226981545}. Best is trial 11 with value: 0.714.\u001b[0m\n"
     ]
    },
    {
     "name": "stderr",
     "output_type": "stream",
     "text": [
      "C:\\Users\\ramme\\anaconda3\\lib\\site-packages\\optuna\\distributions.py:535: UserWarning: Choices for a categorical distribution should be a tuple of None, bool, int, float and str for persistent storage but contains <class 'torch.optim.rmsprop.RMSprop'> which is of type type.\n",
      "  warnings.warn(message)\n"
     ]
    },
    {
     "name": "stdout",
     "output_type": "stream",
     "text": [
      "Validation Accuracy: 67.20%\n",
      "\u001b[32m[I 2023-11-28 13:48:34,019]\u001b[0m Trial 7 finished with value: 0.672 and parameters: {'lr': 8.337093681185217e-05, 'hidden_channels': 256, 'hidden_layers': 2, 'p_dropout': 0.5794244369238595, 'batch_size': 120, 'epochs': 80, 'optimizer': <class 'torch.optim.rmsprop.RMSprop'>, 'weight_decay': 0.005947177989601646}. Best is trial 11 with value: 0.714.\u001b[0m\n"
     ]
    },
    {
     "name": "stderr",
     "output_type": "stream",
     "text": [
      "C:\\Users\\ramme\\anaconda3\\lib\\site-packages\\optuna\\distributions.py:535: UserWarning: Choices for a categorical distribution should be a tuple of None, bool, int, float and str for persistent storage but contains <class 'torch.optim.rmsprop.RMSprop'> which is of type type.\n",
      "  warnings.warn(message)\n"
     ]
    },
    {
     "name": "stdout",
     "output_type": "stream",
     "text": [
      "Validation Accuracy: 69.40%\n",
      "\u001b[32m[I 2023-11-28 13:48:49,228]\u001b[0m Trial 15 finished with value: 0.694 and parameters: {'lr': 0.0004747461176935251, 'hidden_channels': 128, 'hidden_layers': 0, 'p_dropout': 0.529383259091588, 'batch_size': 120, 'epochs': 110, 'optimizer': <class 'torch.optim.rmsprop.RMSprop'>, 'weight_decay': 0.0038086292038822644}. Best is trial 11 with value: 0.714.\u001b[0m\n"
     ]
    },
    {
     "name": "stderr",
     "output_type": "stream",
     "text": [
      "C:\\Users\\ramme\\anaconda3\\lib\\site-packages\\optuna\\distributions.py:535: UserWarning: Choices for a categorical distribution should be a tuple of None, bool, int, float and str for persistent storage but contains <class 'torch.optim.rmsprop.RMSprop'> which is of type type.\n",
      "  warnings.warn(message)\n"
     ]
    },
    {
     "name": "stdout",
     "output_type": "stream",
     "text": [
      "Validation Accuracy: 68.60%\n",
      "\u001b[32m[I 2023-11-28 13:48:51,153]\u001b[0m Trial 12 finished with value: 0.686 and parameters: {'lr': 4.327681083129146e-05, 'hidden_channels': 64, 'hidden_layers': 2, 'p_dropout': 0.44460420787626265, 'batch_size': 120, 'epochs': 110, 'optimizer': <class 'torch.optim.rmsprop.RMSprop'>, 'weight_decay': 0.001791764521311992}. Best is trial 11 with value: 0.714.\u001b[0m\n"
     ]
    },
    {
     "name": "stderr",
     "output_type": "stream",
     "text": [
      "C:\\Users\\ramme\\anaconda3\\lib\\site-packages\\optuna\\distributions.py:535: UserWarning: Choices for a categorical distribution should be a tuple of None, bool, int, float and str for persistent storage but contains <class 'torch.optim.rmsprop.RMSprop'> which is of type type.\n",
      "  warnings.warn(message)\n"
     ]
    },
    {
     "name": "stdout",
     "output_type": "stream",
     "text": [
      "Validation Accuracy: 69.60%\n",
      "\u001b[32m[I 2023-11-28 13:48:54,013]\u001b[0m Trial 16 finished with value: 0.696 and parameters: {'lr': 9.268413715074429e-05, 'hidden_channels': 256, 'hidden_layers': 1, 'p_dropout': 0.5253632861694928, 'batch_size': 120, 'epochs': 70, 'optimizer': <class 'torch.optim.rmsprop.RMSprop'>, 'weight_decay': 0.0063540095355922475}. Best is trial 11 with value: 0.714.\u001b[0m\n"
     ]
    },
    {
     "name": "stderr",
     "output_type": "stream",
     "text": [
      "C:\\Users\\ramme\\anaconda3\\lib\\site-packages\\optuna\\distributions.py:535: UserWarning: Choices for a categorical distribution should be a tuple of None, bool, int, float and str for persistent storage but contains <class 'torch.optim.rmsprop.RMSprop'> which is of type type.\n",
      "  warnings.warn(message)\n"
     ]
    },
    {
     "name": "stdout",
     "output_type": "stream",
     "text": [
      "Validation Accuracy: 69.20%\n",
      "\u001b[32m[I 2023-11-28 13:48:54,427]\u001b[0m Trial 14 finished with value: 0.692 and parameters: {'lr': 0.00021438676090973003, 'hidden_channels': 128, 'hidden_layers': 1, 'p_dropout': 0.5411652478430224, 'batch_size': 120, 'epochs': 110, 'optimizer': <class 'torch.optim.rmsprop.RMSprop'>, 'weight_decay': 0.005412367324662908}. Best is trial 11 with value: 0.714.\u001b[0m\n"
     ]
    },
    {
     "name": "stderr",
     "output_type": "stream",
     "text": [
      "C:\\Users\\ramme\\anaconda3\\lib\\site-packages\\optuna\\distributions.py:535: UserWarning: Choices for a categorical distribution should be a tuple of None, bool, int, float and str for persistent storage but contains <class 'torch.optim.rmsprop.RMSprop'> which is of type type.\n",
      "  warnings.warn(message)\n"
     ]
    },
    {
     "name": "stdout",
     "output_type": "stream",
     "text": [
      "Validation Accuracy: 69.80%\n",
      "\u001b[32m[I 2023-11-28 13:49:02,286]\u001b[0m Trial 17 finished with value: 0.698 and parameters: {'lr': 7.442306314787781e-05, 'hidden_channels': 128, 'hidden_layers': 1, 'p_dropout': 0.532880859286609, 'batch_size': 120, 'epochs': 110, 'optimizer': <class 'torch.optim.rmsprop.RMSprop'>, 'weight_decay': 0.006487072538775843}. Best is trial 11 with value: 0.714.\u001b[0m\n"
     ]
    },
    {
     "name": "stderr",
     "output_type": "stream",
     "text": [
      "C:\\Users\\ramme\\anaconda3\\lib\\site-packages\\optuna\\distributions.py:535: UserWarning: Choices for a categorical distribution should be a tuple of None, bool, int, float and str for persistent storage but contains <class 'torch.optim.rmsprop.RMSprop'> which is of type type.\n",
      "  warnings.warn(message)\n"
     ]
    },
    {
     "name": "stdout",
     "output_type": "stream",
     "text": [
      "Validation Accuracy: 70.80%\n",
      "\u001b[32m[I 2023-11-28 13:49:08,366]\u001b[0m Trial 21 finished with value: 0.708 and parameters: {'lr': 0.0010526561016309627, 'hidden_channels': 256, 'hidden_layers': 1, 'p_dropout': 0.6982217226121726, 'batch_size': 120, 'epochs': 40, 'optimizer': <class 'torch.optim.rmsprop.RMSprop'>, 'weight_decay': 0.006934078353973754}. Best is trial 11 with value: 0.714.\u001b[0m\n"
     ]
    },
    {
     "name": "stderr",
     "output_type": "stream",
     "text": [
      "C:\\Users\\ramme\\anaconda3\\lib\\site-packages\\optuna\\distributions.py:535: UserWarning: Choices for a categorical distribution should be a tuple of None, bool, int, float and str for persistent storage but contains <class 'torch.optim.rmsprop.RMSprop'> which is of type type.\n",
      "  warnings.warn(message)\n"
     ]
    },
    {
     "name": "stdout",
     "output_type": "stream",
     "text": [
      "Validation Accuracy: 70.40%\n",
      "\u001b[32m[I 2023-11-28 13:49:12,593]\u001b[0m Trial 18 finished with value: 0.704 and parameters: {'lr': 5.971449306197384e-05, 'hidden_channels': 256, 'hidden_layers': 1, 'p_dropout': 0.2695044873016291, 'batch_size': 120, 'epochs': 70, 'optimizer': <class 'torch.optim.rmsprop.RMSprop'>, 'weight_decay': 0.006412094683771326}. Best is trial 11 with value: 0.714.\u001b[0m\n"
     ]
    },
    {
     "name": "stderr",
     "output_type": "stream",
     "text": [
      "C:\\Users\\ramme\\anaconda3\\lib\\site-packages\\optuna\\distributions.py:535: UserWarning: Choices for a categorical distribution should be a tuple of None, bool, int, float and str for persistent storage but contains <class 'torch.optim.rmsprop.RMSprop'> which is of type type.\n",
      "  warnings.warn(message)\n"
     ]
    },
    {
     "name": "stdout",
     "output_type": "stream",
     "text": [
      "Validation Accuracy: 70.00%\n",
      "\u001b[32m[I 2023-11-28 13:49:12,810]\u001b[0m Trial 20 finished with value: 0.7 and parameters: {'lr': 0.00018122424619876196, 'hidden_channels': 128, 'hidden_layers': 1, 'p_dropout': 0.6868491632614713, 'batch_size': 120, 'epochs': 70, 'optimizer': <class 'torch.optim.rmsprop.RMSprop'>, 'weight_decay': 0.006929045998134577}. Best is trial 11 with value: 0.714.\u001b[0m\n"
     ]
    },
    {
     "name": "stderr",
     "output_type": "stream",
     "text": [
      "C:\\Users\\ramme\\anaconda3\\lib\\site-packages\\optuna\\distributions.py:535: UserWarning: Choices for a categorical distribution should be a tuple of None, bool, int, float and str for persistent storage but contains <class 'torch.optim.rmsprop.RMSprop'> which is of type type.\n",
      "  warnings.warn(message)\n"
     ]
    },
    {
     "name": "stdout",
     "output_type": "stream",
     "text": [
      "Validation Accuracy: 71.60%\n",
      "\u001b[32m[I 2023-11-28 13:49:13,817]\u001b[0m Trial 19 finished with value: 0.716 and parameters: {'lr': 0.00012958177197734666, 'hidden_channels': 256, 'hidden_layers': 1, 'p_dropout': 0.6996525036132898, 'batch_size': 120, 'epochs': 70, 'optimizer': <class 'torch.optim.rmsprop.RMSprop'>, 'weight_decay': 0.006386745608780452}. Best is trial 19 with value: 0.716.\u001b[0m\n"
     ]
    },
    {
     "name": "stderr",
     "output_type": "stream",
     "text": [
      "C:\\Users\\ramme\\anaconda3\\lib\\site-packages\\optuna\\distributions.py:535: UserWarning: Choices for a categorical distribution should be a tuple of None, bool, int, float and str for persistent storage but contains <class 'torch.optim.rmsprop.RMSprop'> which is of type type.\n",
      "  warnings.warn(message)\n"
     ]
    },
    {
     "name": "stdout",
     "output_type": "stream",
     "text": [
      "Validation Accuracy: 62.60%\n",
      "\u001b[32m[I 2023-11-28 13:49:20,138]\u001b[0m Trial 26 finished with value: 0.626 and parameters: {'lr': 3.788279944918757e-05, 'hidden_channels': 256, 'hidden_layers': 1, 'p_dropout': 0.6195925831102302, 'batch_size': 120, 'epochs': 20, 'optimizer': <class 'torch.optim.rmsprop.RMSprop'>, 'weight_decay': 0.003874772393166654}. Best is trial 19 with value: 0.716.\u001b[0m\n"
     ]
    },
    {
     "name": "stderr",
     "output_type": "stream",
     "text": [
      "C:\\Users\\ramme\\anaconda3\\lib\\site-packages\\optuna\\distributions.py:535: UserWarning: Choices for a categorical distribution should be a tuple of None, bool, int, float and str for persistent storage but contains <class 'torch.optim.rmsprop.RMSprop'> which is of type type.\n",
      "  warnings.warn(message)\n"
     ]
    },
    {
     "name": "stdout",
     "output_type": "stream",
     "text": [
      "Validation Accuracy: 69.20%\n",
      "\u001b[32m[I 2023-11-28 13:49:24,087]\u001b[0m Trial 23 finished with value: 0.692 and parameters: {'lr': 0.00017882551884348128, 'hidden_channels': 32, 'hidden_layers': 1, 'p_dropout': 0.10470993434525619, 'batch_size': 120, 'epochs': 70, 'optimizer': <class 'torch.optim.rmsprop.RMSprop'>, 'weight_decay': 0.004297416821798955}. Best is trial 19 with value: 0.716.\u001b[0m\n"
     ]
    },
    {
     "name": "stderr",
     "output_type": "stream",
     "text": [
      "C:\\Users\\ramme\\anaconda3\\lib\\site-packages\\optuna\\distributions.py:535: UserWarning: Choices for a categorical distribution should be a tuple of None, bool, int, float and str for persistent storage but contains <class 'torch.optim.rmsprop.RMSprop'> which is of type type.\n",
      "  warnings.warn(message)\n"
     ]
    },
    {
     "name": "stdout",
     "output_type": "stream",
     "text": [
      "Validation Accuracy: 70.60%\n",
      "\u001b[32m[I 2023-11-28 13:49:25,690]\u001b[0m Trial 25 finished with value: 0.706 and parameters: {'lr': 0.0008871408682804143, 'hidden_channels': 256, 'hidden_layers': 1, 'p_dropout': 0.6931470317432726, 'batch_size': 120, 'epochs': 40, 'optimizer': <class 'torch.optim.rmsprop.RMSprop'>, 'weight_decay': 0.007727106899935213}. Best is trial 19 with value: 0.716.\u001b[0m\n"
     ]
    },
    {
     "name": "stderr",
     "output_type": "stream",
     "text": [
      "C:\\Users\\ramme\\anaconda3\\lib\\site-packages\\optuna\\distributions.py:535: UserWarning: Choices for a categorical distribution should be a tuple of None, bool, int, float and str for persistent storage but contains <class 'torch.optim.rmsprop.RMSprop'> which is of type type.\n",
      "  warnings.warn(message)\n"
     ]
    },
    {
     "name": "stdout",
     "output_type": "stream",
     "text": [
      "Validation Accuracy: 70.40%\n",
      "\u001b[32m[I 2023-11-28 13:49:25,943]\u001b[0m Trial 24 finished with value: 0.704 and parameters: {'lr': 0.00017513908615853272, 'hidden_channels': 32, 'hidden_layers': 1, 'p_dropout': 0.10077545112475982, 'batch_size': 120, 'epochs': 60, 'optimizer': <class 'torch.optim.rmsprop.RMSprop'>, 'weight_decay': 0.004326472143589752}. Best is trial 19 with value: 0.716.\u001b[0m\n"
     ]
    },
    {
     "name": "stderr",
     "output_type": "stream",
     "text": [
      "C:\\Users\\ramme\\anaconda3\\lib\\site-packages\\optuna\\distributions.py:535: UserWarning: Choices for a categorical distribution should be a tuple of None, bool, int, float and str for persistent storage but contains <class 'torch.optim.rmsprop.RMSprop'> which is of type type.\n",
      "  warnings.warn(message)\n"
     ]
    },
    {
     "name": "stdout",
     "output_type": "stream",
     "text": [
      "Validation Accuracy: 68.40%\n",
      "\u001b[32m[I 2023-11-28 13:49:32,086]\u001b[0m Trial 22 finished with value: 0.684 and parameters: {'lr': 0.0009517952873000745, 'hidden_channels': 256, 'hidden_layers': 1, 'p_dropout': 0.29249040028769374, 'batch_size': 120, 'epochs': 90, 'optimizer': <class 'torch.optim.rmsprop.RMSprop'>, 'weight_decay': 0.007513315844178142}. Best is trial 19 with value: 0.716.\u001b[0m\n"
     ]
    },
    {
     "name": "stderr",
     "output_type": "stream",
     "text": [
      "C:\\Users\\ramme\\anaconda3\\lib\\site-packages\\optuna\\distributions.py:535: UserWarning: Choices for a categorical distribution should be a tuple of None, bool, int, float and str for persistent storage but contains <class 'torch.optim.rmsprop.RMSprop'> which is of type type.\n",
      "  warnings.warn(message)\n"
     ]
    },
    {
     "name": "stdout",
     "output_type": "stream",
     "text": [
      "Validation Accuracy: 69.40%\n",
      "\u001b[32m[I 2023-11-28 13:49:41,072]\u001b[0m Trial 29 finished with value: 0.694 and parameters: {'lr': 0.00033344719071263764, 'hidden_channels': 256, 'hidden_layers': 0, 'p_dropout': 0.32552076187281415, 'batch_size': 120, 'epochs': 60, 'optimizer': <class 'torch.optim.rmsprop.RMSprop'>, 'weight_decay': 0.005372444757592585}. Best is trial 19 with value: 0.716.\u001b[0m\n"
     ]
    },
    {
     "name": "stderr",
     "output_type": "stream",
     "text": [
      "C:\\Users\\ramme\\anaconda3\\lib\\site-packages\\optuna\\distributions.py:535: UserWarning: Choices for a categorical distribution should be a tuple of None, bool, int, float and str for persistent storage but contains <class 'torch.optim.rmsprop.RMSprop'> which is of type type.\n",
      "  warnings.warn(message)\n"
     ]
    },
    {
     "name": "stdout",
     "output_type": "stream",
     "text": [
      "Validation Accuracy: 68.80%\n",
      "\u001b[32m[I 2023-11-28 13:49:44,021]\u001b[0m Trial 30 finished with value: 0.688 and parameters: {'lr': 0.00011096146120651338, 'hidden_channels': 256, 'hidden_layers': 0, 'p_dropout': 0.3344259539430858, 'batch_size': 120, 'epochs': 70, 'optimizer': <class 'torch.optim.rmsprop.RMSprop'>, 'weight_decay': 0.005558297518357792}. Best is trial 19 with value: 0.716.\u001b[0m\n"
     ]
    },
    {
     "name": "stderr",
     "output_type": "stream",
     "text": [
      "C:\\Users\\ramme\\anaconda3\\lib\\site-packages\\optuna\\distributions.py:535: UserWarning: Choices for a categorical distribution should be a tuple of None, bool, int, float and str for persistent storage but contains <class 'torch.optim.rmsprop.RMSprop'> which is of type type.\n",
      "  warnings.warn(message)\n"
     ]
    },
    {
     "name": "stdout",
     "output_type": "stream",
     "text": [
      "Validation Accuracy: 70.20%\n",
      "\u001b[32m[I 2023-11-28 13:49:44,388]\u001b[0m Trial 31 finished with value: 0.702 and parameters: {'lr': 0.0003854943703403941, 'hidden_channels': 16, 'hidden_layers': 0, 'p_dropout': 0.583256753124369, 'batch_size': 120, 'epochs': 70, 'optimizer': <class 'torch.optim.rmsprop.RMSprop'>, 'weight_decay': 0.005379911738096939}. Best is trial 19 with value: 0.716.\u001b[0m\n"
     ]
    },
    {
     "name": "stderr",
     "output_type": "stream",
     "text": [
      "C:\\Users\\ramme\\anaconda3\\lib\\site-packages\\optuna\\distributions.py:535: UserWarning: Choices for a categorical distribution should be a tuple of None, bool, int, float and str for persistent storage but contains <class 'torch.optim.rmsprop.RMSprop'> which is of type type.\n",
      "  warnings.warn(message)\n"
     ]
    },
    {
     "name": "stdout",
     "output_type": "stream",
     "text": [
      "Validation Accuracy: 70.20%\n",
      "\u001b[32m[I 2023-11-28 13:49:45,832]\u001b[0m Trial 28 finished with value: 0.702 and parameters: {'lr': 0.00010347189787050655, 'hidden_channels': 256, 'hidden_layers': 1, 'p_dropout': 0.6938188103766524, 'batch_size': 120, 'epochs': 60, 'optimizer': <class 'torch.optim.rmsprop.RMSprop'>, 'weight_decay': 0.0054259895078188755}. Best is trial 19 with value: 0.716.\u001b[0m\n"
     ]
    },
    {
     "name": "stderr",
     "output_type": "stream",
     "text": [
      "C:\\Users\\ramme\\anaconda3\\lib\\site-packages\\optuna\\distributions.py:535: UserWarning: Choices for a categorical distribution should be a tuple of None, bool, int, float and str for persistent storage but contains <class 'torch.optim.rmsprop.RMSprop'> which is of type type.\n",
      "  warnings.warn(message)\n"
     ]
    },
    {
     "name": "stdout",
     "output_type": "stream",
     "text": [
      "Validation Accuracy: 39.00%\n",
      "\u001b[32m[I 2023-11-28 13:49:46,399]\u001b[0m Trial 34 finished with value: 0.39 and parameters: {'lr': 2.0636639733956747e-05, 'hidden_channels': 16, 'hidden_layers': 1, 'p_dropout': 0.21425884250517263, 'batch_size': 120, 'epochs': 10, 'optimizer': <class 'torch.optim.rmsprop.RMSprop'>, 'weight_decay': 0.007203317698785309}. Best is trial 19 with value: 0.716.\u001b[0m\n"
     ]
    },
    {
     "name": "stderr",
     "output_type": "stream",
     "text": [
      "C:\\Users\\ramme\\anaconda3\\lib\\site-packages\\optuna\\distributions.py:535: UserWarning: Choices for a categorical distribution should be a tuple of None, bool, int, float and str for persistent storage but contains <class 'torch.optim.rmsprop.RMSprop'> which is of type type.\n",
      "  warnings.warn(message)\n"
     ]
    },
    {
     "name": "stdout",
     "output_type": "stream",
     "text": [
      "Validation Accuracy: 30.20%\n",
      "\u001b[32m[I 2023-11-28 13:49:47,898]\u001b[0m Trial 33 finished with value: 0.302 and parameters: {'lr': 1.827576726996182e-05, 'hidden_channels': 16, 'hidden_layers': 1, 'p_dropout': 0.47350391796110575, 'batch_size': 120, 'epochs': 20, 'optimizer': <class 'torch.optim.rmsprop.RMSprop'>, 'weight_decay': 0.004935468705957457}. Best is trial 19 with value: 0.716.\u001b[0m\n"
     ]
    },
    {
     "name": "stderr",
     "output_type": "stream",
     "text": [
      "C:\\Users\\ramme\\anaconda3\\lib\\site-packages\\optuna\\distributions.py:535: UserWarning: Choices for a categorical distribution should be a tuple of None, bool, int, float and str for persistent storage but contains <class 'torch.optim.rmsprop.RMSprop'> which is of type type.\n",
      "  warnings.warn(message)\n"
     ]
    },
    {
     "name": "stdout",
     "output_type": "stream",
     "text": [
      "Validation Accuracy: 70.00%\n",
      "\u001b[32m[I 2023-11-28 13:49:51,019]\u001b[0m Trial 27 finished with value: 0.7 and parameters: {'lr': 0.00015915255533803575, 'hidden_channels': 256, 'hidden_layers': 1, 'p_dropout': 0.6737365289194637, 'batch_size': 120, 'epochs': 90, 'optimizer': <class 'torch.optim.rmsprop.RMSprop'>, 'weight_decay': 0.007655469264401682}. Best is trial 19 with value: 0.716.\u001b[0m\n"
     ]
    },
    {
     "name": "stderr",
     "output_type": "stream",
     "text": [
      "C:\\Users\\ramme\\anaconda3\\lib\\site-packages\\optuna\\distributions.py:535: UserWarning: Choices for a categorical distribution should be a tuple of None, bool, int, float and str for persistent storage but contains <class 'torch.optim.rmsprop.RMSprop'> which is of type type.\n",
      "  warnings.warn(message)\n"
     ]
    },
    {
     "name": "stdout",
     "output_type": "stream",
     "text": [
      "Validation Accuracy: 54.80%\n",
      "\u001b[32m[I 2023-11-28 13:49:55,602]\u001b[0m Trial 32 finished with value: 0.548 and parameters: {'lr': 0.00010430407279351495, 'hidden_channels': 16, 'hidden_layers': 1, 'p_dropout': 0.45709176098638415, 'batch_size': 120, 'epochs': 70, 'optimizer': <class 'torch.optim.rmsprop.RMSprop'>, 'weight_decay': 0.005599500161069493}. Best is trial 19 with value: 0.716.\u001b[0m\n"
     ]
    },
    {
     "name": "stderr",
     "output_type": "stream",
     "text": [
      "C:\\Users\\ramme\\anaconda3\\lib\\site-packages\\optuna\\distributions.py:535: UserWarning: Choices for a categorical distribution should be a tuple of None, bool, int, float and str for persistent storage but contains <class 'torch.optim.rmsprop.RMSprop'> which is of type type.\n",
      "  warnings.warn(message)\n"
     ]
    },
    {
     "name": "stdout",
     "output_type": "stream",
     "text": [
      "Validation Accuracy: 61.40%\n",
      "\u001b[32m[I 2023-11-28 13:49:59,617]\u001b[0m Trial 35 finished with value: 0.614 and parameters: {'lr': 2.1692702673963274e-05, 'hidden_channels': 256, 'hidden_layers': 1, 'p_dropout': 0.655538685928528, 'batch_size': 120, 'epochs': 40, 'optimizer': <class 'torch.optim.rmsprop.RMSprop'>, 'weight_decay': 0.007057181143268554}. Best is trial 19 with value: 0.716.\u001b[0m\n"
     ]
    },
    {
     "name": "stderr",
     "output_type": "stream",
     "text": [
      "C:\\Users\\ramme\\anaconda3\\lib\\site-packages\\optuna\\distributions.py:535: UserWarning: Choices for a categorical distribution should be a tuple of None, bool, int, float and str for persistent storage but contains <class 'torch.optim.rmsprop.RMSprop'> which is of type type.\n",
      "  warnings.warn(message)\n"
     ]
    },
    {
     "name": "stdout",
     "output_type": "stream",
     "text": [
      "Validation Accuracy: 68.20%\n",
      "\u001b[32m[I 2023-11-28 13:50:00,152]\u001b[0m Trial 36 finished with value: 0.682 and parameters: {'lr': 0.001232286636060218, 'hidden_channels': 256, 'hidden_layers': 1, 'p_dropout': 0.664596081808084, 'batch_size': 120, 'epochs': 40, 'optimizer': <class 'torch.optim.rmsprop.RMSprop'>, 'weight_decay': 0.007040312417259913}. Best is trial 19 with value: 0.716.\u001b[0m\n"
     ]
    },
    {
     "name": "stderr",
     "output_type": "stream",
     "text": [
      "C:\\Users\\ramme\\anaconda3\\lib\\site-packages\\optuna\\distributions.py:535: UserWarning: Choices for a categorical distribution should be a tuple of None, bool, int, float and str for persistent storage but contains <class 'torch.optim.rmsprop.RMSprop'> which is of type type.\n",
      "  warnings.warn(message)\n"
     ]
    },
    {
     "name": "stdout",
     "output_type": "stream",
     "text": [
      "Validation Accuracy: 67.40%\n",
      "\u001b[32m[I 2023-11-28 13:50:04,598]\u001b[0m Trial 38 finished with value: 0.674 and parameters: {'lr': 0.0014884137962243593, 'hidden_channels': 256, 'hidden_layers': 1, 'p_dropout': 0.6391139507826056, 'batch_size': 120, 'epochs': 40, 'optimizer': <class 'torch.optim.rmsprop.RMSprop'>, 'weight_decay': 0.008427978728867015}. Best is trial 19 with value: 0.716.\u001b[0m\n"
     ]
    },
    {
     "name": "stderr",
     "output_type": "stream",
     "text": [
      "C:\\Users\\ramme\\anaconda3\\lib\\site-packages\\optuna\\distributions.py:535: UserWarning: Choices for a categorical distribution should be a tuple of None, bool, int, float and str for persistent storage but contains <class 'torch.optim.rmsprop.RMSprop'> which is of type type.\n",
      "  warnings.warn(message)\n"
     ]
    },
    {
     "name": "stdout",
     "output_type": "stream",
     "text": [
      "Validation Accuracy: 65.20%\n",
      "\u001b[32m[I 2023-11-28 13:50:08,440]\u001b[0m Trial 39 finished with value: 0.652 and parameters: {'lr': 0.0017116337644813905, 'hidden_channels': 256, 'hidden_layers': 1, 'p_dropout': 0.652824539408188, 'batch_size': 120, 'epochs': 40, 'optimizer': <class 'torch.optim.rmsprop.RMSprop'>, 'weight_decay': 0.008396422467301056}. Best is trial 19 with value: 0.716.\u001b[0m\n"
     ]
    },
    {
     "name": "stderr",
     "output_type": "stream",
     "text": [
      "C:\\Users\\ramme\\anaconda3\\lib\\site-packages\\optuna\\distributions.py:535: UserWarning: Choices for a categorical distribution should be a tuple of None, bool, int, float and str for persistent storage but contains <class 'torch.optim.rmsprop.RMSprop'> which is of type type.\n",
      "  warnings.warn(message)\n"
     ]
    },
    {
     "name": "stdout",
     "output_type": "stream",
     "text": [
      "Validation Accuracy: 71.40%\n",
      "\u001b[32m[I 2023-11-28 13:50:17,956]\u001b[0m Trial 41 finished with value: 0.714 and parameters: {'lr': 0.0003141405362493803, 'hidden_channels': 32, 'hidden_layers': 1, 'p_dropout': 0.6111118536903877, 'batch_size': 120, 'epochs': 100, 'optimizer': <class 'torch.optim.rmsprop.RMSprop'>, 'weight_decay': 0.008622259642654746}. Best is trial 19 with value: 0.716.\u001b[0m\n"
     ]
    },
    {
     "name": "stderr",
     "output_type": "stream",
     "text": [
      "C:\\Users\\ramme\\anaconda3\\lib\\site-packages\\optuna\\distributions.py:535: UserWarning: Choices for a categorical distribution should be a tuple of None, bool, int, float and str for persistent storage but contains <class 'torch.optim.rmsprop.RMSprop'> which is of type type.\n",
      "  warnings.warn(message)\n"
     ]
    },
    {
     "name": "stdout",
     "output_type": "stream",
     "text": [
      "Validation Accuracy: 69.60%\n",
      "\u001b[32m[I 2023-11-28 13:50:18,643]\u001b[0m Trial 40 finished with value: 0.696 and parameters: {'lr': 0.0012116553952815272, 'hidden_channels': 32, 'hidden_layers': 1, 'p_dropout': 0.6174850694066476, 'batch_size': 120, 'epochs': 100, 'optimizer': <class 'torch.optim.rmsprop.RMSprop'>, 'weight_decay': 0.008663000472557086}. Best is trial 19 with value: 0.716.\u001b[0m\n"
     ]
    },
    {
     "name": "stderr",
     "output_type": "stream",
     "text": [
      "C:\\Users\\ramme\\anaconda3\\lib\\site-packages\\optuna\\distributions.py:535: UserWarning: Choices for a categorical distribution should be a tuple of None, bool, int, float and str for persistent storage but contains <class 'torch.optim.rmsprop.RMSprop'> which is of type type.\n",
      "  warnings.warn(message)\n"
     ]
    },
    {
     "name": "stdout",
     "output_type": "stream",
     "text": [
      "Validation Accuracy: 65.60%\n",
      "\u001b[32m[I 2023-11-28 13:50:19,888]\u001b[0m Trial 37 finished with value: 0.656 and parameters: {'lr': 0.0013612557006698752, 'hidden_channels': 256, 'hidden_layers': 1, 'p_dropout': 0.6519882445230953, 'batch_size': 120, 'epochs': 100, 'optimizer': <class 'torch.optim.rmsprop.RMSprop'>, 'weight_decay': 0.008067811116366168}. Best is trial 19 with value: 0.716.\u001b[0m\n"
     ]
    },
    {
     "name": "stderr",
     "output_type": "stream",
     "text": [
      "C:\\Users\\ramme\\anaconda3\\lib\\site-packages\\optuna\\distributions.py:535: UserWarning: Choices for a categorical distribution should be a tuple of None, bool, int, float and str for persistent storage but contains <class 'torch.optim.rmsprop.RMSprop'> which is of type type.\n",
      "  warnings.warn(message)\n"
     ]
    },
    {
     "name": "stdout",
     "output_type": "stream",
     "text": [
      "Validation Accuracy: 44.80%\n",
      "\u001b[32m[I 2023-11-28 13:50:25,448]\u001b[0m Trial 42 finished with value: 0.448 and parameters: {'lr': 0.0006293461052482725, 'hidden_channels': 32, 'hidden_layers': 2, 'p_dropout': 0.6127245307146632, 'batch_size': 120, 'epochs': 100, 'optimizer': <class 'torch.optim.rmsprop.RMSprop'>, 'weight_decay': 0.00900228466207438}. Best is trial 19 with value: 0.716.\u001b[0m\n"
     ]
    },
    {
     "name": "stderr",
     "output_type": "stream",
     "text": [
      "C:\\Users\\ramme\\anaconda3\\lib\\site-packages\\optuna\\distributions.py:535: UserWarning: Choices for a categorical distribution should be a tuple of None, bool, int, float and str for persistent storage but contains <class 'torch.optim.rmsprop.RMSprop'> which is of type type.\n",
      "  warnings.warn(message)\n"
     ]
    },
    {
     "name": "stdout",
     "output_type": "stream",
     "text": [
      "Validation Accuracy: 56.40%\n",
      "\u001b[32m[I 2023-11-28 13:50:27,952]\u001b[0m Trial 43 finished with value: 0.564 and parameters: {'lr': 0.0005637998436494781, 'hidden_channels': 32, 'hidden_layers': 2, 'p_dropout': 0.6043720622989218, 'batch_size': 120, 'epochs': 100, 'optimizer': <class 'torch.optim.rmsprop.RMSprop'>, 'weight_decay': 0.009109576134592802}. Best is trial 19 with value: 0.716.\u001b[0m\n"
     ]
    },
    {
     "name": "stderr",
     "output_type": "stream",
     "text": [
      "C:\\Users\\ramme\\anaconda3\\lib\\site-packages\\optuna\\distributions.py:535: UserWarning: Choices for a categorical distribution should be a tuple of None, bool, int, float and str for persistent storage but contains <class 'torch.optim.rmsprop.RMSprop'> which is of type type.\n",
      "  warnings.warn(message)\n"
     ]
    },
    {
     "name": "stdout",
     "output_type": "stream",
     "text": [
      "Validation Accuracy: 39.20%\n",
      "\u001b[32m[I 2023-11-28 13:50:30,009]\u001b[0m Trial 46 finished with value: 0.392 and parameters: {'lr': 0.0005789332317720104, 'hidden_channels': 32, 'hidden_layers': 2, 'p_dropout': 0.5998774145101138, 'batch_size': 120, 'epochs': 50, 'optimizer': <class 'torch.optim.rmsprop.RMSprop'>, 'weight_decay': 0.00899075590940574}. Best is trial 19 with value: 0.716.\u001b[0m\n"
     ]
    },
    {
     "name": "stderr",
     "output_type": "stream",
     "text": [
      "C:\\Users\\ramme\\anaconda3\\lib\\site-packages\\optuna\\distributions.py:535: UserWarning: Choices for a categorical distribution should be a tuple of None, bool, int, float and str for persistent storage but contains <class 'torch.optim.rmsprop.RMSprop'> which is of type type.\n",
      "  warnings.warn(message)\n"
     ]
    },
    {
     "name": "stdout",
     "output_type": "stream",
     "text": [
      "Validation Accuracy: 30.20%\n",
      "\u001b[32m[I 2023-11-28 13:50:35,087]\u001b[0m Trial 47 finished with value: 0.302 and parameters: {'lr': 0.00030072823140107164, 'hidden_channels': 32, 'hidden_layers': 2, 'p_dropout': 0.6947780366406323, 'batch_size': 120, 'epochs': 50, 'optimizer': <class 'torch.optim.rmsprop.RMSprop'>, 'weight_decay': 0.008937429089761336}. Best is trial 19 with value: 0.716.\u001b[0m\n"
     ]
    },
    {
     "name": "stderr",
     "output_type": "stream",
     "text": [
      "C:\\Users\\ramme\\anaconda3\\lib\\site-packages\\optuna\\distributions.py:535: UserWarning: Choices for a categorical distribution should be a tuple of None, bool, int, float and str for persistent storage but contains <class 'torch.optim.rmsprop.RMSprop'> which is of type type.\n",
      "  warnings.warn(message)\n"
     ]
    },
    {
     "name": "stdout",
     "output_type": "stream",
     "text": [
      "Validation Accuracy: 71.20%\n",
      "\u001b[32m[I 2023-11-28 13:50:35,908]\u001b[0m Trial 48 finished with value: 0.712 and parameters: {'lr': 0.00043215445275277556, 'hidden_channels': 32, 'hidden_layers': 1, 'p_dropout': 0.5902012105099486, 'batch_size': 120, 'epochs': 50, 'optimizer': <class 'torch.optim.rmsprop.RMSprop'>, 'weight_decay': 0.008180417716391471}. Best is trial 19 with value: 0.716.\u001b[0m\n"
     ]
    },
    {
     "name": "stderr",
     "output_type": "stream",
     "text": [
      "C:\\Users\\ramme\\anaconda3\\lib\\site-packages\\optuna\\distributions.py:535: UserWarning: Choices for a categorical distribution should be a tuple of None, bool, int, float and str for persistent storage but contains <class 'torch.optim.rmsprop.RMSprop'> which is of type type.\n",
      "  warnings.warn(message)\n"
     ]
    },
    {
     "name": "stdout",
     "output_type": "stream",
     "text": [
      "Validation Accuracy: 48.20%\n",
      "\u001b[32m[I 2023-11-28 13:50:37,822]\u001b[0m Trial 44 finished with value: 0.482 and parameters: {'lr': 0.0002532065165375245, 'hidden_channels': 32, 'hidden_layers': 2, 'p_dropout': 0.6077024613797435, 'batch_size': 120, 'epochs': 100, 'optimizer': <class 'torch.optim.rmsprop.RMSprop'>, 'weight_decay': 0.008964755968752642}. Best is trial 19 with value: 0.716.\u001b[0m\n"
     ]
    },
    {
     "name": "stderr",
     "output_type": "stream",
     "text": [
      "C:\\Users\\ramme\\anaconda3\\lib\\site-packages\\optuna\\distributions.py:535: UserWarning: Choices for a categorical distribution should be a tuple of None, bool, int, float and str for persistent storage but contains <class 'torch.optim.rmsprop.RMSprop'> which is of type type.\n",
      "  warnings.warn(message)\n"
     ]
    },
    {
     "name": "stdout",
     "output_type": "stream",
     "text": [
      "Validation Accuracy: 55.80%\n",
      "\u001b[32m[I 2023-11-28 13:50:38,654]\u001b[0m Trial 45 finished with value: 0.558 and parameters: {'lr': 0.0004707296079642892, 'hidden_channels': 32, 'hidden_layers': 2, 'p_dropout': 0.5927376152030273, 'batch_size': 120, 'epochs': 100, 'optimizer': <class 'torch.optim.rmsprop.RMSprop'>, 'weight_decay': 0.00903899238195877}. Best is trial 19 with value: 0.716.\u001b[0m\n"
     ]
    },
    {
     "name": "stderr",
     "output_type": "stream",
     "text": [
      "C:\\Users\\ramme\\anaconda3\\lib\\site-packages\\optuna\\distributions.py:535: UserWarning: Choices for a categorical distribution should be a tuple of None, bool, int, float and str for persistent storage but contains <class 'torch.optim.rmsprop.RMSprop'> which is of type type.\n",
      "  warnings.warn(message)\n"
     ]
    },
    {
     "name": "stdout",
     "output_type": "stream",
     "text": [
      "Validation Accuracy: 70.60%\n",
      "\u001b[32m[I 2023-11-28 13:50:44,507]\u001b[0m Trial 51 finished with value: 0.706 and parameters: {'lr': 0.0002409004681059147, 'hidden_channels': 32, 'hidden_layers': 1, 'p_dropout': 0.5633208006640698, 'batch_size': 120, 'epochs': 50, 'optimizer': <class 'torch.optim.rmsprop.RMSprop'>, 'weight_decay': 0.009636153299290455}. Best is trial 19 with value: 0.716.\u001b[0m\n"
     ]
    },
    {
     "name": "stderr",
     "output_type": "stream",
     "text": [
      "C:\\Users\\ramme\\anaconda3\\lib\\site-packages\\optuna\\distributions.py:535: UserWarning: Choices for a categorical distribution should be a tuple of None, bool, int, float and str for persistent storage but contains <class 'torch.optim.rmsprop.RMSprop'> which is of type type.\n",
      "  warnings.warn(message)\n"
     ]
    },
    {
     "name": "stdout",
     "output_type": "stream",
     "text": [
      "Validation Accuracy: 71.40%\n",
      "\u001b[32m[I 2023-11-28 13:50:45,820]\u001b[0m Trial 49 finished with value: 0.714 and parameters: {'lr': 0.00026493761879522017, 'hidden_channels': 64, 'hidden_layers': 1, 'p_dropout': 0.6978472491248539, 'batch_size': 120, 'epochs': 80, 'optimizer': <class 'torch.optim.rmsprop.RMSprop'>, 'weight_decay': 0.007977582654088926}. Best is trial 19 with value: 0.716.\u001b[0m\n"
     ]
    },
    {
     "name": "stderr",
     "output_type": "stream",
     "text": [
      "C:\\Users\\ramme\\anaconda3\\lib\\site-packages\\optuna\\distributions.py:535: UserWarning: Choices for a categorical distribution should be a tuple of None, bool, int, float and str for persistent storage but contains <class 'torch.optim.rmsprop.RMSprop'> which is of type type.\n",
      "  warnings.warn(message)\n"
     ]
    },
    {
     "name": "stdout",
     "output_type": "stream",
     "text": [
      "Validation Accuracy: 68.80%\n",
      "\u001b[32m[I 2023-11-28 13:50:47,848]\u001b[0m Trial 52 finished with value: 0.688 and parameters: {'lr': 0.00037952380773577913, 'hidden_channels': 64, 'hidden_layers': 1, 'p_dropout': 0.5578582369230193, 'batch_size': 120, 'epochs': 50, 'optimizer': <class 'torch.optim.rmsprop.RMSprop'>, 'weight_decay': 0.008184586251412395}. Best is trial 19 with value: 0.716.\u001b[0m\n"
     ]
    },
    {
     "name": "stderr",
     "output_type": "stream",
     "text": [
      "C:\\Users\\ramme\\anaconda3\\lib\\site-packages\\optuna\\distributions.py:535: UserWarning: Choices for a categorical distribution should be a tuple of None, bool, int, float and str for persistent storage but contains <class 'torch.optim.rmsprop.RMSprop'> which is of type type.\n",
      "  warnings.warn(message)\n"
     ]
    },
    {
     "name": "stdout",
     "output_type": "stream",
     "text": [
      "Validation Accuracy: 68.20%\n",
      "\u001b[32m[I 2023-11-28 13:50:48,637]\u001b[0m Trial 53 finished with value: 0.682 and parameters: {'lr': 0.0002608606716673579, 'hidden_channels': 64, 'hidden_layers': 1, 'p_dropout': 0.5548631836214021, 'batch_size': 120, 'epochs': 50, 'optimizer': <class 'torch.optim.rmsprop.RMSprop'>, 'weight_decay': 0.008223130827075082}. Best is trial 19 with value: 0.716.\u001b[0m\n"
     ]
    },
    {
     "name": "stderr",
     "output_type": "stream",
     "text": [
      "C:\\Users\\ramme\\anaconda3\\lib\\site-packages\\optuna\\distributions.py:535: UserWarning: Choices for a categorical distribution should be a tuple of None, bool, int, float and str for persistent storage but contains <class 'torch.optim.rmsprop.RMSprop'> which is of type type.\n",
      "  warnings.warn(message)\n"
     ]
    },
    {
     "name": "stdout",
     "output_type": "stream",
     "text": [
      "Validation Accuracy: 70.20%\n",
      "\u001b[32m[I 2023-11-28 13:50:58,622]\u001b[0m Trial 50 finished with value: 0.702 and parameters: {'lr': 0.00037573747594458654, 'hidden_channels': 64, 'hidden_layers': 1, 'p_dropout': 0.5668109784313135, 'batch_size': 120, 'epochs': 120, 'optimizer': <class 'torch.optim.rmsprop.RMSprop'>, 'weight_decay': 0.00794351451736324}. Best is trial 19 with value: 0.716.\u001b[0m\n"
     ]
    },
    {
     "name": "stderr",
     "output_type": "stream",
     "text": [
      "C:\\Users\\ramme\\anaconda3\\lib\\site-packages\\optuna\\distributions.py:535: UserWarning: Choices for a categorical distribution should be a tuple of None, bool, int, float and str for persistent storage but contains <class 'torch.optim.rmsprop.RMSprop'> which is of type type.\n",
      "  warnings.warn(message)\n"
     ]
    },
    {
     "name": "stdout",
     "output_type": "stream",
     "text": [
      "Validation Accuracy: 69.60%\n",
      "\u001b[32m[I 2023-11-28 13:51:02,489]\u001b[0m Trial 55 finished with value: 0.696 and parameters: {'lr': 0.00035306119634296305, 'hidden_channels': 64, 'hidden_layers': 1, 'p_dropout': 0.6337894305331188, 'batch_size': 120, 'epochs': 80, 'optimizer': <class 'torch.optim.rmsprop.RMSprop'>, 'weight_decay': 0.008075561358490913}. Best is trial 19 with value: 0.716.\u001b[0m\n"
     ]
    },
    {
     "name": "stderr",
     "output_type": "stream",
     "text": [
      "C:\\Users\\ramme\\anaconda3\\lib\\site-packages\\optuna\\distributions.py:535: UserWarning: Choices for a categorical distribution should be a tuple of None, bool, int, float and str for persistent storage but contains <class 'torch.optim.rmsprop.RMSprop'> which is of type type.\n",
      "  warnings.warn(message)\n"
     ]
    },
    {
     "name": "stdout",
     "output_type": "stream",
     "text": [
      "Validation Accuracy: 72.40%\n",
      "\u001b[32m[I 2023-11-28 13:51:04,086]\u001b[0m Trial 56 finished with value: 0.724 and parameters: {'lr': 0.00012946636975696, 'hidden_channels': 64, 'hidden_layers': 1, 'p_dropout': 0.6270563563966028, 'batch_size': 120, 'epochs': 80, 'optimizer': <class 'torch.optim.rmsprop.RMSprop'>, 'weight_decay': 0.008013622359588446}. Best is trial 56 with value: 0.724.\u001b[0m\n"
     ]
    },
    {
     "name": "stderr",
     "output_type": "stream",
     "text": [
      "C:\\Users\\ramme\\anaconda3\\lib\\site-packages\\optuna\\distributions.py:535: UserWarning: Choices for a categorical distribution should be a tuple of None, bool, int, float and str for persistent storage but contains <class 'torch.optim.rmsprop.RMSprop'> which is of type type.\n",
      "  warnings.warn(message)\n"
     ]
    },
    {
     "name": "stdout",
     "output_type": "stream",
     "text": [
      "Validation Accuracy: 71.40%\n",
      "\u001b[32m[I 2023-11-28 13:51:04,598]\u001b[0m Trial 57 finished with value: 0.714 and parameters: {'lr': 0.00013687340884813943, 'hidden_channels': 64, 'hidden_layers': 1, 'p_dropout': 0.6370836114316631, 'batch_size': 120, 'epochs': 80, 'optimizer': <class 'torch.optim.rmsprop.RMSprop'>, 'weight_decay': 0.007813938173937012}. Best is trial 56 with value: 0.724.\u001b[0m\n"
     ]
    },
    {
     "name": "stderr",
     "output_type": "stream",
     "text": [
      "C:\\Users\\ramme\\anaconda3\\lib\\site-packages\\optuna\\distributions.py:535: UserWarning: Choices for a categorical distribution should be a tuple of None, bool, int, float and str for persistent storage but contains <class 'torch.optim.rmsprop.RMSprop'> which is of type type.\n",
      "  warnings.warn(message)\n"
     ]
    },
    {
     "name": "stdout",
     "output_type": "stream",
     "text": [
      "Validation Accuracy: 71.40%\n",
      "\u001b[32m[I 2023-11-28 13:51:07,858]\u001b[0m Trial 54 finished with value: 0.714 and parameters: {'lr': 0.00013583893404567126, 'hidden_channels': 64, 'hidden_layers': 1, 'p_dropout': 0.5512561491406751, 'batch_size': 120, 'epochs': 120, 'optimizer': <class 'torch.optim.rmsprop.RMSprop'>, 'weight_decay': 0.008291921566653239}. Best is trial 56 with value: 0.724.\u001b[0m\n"
     ]
    },
    {
     "name": "stderr",
     "output_type": "stream",
     "text": [
      "C:\\Users\\ramme\\anaconda3\\lib\\site-packages\\optuna\\distributions.py:535: UserWarning: Choices for a categorical distribution should be a tuple of None, bool, int, float and str for persistent storage but contains <class 'torch.optim.rmsprop.RMSprop'> which is of type type.\n",
      "  warnings.warn(message)\n"
     ]
    },
    {
     "name": "stdout",
     "output_type": "stream",
     "text": [
      "Validation Accuracy: 16.40%\n",
      "\u001b[32m[I 2023-11-28 13:51:13,349]\u001b[0m Trial 58 finished with value: 0.164 and parameters: {'lr': 1.2856500864298807e-05, 'hidden_channels': 32, 'hidden_layers': 1, 'p_dropout': 0.6380929919312033, 'batch_size': 120, 'epochs': 80, 'optimizer': <class 'torch.optim.rmsprop.RMSprop'>, 'weight_decay': 0.007381233605092943}. Best is trial 56 with value: 0.724.\u001b[0m\n"
     ]
    },
    {
     "name": "stderr",
     "output_type": "stream",
     "text": [
      "C:\\Users\\ramme\\anaconda3\\lib\\site-packages\\optuna\\distributions.py:535: UserWarning: Choices for a categorical distribution should be a tuple of None, bool, int, float and str for persistent storage but contains <class 'torch.optim.rmsprop.RMSprop'> which is of type type.\n",
      "  warnings.warn(message)\n"
     ]
    },
    {
     "name": "stdout",
     "output_type": "stream",
     "text": [
      "Validation Accuracy: 71.20%\n",
      "\u001b[32m[I 2023-11-28 13:51:17,914]\u001b[0m Trial 59 finished with value: 0.712 and parameters: {'lr': 0.0007698761772617587, 'hidden_channels': 32, 'hidden_layers': 1, 'p_dropout': 0.6707135851252063, 'batch_size': 120, 'epochs': 80, 'optimizer': <class 'torch.optim.rmsprop.RMSprop'>, 'weight_decay': 0.0073814453319931556}. Best is trial 56 with value: 0.724.\u001b[0m\n"
     ]
    },
    {
     "name": "stderr",
     "output_type": "stream",
     "text": [
      "C:\\Users\\ramme\\anaconda3\\lib\\site-packages\\optuna\\distributions.py:535: UserWarning: Choices for a categorical distribution should be a tuple of None, bool, int, float and str for persistent storage but contains <class 'torch.optim.rmsprop.RMSprop'> which is of type type.\n",
      "  warnings.warn(message)\n"
     ]
    },
    {
     "name": "stdout",
     "output_type": "stream",
     "text": [
      "Validation Accuracy: 71.40%\n",
      "\u001b[32m[I 2023-11-28 13:51:19,845]\u001b[0m Trial 62 finished with value: 0.714 and parameters: {'lr': 7.397905260308175e-05, 'hidden_channels': 64, 'hidden_layers': 0, 'p_dropout': 0.6729706583596156, 'batch_size': 120, 'epochs': 80, 'optimizer': <class 'torch.optim.rmsprop.RMSprop'>, 'weight_decay': 0.008564783459153947}. Best is trial 56 with value: 0.724.\u001b[0m\n"
     ]
    },
    {
     "name": "stderr",
     "output_type": "stream",
     "text": [
      "C:\\Users\\ramme\\anaconda3\\lib\\site-packages\\optuna\\distributions.py:535: UserWarning: Choices for a categorical distribution should be a tuple of None, bool, int, float and str for persistent storage but contains <class 'torch.optim.rmsprop.RMSprop'> which is of type type.\n",
      "  warnings.warn(message)\n"
     ]
    },
    {
     "name": "stdout",
     "output_type": "stream",
     "text": [
      "Validation Accuracy: 71.20%\n",
      "\u001b[32m[I 2023-11-28 13:51:20,593]\u001b[0m Trial 60 finished with value: 0.712 and parameters: {'lr': 0.00013393976585326453, 'hidden_channels': 64, 'hidden_layers': 1, 'p_dropout': 0.6671799381403514, 'batch_size': 120, 'epochs': 80, 'optimizer': <class 'torch.optim.rmsprop.RMSprop'>, 'weight_decay': 0.007398199323688737}. Best is trial 56 with value: 0.724.\u001b[0m\n"
     ]
    },
    {
     "name": "stderr",
     "output_type": "stream",
     "text": [
      "C:\\Users\\ramme\\anaconda3\\lib\\site-packages\\optuna\\distributions.py:535: UserWarning: Choices for a categorical distribution should be a tuple of None, bool, int, float and str for persistent storage but contains <class 'torch.optim.rmsprop.RMSprop'> which is of type type.\n",
      "  warnings.warn(message)\n"
     ]
    },
    {
     "name": "stdout",
     "output_type": "stream",
     "text": [
      "Validation Accuracy: 69.40%\n",
      "\u001b[32m[I 2023-11-28 13:51:21,523]\u001b[0m Trial 61 finished with value: 0.694 and parameters: {'lr': 6.131031543649788e-05, 'hidden_channels': 64, 'hidden_layers': 1, 'p_dropout': 0.6692086691678342, 'batch_size': 120, 'epochs': 80, 'optimizer': <class 'torch.optim.rmsprop.RMSprop'>, 'weight_decay': 0.007466146316555046}. Best is trial 56 with value: 0.724.\u001b[0m\n"
     ]
    },
    {
     "name": "stderr",
     "output_type": "stream",
     "text": [
      "C:\\Users\\ramme\\anaconda3\\lib\\site-packages\\optuna\\distributions.py:535: UserWarning: Choices for a categorical distribution should be a tuple of None, bool, int, float and str for persistent storage but contains <class 'torch.optim.rmsprop.RMSprop'> which is of type type.\n",
      "  warnings.warn(message)\n"
     ]
    },
    {
     "name": "stdout",
     "output_type": "stream",
     "text": [
      "Validation Accuracy: 71.60%\n",
      "\u001b[32m[I 2023-11-28 13:51:32,546]\u001b[0m Trial 63 finished with value: 0.716 and parameters: {'lr': 7.174968638208762e-05, 'hidden_channels': 64, 'hidden_layers': 0, 'p_dropout': 0.6734828772991931, 'batch_size': 120, 'epochs': 120, 'optimizer': <class 'torch.optim.rmsprop.RMSprop'>, 'weight_decay': 0.00665419302236301}. Best is trial 56 with value: 0.724.\u001b[0m\n"
     ]
    },
    {
     "name": "stderr",
     "output_type": "stream",
     "text": [
      "C:\\Users\\ramme\\anaconda3\\lib\\site-packages\\optuna\\distributions.py:535: UserWarning: Choices for a categorical distribution should be a tuple of None, bool, int, float and str for persistent storage but contains <class 'torch.optim.rmsprop.RMSprop'> which is of type type.\n",
      "  warnings.warn(message)\n"
     ]
    },
    {
     "name": "stdout",
     "output_type": "stream",
     "text": [
      "Validation Accuracy: 70.60%\n",
      "\u001b[32m[I 2023-11-28 13:51:37,599]\u001b[0m Trial 64 finished with value: 0.706 and parameters: {'lr': 6.661309333613542e-05, 'hidden_channels': 64, 'hidden_layers': 0, 'p_dropout': 0.6738966294275244, 'batch_size': 120, 'epochs': 120, 'optimizer': <class 'torch.optim.rmsprop.RMSprop'>, 'weight_decay': 0.006638025027894748}. Best is trial 56 with value: 0.724.\u001b[0m\n"
     ]
    },
    {
     "name": "stderr",
     "output_type": "stream",
     "text": [
      "C:\\Users\\ramme\\anaconda3\\lib\\site-packages\\optuna\\distributions.py:535: UserWarning: Choices for a categorical distribution should be a tuple of None, bool, int, float and str for persistent storage but contains <class 'torch.optim.rmsprop.RMSprop'> which is of type type.\n",
      "  warnings.warn(message)\n"
     ]
    },
    {
     "name": "stdout",
     "output_type": "stream",
     "text": [
      "Validation Accuracy: 70.00%\n",
      "\u001b[32m[I 2023-11-28 13:51:45,082]\u001b[0m Trial 65 finished with value: 0.7 and parameters: {'lr': 0.00013616096334199694, 'hidden_channels': 64, 'hidden_layers': 1, 'p_dropout': 0.6306903899560216, 'batch_size': 120, 'epochs': 120, 'optimizer': <class 'torch.optim.rmsprop.RMSprop'>, 'weight_decay': 0.007843409191603494}. Best is trial 56 with value: 0.724.\u001b[0m\n"
     ]
    },
    {
     "name": "stderr",
     "output_type": "stream",
     "text": [
      "C:\\Users\\ramme\\anaconda3\\lib\\site-packages\\optuna\\distributions.py:535: UserWarning: Choices for a categorical distribution should be a tuple of None, bool, int, float and str for persistent storage but contains <class 'torch.optim.rmsprop.RMSprop'> which is of type type.\n",
      "  warnings.warn(message)\n"
     ]
    },
    {
     "name": "stdout",
     "output_type": "stream",
     "text": [
      "Validation Accuracy: 70.80%\n",
      "\u001b[32m[I 2023-11-28 13:51:46,276]\u001b[0m Trial 66 finished with value: 0.708 and parameters: {'lr': 0.00013871302251888638, 'hidden_channels': 64, 'hidden_layers': 1, 'p_dropout': 0.6227313920738557, 'batch_size': 120, 'epochs': 120, 'optimizer': <class 'torch.optim.rmsprop.RMSprop'>, 'weight_decay': 0.007849348190916094}. Best is trial 56 with value: 0.724.\u001b[0m\n"
     ]
    },
    {
     "name": "stderr",
     "output_type": "stream",
     "text": [
      "C:\\Users\\ramme\\anaconda3\\lib\\site-packages\\optuna\\distributions.py:535: UserWarning: Choices for a categorical distribution should be a tuple of None, bool, int, float and str for persistent storage but contains <class 'torch.optim.rmsprop.RMSprop'> which is of type type.\n",
      "  warnings.warn(message)\n"
     ]
    },
    {
     "name": "stdout",
     "output_type": "stream",
     "text": [
      "Validation Accuracy: 71.20%\n",
      "\u001b[32m[I 2023-11-28 13:51:48,503]\u001b[0m Trial 67 finished with value: 0.712 and parameters: {'lr': 0.00014055895347876783, 'hidden_channels': 64, 'hidden_layers': 1, 'p_dropout': 0.631205582125652, 'batch_size': 120, 'epochs': 120, 'optimizer': <class 'torch.optim.rmsprop.RMSprop'>, 'weight_decay': 0.006621222242211299}. Best is trial 56 with value: 0.724.\u001b[0m\n"
     ]
    },
    {
     "name": "stderr",
     "output_type": "stream",
     "text": [
      "C:\\Users\\ramme\\anaconda3\\lib\\site-packages\\optuna\\distributions.py:535: UserWarning: Choices for a categorical distribution should be a tuple of None, bool, int, float and str for persistent storage but contains <class 'torch.optim.rmsprop.RMSprop'> which is of type type.\n",
      "  warnings.warn(message)\n"
     ]
    },
    {
     "name": "stdout",
     "output_type": "stream",
     "text": [
      "Validation Accuracy: 70.60%\n",
      "\u001b[32m[I 2023-11-28 13:51:50,393]\u001b[0m Trial 70 finished with value: 0.706 and parameters: {'lr': 0.00020529651588416616, 'hidden_channels': 64, 'hidden_layers': 0, 'p_dropout': 0.6983102597269878, 'batch_size': 120, 'epochs': 30, 'optimizer': <class 'torch.optim.rmsprop.RMSprop'>, 'weight_decay': 0.006008731639286176}. Best is trial 56 with value: 0.724.\u001b[0m\n"
     ]
    },
    {
     "name": "stderr",
     "output_type": "stream",
     "text": [
      "C:\\Users\\ramme\\anaconda3\\lib\\site-packages\\optuna\\distributions.py:535: UserWarning: Choices for a categorical distribution should be a tuple of None, bool, int, float and str for persistent storage but contains <class 'torch.optim.rmsprop.RMSprop'> which is of type type.\n",
      "  warnings.warn(message)\n"
     ]
    },
    {
     "name": "stdout",
     "output_type": "stream",
     "text": [
      "Validation Accuracy: 72.20%\n",
      "\u001b[32m[I 2023-11-28 13:51:52,397]\u001b[0m Trial 68 finished with value: 0.722 and parameters: {'lr': 0.0001317971307651123, 'hidden_channels': 64, 'hidden_layers': 0, 'p_dropout': 0.513405013635484, 'batch_size': 120, 'epochs': 120, 'optimizer': <class 'torch.optim.rmsprop.RMSprop'>, 'weight_decay': 0.006560347392701533}. Best is trial 56 with value: 0.724.\u001b[0m\n"
     ]
    },
    {
     "name": "stderr",
     "output_type": "stream",
     "text": [
      "C:\\Users\\ramme\\anaconda3\\lib\\site-packages\\optuna\\distributions.py:535: UserWarning: Choices for a categorical distribution should be a tuple of None, bool, int, float and str for persistent storage but contains <class 'torch.optim.rmsprop.RMSprop'> which is of type type.\n",
      "  warnings.warn(message)\n"
     ]
    },
    {
     "name": "stdout",
     "output_type": "stream",
     "text": [
      "Validation Accuracy: 69.60%\n",
      "\u001b[32m[I 2023-11-28 13:51:55,022]\u001b[0m Trial 72 finished with value: 0.696 and parameters: {'lr': 0.00019397687096833036, 'hidden_channels': 128, 'hidden_layers': 0, 'p_dropout': 0.6891829243634569, 'batch_size': 120, 'epochs': 30, 'optimizer': <class 'torch.optim.rmsprop.RMSprop'>, 'weight_decay': 0.006720314339824811}. Best is trial 56 with value: 0.724.\u001b[0m\n"
     ]
    },
    {
     "name": "stderr",
     "output_type": "stream",
     "text": [
      "C:\\Users\\ramme\\anaconda3\\lib\\site-packages\\optuna\\distributions.py:535: UserWarning: Choices for a categorical distribution should be a tuple of None, bool, int, float and str for persistent storage but contains <class 'torch.optim.rmsprop.RMSprop'> which is of type type.\n",
      "  warnings.warn(message)\n"
     ]
    },
    {
     "name": "stdout",
     "output_type": "stream",
     "text": [
      "Validation Accuracy: 71.40%\n",
      "\u001b[32m[I 2023-11-28 13:51:59,230]\u001b[0m Trial 69 finished with value: 0.714 and parameters: {'lr': 0.0002112057037808089, 'hidden_channels': 64, 'hidden_layers': 0, 'p_dropout': 0.6984429506017235, 'batch_size': 120, 'epochs': 120, 'optimizer': <class 'torch.optim.rmsprop.RMSprop'>, 'weight_decay': 0.006755938134533321}. Best is trial 56 with value: 0.724.\u001b[0m\n"
     ]
    },
    {
     "name": "stderr",
     "output_type": "stream",
     "text": [
      "C:\\Users\\ramme\\anaconda3\\lib\\site-packages\\optuna\\distributions.py:535: UserWarning: Choices for a categorical distribution should be a tuple of None, bool, int, float and str for persistent storage but contains <class 'torch.optim.rmsprop.RMSprop'> which is of type type.\n",
      "  warnings.warn(message)\n"
     ]
    },
    {
     "name": "stdout",
     "output_type": "stream",
     "text": [
      "Validation Accuracy: 72.00%\n",
      "\u001b[32m[I 2023-11-28 13:52:04,535]\u001b[0m Trial 73 finished with value: 0.72 and parameters: {'lr': 4.2289180405544996e-05, 'hidden_channels': 128, 'hidden_layers': 0, 'p_dropout': 0.5170371696758352, 'batch_size': 120, 'epochs': 70, 'optimizer': <class 'torch.optim.rmsprop.RMSprop'>, 'weight_decay': 0.0076377877388795045}. Best is trial 56 with value: 0.724.\u001b[0m\n"
     ]
    },
    {
     "name": "stderr",
     "output_type": "stream",
     "text": [
      "C:\\Users\\ramme\\anaconda3\\lib\\site-packages\\optuna\\distributions.py:535: UserWarning: Choices for a categorical distribution should be a tuple of None, bool, int, float and str for persistent storage but contains <class 'torch.optim.rmsprop.RMSprop'> which is of type type.\n",
      "  warnings.warn(message)\n"
     ]
    },
    {
     "name": "stdout",
     "output_type": "stream",
     "text": [
      "Validation Accuracy: 72.00%\n",
      "\u001b[32m[I 2023-11-28 13:52:07,301]\u001b[0m Trial 74 finished with value: 0.72 and parameters: {'lr': 5.291165572990059e-05, 'hidden_channels': 128, 'hidden_layers': 0, 'p_dropout': 0.5065482027608039, 'batch_size': 120, 'epochs': 70, 'optimizer': <class 'torch.optim.rmsprop.RMSprop'>, 'weight_decay': 0.0061755337706235055}. Best is trial 56 with value: 0.724.\u001b[0m\n"
     ]
    },
    {
     "name": "stderr",
     "output_type": "stream",
     "text": [
      "C:\\Users\\ramme\\anaconda3\\lib\\site-packages\\optuna\\distributions.py:535: UserWarning: Choices for a categorical distribution should be a tuple of None, bool, int, float and str for persistent storage but contains <class 'torch.optim.rmsprop.RMSprop'> which is of type type.\n",
      "  warnings.warn(message)\n"
     ]
    },
    {
     "name": "stdout",
     "output_type": "stream",
     "text": [
      "Validation Accuracy: 70.80%\n",
      "\u001b[32m[I 2023-11-28 13:52:10,911]\u001b[0m Trial 71 finished with value: 0.708 and parameters: {'lr': 0.0001985351764668072, 'hidden_channels': 128, 'hidden_layers': 0, 'p_dropout': 0.5177461438644206, 'batch_size': 120, 'epochs': 120, 'optimizer': <class 'torch.optim.rmsprop.RMSprop'>, 'weight_decay': 0.006169388048163715}. Best is trial 56 with value: 0.724.\u001b[0m\n"
     ]
    },
    {
     "name": "stderr",
     "output_type": "stream",
     "text": [
      "C:\\Users\\ramme\\anaconda3\\lib\\site-packages\\optuna\\distributions.py:535: UserWarning: Choices for a categorical distribution should be a tuple of None, bool, int, float and str for persistent storage but contains <class 'torch.optim.rmsprop.RMSprop'> which is of type type.\n",
      "  warnings.warn(message)\n"
     ]
    },
    {
     "name": "stdout",
     "output_type": "stream",
     "text": [
      "Validation Accuracy: 71.20%\n",
      "\u001b[32m[I 2023-11-28 13:52:13,145]\u001b[0m Trial 76 finished with value: 0.712 and parameters: {'lr': 8.016569078374852e-05, 'hidden_channels': 64, 'hidden_layers': 0, 'p_dropout': 0.506333612376783, 'batch_size': 120, 'epochs': 70, 'optimizer': <class 'torch.optim.rmsprop.RMSprop'>, 'weight_decay': 0.006166346801220325}. Best is trial 56 with value: 0.724.\u001b[0m\n"
     ]
    },
    {
     "name": "stderr",
     "output_type": "stream",
     "text": [
      "C:\\Users\\ramme\\anaconda3\\lib\\site-packages\\optuna\\distributions.py:535: UserWarning: Choices for a categorical distribution should be a tuple of None, bool, int, float and str for persistent storage but contains <class 'torch.optim.rmsprop.RMSprop'> which is of type type.\n",
      "  warnings.warn(message)\n"
     ]
    },
    {
     "name": "stdout",
     "output_type": "stream",
     "text": [
      "Validation Accuracy: 71.20%\n",
      "\u001b[32m[I 2023-11-28 13:52:17,853]\u001b[0m Trial 75 finished with value: 0.712 and parameters: {'lr': 9.76217342294146e-05, 'hidden_channels': 64, 'hidden_layers': 0, 'p_dropout': 0.5261788799119019, 'batch_size': 120, 'epochs': 120, 'optimizer': <class 'torch.optim.rmsprop.RMSprop'>, 'weight_decay': 0.006821239658270062}. Best is trial 56 with value: 0.724.\u001b[0m\n"
     ]
    },
    {
     "name": "stderr",
     "output_type": "stream",
     "text": [
      "C:\\Users\\ramme\\anaconda3\\lib\\site-packages\\optuna\\distributions.py:535: UserWarning: Choices for a categorical distribution should be a tuple of None, bool, int, float and str for persistent storage but contains <class 'torch.optim.rmsprop.RMSprop'> which is of type type.\n",
      "  warnings.warn(message)\n"
     ]
    },
    {
     "name": "stdout",
     "output_type": "stream",
     "text": [
      "Validation Accuracy: 71.20%\n",
      "\u001b[32m[I 2023-11-28 13:52:18,855]\u001b[0m Trial 77 finished with value: 0.712 and parameters: {'lr': 8.302055545743511e-05, 'hidden_channels': 128, 'hidden_layers': 0, 'p_dropout': 0.5193582662449342, 'batch_size': 120, 'epochs': 70, 'optimizer': <class 'torch.optim.rmsprop.RMSprop'>, 'weight_decay': 0.006187175403943685}. Best is trial 56 with value: 0.724.\u001b[0m\n"
     ]
    },
    {
     "name": "stderr",
     "output_type": "stream",
     "text": [
      "C:\\Users\\ramme\\anaconda3\\lib\\site-packages\\optuna\\distributions.py:535: UserWarning: Choices for a categorical distribution should be a tuple of None, bool, int, float and str for persistent storage but contains <class 'torch.optim.rmsprop.RMSprop'> which is of type type.\n",
      "  warnings.warn(message)\n"
     ]
    },
    {
     "name": "stdout",
     "output_type": "stream",
     "text": [
      "Validation Accuracy: 71.80%\n",
      "\u001b[32m[I 2023-11-28 13:52:21,925]\u001b[0m Trial 78 finished with value: 0.718 and parameters: {'lr': 9.0122025908822e-05, 'hidden_channels': 128, 'hidden_layers': 0, 'p_dropout': 0.5145179754558564, 'batch_size': 120, 'epochs': 70, 'optimizer': <class 'torch.optim.rmsprop.RMSprop'>, 'weight_decay': 0.006376090702638992}. Best is trial 56 with value: 0.724.\u001b[0m\n"
     ]
    },
    {
     "name": "stderr",
     "output_type": "stream",
     "text": [
      "C:\\Users\\ramme\\anaconda3\\lib\\site-packages\\optuna\\distributions.py:535: UserWarning: Choices for a categorical distribution should be a tuple of None, bool, int, float and str for persistent storage but contains <class 'torch.optim.rmsprop.RMSprop'> which is of type type.\n",
      "  warnings.warn(message)\n"
     ]
    },
    {
     "name": "stdout",
     "output_type": "stream",
     "text": [
      "Validation Accuracy: 72.00%\n",
      "\u001b[32m[I 2023-11-28 13:52:25,981]\u001b[0m Trial 79 finished with value: 0.72 and parameters: {'lr': 4.8824140267590266e-05, 'hidden_channels': 128, 'hidden_layers': 0, 'p_dropout': 0.5094193014843218, 'batch_size': 120, 'epochs': 70, 'optimizer': <class 'torch.optim.rmsprop.RMSprop'>, 'weight_decay': 0.006279393842804236}. Best is trial 56 with value: 0.724.\u001b[0m\n"
     ]
    },
    {
     "name": "stderr",
     "output_type": "stream",
     "text": [
      "C:\\Users\\ramme\\anaconda3\\lib\\site-packages\\optuna\\distributions.py:535: UserWarning: Choices for a categorical distribution should be a tuple of None, bool, int, float and str for persistent storage but contains <class 'torch.optim.rmsprop.RMSprop'> which is of type type.\n",
      "  warnings.warn(message)\n"
     ]
    },
    {
     "name": "stdout",
     "output_type": "stream",
     "text": [
      "Validation Accuracy: 72.00%\n",
      "\u001b[32m[I 2023-11-28 13:52:28,907]\u001b[0m Trial 80 finished with value: 0.72 and parameters: {'lr': 4.8615048314122506e-05, 'hidden_channels': 128, 'hidden_layers': 0, 'p_dropout': 0.5759679572790051, 'batch_size': 120, 'epochs': 70, 'optimizer': <class 'torch.optim.rmsprop.RMSprop'>, 'weight_decay': 0.006871565719163683}. Best is trial 56 with value: 0.724.\u001b[0m\n"
     ]
    },
    {
     "name": "stderr",
     "output_type": "stream",
     "text": [
      "C:\\Users\\ramme\\anaconda3\\lib\\site-packages\\optuna\\distributions.py:535: UserWarning: Choices for a categorical distribution should be a tuple of None, bool, int, float and str for persistent storage but contains <class 'torch.optim.rmsprop.RMSprop'> which is of type type.\n",
      "  warnings.warn(message)\n"
     ]
    },
    {
     "name": "stdout",
     "output_type": "stream",
     "text": [
      "Validation Accuracy: 71.40%\n",
      "\u001b[32m[I 2023-11-28 13:52:33,359]\u001b[0m Trial 81 finished with value: 0.714 and parameters: {'lr': 4.646236370172153e-05, 'hidden_channels': 128, 'hidden_layers': 0, 'p_dropout': 0.5045672121505572, 'batch_size': 120, 'epochs': 70, 'optimizer': <class 'torch.optim.rmsprop.RMSprop'>, 'weight_decay': 0.007237049811216267}. Best is trial 56 with value: 0.724.\u001b[0m\n"
     ]
    },
    {
     "name": "stderr",
     "output_type": "stream",
     "text": [
      "C:\\Users\\ramme\\anaconda3\\lib\\site-packages\\optuna\\distributions.py:535: UserWarning: Choices for a categorical distribution should be a tuple of None, bool, int, float and str for persistent storage but contains <class 'torch.optim.rmsprop.RMSprop'> which is of type type.\n",
      "  warnings.warn(message)\n"
     ]
    },
    {
     "name": "stdout",
     "output_type": "stream",
     "text": [
      "Validation Accuracy: 70.80%\n",
      "\u001b[32m[I 2023-11-28 13:52:33,756]\u001b[0m Trial 82 finished with value: 0.708 and parameters: {'lr': 4.621627082915973e-05, 'hidden_channels': 128, 'hidden_layers': 0, 'p_dropout': 0.5739748429893315, 'batch_size': 120, 'epochs': 70, 'optimizer': <class 'torch.optim.rmsprop.RMSprop'>, 'weight_decay': 0.007087123340309963}. Best is trial 56 with value: 0.724.\u001b[0m\n"
     ]
    },
    {
     "name": "stderr",
     "output_type": "stream",
     "text": [
      "C:\\Users\\ramme\\anaconda3\\lib\\site-packages\\optuna\\distributions.py:535: UserWarning: Choices for a categorical distribution should be a tuple of None, bool, int, float and str for persistent storage but contains <class 'torch.optim.rmsprop.RMSprop'> which is of type type.\n",
      "  warnings.warn(message)\n"
     ]
    },
    {
     "name": "stdout",
     "output_type": "stream",
     "text": [
      "Validation Accuracy: 71.20%\n",
      "\u001b[32m[I 2023-11-28 13:52:36,827]\u001b[0m Trial 83 finished with value: 0.712 and parameters: {'lr': 3.6058516131595246e-05, 'hidden_channels': 128, 'hidden_layers': 0, 'p_dropout': 0.485519548830082, 'batch_size': 120, 'epochs': 70, 'optimizer': <class 'torch.optim.rmsprop.RMSprop'>, 'weight_decay': 0.006425197776362513}. Best is trial 56 with value: 0.724.\u001b[0m\n"
     ]
    },
    {
     "name": "stderr",
     "output_type": "stream",
     "text": [
      "C:\\Users\\ramme\\anaconda3\\lib\\site-packages\\optuna\\distributions.py:535: UserWarning: Choices for a categorical distribution should be a tuple of None, bool, int, float and str for persistent storage but contains <class 'torch.optim.rmsprop.RMSprop'> which is of type type.\n",
      "  warnings.warn(message)\n"
     ]
    },
    {
     "name": "stdout",
     "output_type": "stream",
     "text": [
      "Validation Accuracy: 71.20%\n",
      "\u001b[32m[I 2023-11-28 13:52:40,932]\u001b[0m Trial 84 finished with value: 0.712 and parameters: {'lr': 4.72505371577607e-05, 'hidden_channels': 128, 'hidden_layers': 0, 'p_dropout': 0.42755685538350147, 'batch_size': 120, 'epochs': 70, 'optimizer': <class 'torch.optim.rmsprop.RMSprop'>, 'weight_decay': 0.00637021702029249}. Best is trial 56 with value: 0.724.\u001b[0m\n"
     ]
    },
    {
     "name": "stderr",
     "output_type": "stream",
     "text": [
      "C:\\Users\\ramme\\anaconda3\\lib\\site-packages\\optuna\\distributions.py:535: UserWarning: Choices for a categorical distribution should be a tuple of None, bool, int, float and str for persistent storage but contains <class 'torch.optim.rmsprop.RMSprop'> which is of type type.\n",
      "  warnings.warn(message)\n"
     ]
    },
    {
     "name": "stdout",
     "output_type": "stream",
     "text": [
      "Validation Accuracy: 70.20%\n",
      "\u001b[32m[I 2023-11-28 13:52:44,600]\u001b[0m Trial 85 finished with value: 0.702 and parameters: {'lr': 4.795494567312949e-05, 'hidden_channels': 128, 'hidden_layers': 0, 'p_dropout': 0.49980173005660683, 'batch_size': 120, 'epochs': 70, 'optimizer': <class 'torch.optim.rmsprop.RMSprop'>, 'weight_decay': 0.006445832436673125}. Best is trial 56 with value: 0.724.\u001b[0m\n"
     ]
    },
    {
     "name": "stderr",
     "output_type": "stream",
     "text": [
      "C:\\Users\\ramme\\anaconda3\\lib\\site-packages\\optuna\\distributions.py:535: UserWarning: Choices for a categorical distribution should be a tuple of None, bool, int, float and str for persistent storage but contains <class 'torch.optim.rmsprop.RMSprop'> which is of type type.\n",
      "  warnings.warn(message)\n"
     ]
    },
    {
     "name": "stdout",
     "output_type": "stream",
     "text": [
      "Validation Accuracy: 63.80%\n",
      "\u001b[32m[I 2023-11-28 13:52:47,094]\u001b[0m Trial 90 finished with value: 0.638 and parameters: {'lr': 5.54334249536571e-05, 'hidden_channels': 128, 'hidden_layers': 0, 'p_dropout': 0.5469324452718718, 'batch_size': 120, 'epochs': 10, 'optimizer': <class 'torch.optim.rmsprop.RMSprop'>, 'weight_decay': 0.005769980262908118}. Best is trial 56 with value: 0.724.\u001b[0m\n"
     ]
    },
    {
     "name": "stderr",
     "output_type": "stream",
     "text": [
      "C:\\Users\\ramme\\anaconda3\\lib\\site-packages\\optuna\\distributions.py:535: UserWarning: Choices for a categorical distribution should be a tuple of None, bool, int, float and str for persistent storage but contains <class 'torch.optim.rmsprop.RMSprop'> which is of type type.\n",
      "  warnings.warn(message)\n"
     ]
    },
    {
     "name": "stdout",
     "output_type": "stream",
     "text": [
      "Validation Accuracy: 72.00%\n",
      "Validation Accuracy: 71.80%\n",
      "\u001b[32m[I 2023-11-28 13:52:48,236]\u001b[0m Trial 86 finished with value: 0.72 and parameters: {'lr': 4.946174451143484e-05, 'hidden_channels': 128, 'hidden_layers': 0, 'p_dropout': 0.4842873944856297, 'batch_size': 120, 'epochs': 70, 'optimizer': <class 'torch.optim.rmsprop.RMSprop'>, 'weight_decay': 0.0063186639084115825}. Best is trial 56 with value: 0.724.\u001b[0m\n",
      "\u001b[32m[I 2023-11-28 13:52:48,271]\u001b[0m Trial 87 finished with value: 0.718 and parameters: {'lr': 5.4096737349441356e-05, 'hidden_channels': 128, 'hidden_layers': 0, 'p_dropout': 0.48835804850755726, 'batch_size': 120, 'epochs': 70, 'optimizer': <class 'torch.optim.rmsprop.RMSprop'>, 'weight_decay': 0.006381974626514388}. Best is trial 56 with value: 0.724.\u001b[0m\n"
     ]
    },
    {
     "name": "stderr",
     "output_type": "stream",
     "text": [
      "C:\\Users\\ramme\\anaconda3\\lib\\site-packages\\optuna\\distributions.py:535: UserWarning: Choices for a categorical distribution should be a tuple of None, bool, int, float and str for persistent storage but contains <class 'torch.optim.rmsprop.RMSprop'> which is of type type.\n",
      "  warnings.warn(message)\n"
     ]
    },
    {
     "name": "stdout",
     "output_type": "stream",
     "text": [
      "Validation Accuracy: 71.20%\n",
      "\u001b[32m[I 2023-11-28 13:52:51,641]\u001b[0m Trial 88 finished with value: 0.712 and parameters: {'lr': 5.481572290850574e-05, 'hidden_channels': 128, 'hidden_layers': 0, 'p_dropout': 0.5818283583561725, 'batch_size': 120, 'epochs': 70, 'optimizer': <class 'torch.optim.rmsprop.RMSprop'>, 'weight_decay': 0.00573878684288389}. Best is trial 56 with value: 0.724.\u001b[0m\n"
     ]
    },
    {
     "name": "stderr",
     "output_type": "stream",
     "text": [
      "C:\\Users\\ramme\\anaconda3\\lib\\site-packages\\optuna\\distributions.py:535: UserWarning: Choices for a categorical distribution should be a tuple of None, bool, int, float and str for persistent storage but contains <class 'torch.optim.rmsprop.RMSprop'> which is of type type.\n",
      "  warnings.warn(message)\n"
     ]
    },
    {
     "name": "stdout",
     "output_type": "stream",
     "text": [
      "Validation Accuracy: 72.00%\n",
      "\u001b[32m[I 2023-11-28 13:52:55,916]\u001b[0m Trial 89 finished with value: 0.72 and parameters: {'lr': 5.843726279243951e-05, 'hidden_channels': 128, 'hidden_layers': 0, 'p_dropout': 0.5475658709868787, 'batch_size': 120, 'epochs': 70, 'optimizer': <class 'torch.optim.rmsprop.RMSprop'>, 'weight_decay': 0.005900371468221799}. Best is trial 56 with value: 0.724.\u001b[0m\n"
     ]
    },
    {
     "name": "stderr",
     "output_type": "stream",
     "text": [
      "C:\\Users\\ramme\\anaconda3\\lib\\site-packages\\optuna\\distributions.py:535: UserWarning: Choices for a categorical distribution should be a tuple of None, bool, int, float and str for persistent storage but contains <class 'torch.optim.rmsprop.RMSprop'> which is of type type.\n",
      "  warnings.warn(message)\n"
     ]
    },
    {
     "name": "stdout",
     "output_type": "stream",
     "text": [
      "Validation Accuracy: 70.80%\n",
      "\u001b[32m[I 2023-11-28 13:53:02,625]\u001b[0m Trial 91 finished with value: 0.708 and parameters: {'lr': 3.552804272598405e-05, 'hidden_channels': 128, 'hidden_layers': 0, 'p_dropout': 0.5432392507617076, 'batch_size': 120, 'epochs': 70, 'optimizer': <class 'torch.optim.rmsprop.RMSprop'>, 'weight_decay': 0.0058488659425882895}. Best is trial 56 with value: 0.724.\u001b[0m\n"
     ]
    },
    {
     "name": "stderr",
     "output_type": "stream",
     "text": [
      "C:\\Users\\ramme\\anaconda3\\lib\\site-packages\\optuna\\distributions.py:535: UserWarning: Choices for a categorical distribution should be a tuple of None, bool, int, float and str for persistent storage but contains <class 'torch.optim.rmsprop.RMSprop'> which is of type type.\n",
      "  warnings.warn(message)\n"
     ]
    },
    {
     "name": "stdout",
     "output_type": "stream",
     "text": [
      "Validation Accuracy: 71.00%\n",
      "\u001b[32m[I 2023-11-28 13:53:02,938]\u001b[0m Trial 93 finished with value: 0.71 and parameters: {'lr': 3.714987016280715e-05, 'hidden_channels': 128, 'hidden_layers': 0, 'p_dropout': 0.46938015591121546, 'batch_size': 120, 'epochs': 70, 'optimizer': <class 'torch.optim.rmsprop.RMSprop'>, 'weight_decay': 0.006958683655226696}. Best is trial 56 with value: 0.724.\u001b[0m\n"
     ]
    },
    {
     "name": "stderr",
     "output_type": "stream",
     "text": [
      "C:\\Users\\ramme\\anaconda3\\lib\\site-packages\\optuna\\distributions.py:535: UserWarning: Choices for a categorical distribution should be a tuple of None, bool, int, float and str for persistent storage but contains <class 'torch.optim.rmsprop.RMSprop'> which is of type type.\n",
      "  warnings.warn(message)\n"
     ]
    },
    {
     "name": "stdout",
     "output_type": "stream",
     "text": [
      "Validation Accuracy: 71.00%\n",
      "\u001b[32m[I 2023-11-28 13:53:03,313]\u001b[0m Trial 92 finished with value: 0.71 and parameters: {'lr': 3.657123691885647e-05, 'hidden_channels': 128, 'hidden_layers': 0, 'p_dropout': 0.5379658062585334, 'batch_size': 120, 'epochs': 70, 'optimizer': <class 'torch.optim.rmsprop.RMSprop'>, 'weight_decay': 0.005750927265638815}. Best is trial 56 with value: 0.724.\u001b[0m\n"
     ]
    },
    {
     "name": "stderr",
     "output_type": "stream",
     "text": [
      "C:\\Users\\ramme\\anaconda3\\lib\\site-packages\\optuna\\distributions.py:535: UserWarning: Choices for a categorical distribution should be a tuple of None, bool, int, float and str for persistent storage but contains <class 'torch.optim.rmsprop.RMSprop'> which is of type type.\n",
      "  warnings.warn(message)\n"
     ]
    },
    {
     "name": "stdout",
     "output_type": "stream",
     "text": [
      "Validation Accuracy: 70.80%\n",
      "\u001b[32m[I 2023-11-28 13:53:10,493]\u001b[0m Trial 95 finished with value: 0.708 and parameters: {'lr': 3.168005594081545e-05, 'hidden_channels': 128, 'hidden_layers': 0, 'p_dropout': 0.5410130909176204, 'batch_size': 120, 'epochs': 70, 'optimizer': <class 'torch.optim.rmsprop.RMSprop'>, 'weight_decay': 0.005987088420554262}. Best is trial 56 with value: 0.724.\u001b[0m\n"
     ]
    },
    {
     "name": "stderr",
     "output_type": "stream",
     "text": [
      "C:\\Users\\ramme\\anaconda3\\lib\\site-packages\\optuna\\distributions.py:535: UserWarning: Choices for a categorical distribution should be a tuple of None, bool, int, float and str for persistent storage but contains <class 'torch.optim.rmsprop.RMSprop'> which is of type type.\n",
      "  warnings.warn(message)\n"
     ]
    },
    {
     "name": "stdout",
     "output_type": "stream",
     "text": [
      "Validation Accuracy: 70.60%\n",
      "\u001b[32m[I 2023-11-28 13:53:10,918]\u001b[0m Trial 94 finished with value: 0.706 and parameters: {'lr': 3.542013489634205e-05, 'hidden_channels': 128, 'hidden_layers': 0, 'p_dropout': 0.53722821679165, 'batch_size': 120, 'epochs': 90, 'optimizer': <class 'torch.optim.rmsprop.RMSprop'>, 'weight_decay': 0.006936672230332086}. Best is trial 56 with value: 0.724.\u001b[0m\n",
      "Validation Accuracy: 71.20%\n",
      "\u001b[32m[I 2023-11-28 13:53:17,202]\u001b[0m Trial 96 finished with value: 0.712 and parameters: {'lr': 9.09427483910631e-05, 'hidden_channels': 128, 'hidden_layers': 0, 'p_dropout': 0.5323914370166697, 'batch_size': 120, 'epochs': 70, 'optimizer': <class 'torch.optim.rmsprop.RMSprop'>, 'weight_decay': 0.006899421430097001}. Best is trial 56 with value: 0.724.\u001b[0m\n",
      "Validation Accuracy: 70.20%\n",
      "\u001b[32m[I 2023-11-28 13:53:19,152]\u001b[0m Trial 97 finished with value: 0.702 and parameters: {'lr': 3.078998005055161e-05, 'hidden_channels': 128, 'hidden_layers': 0, 'p_dropout': 0.48613381545495926, 'batch_size': 120, 'epochs': 90, 'optimizer': <class 'torch.optim.rmsprop.RMSprop'>, 'weight_decay': 0.006010110258737903}. Best is trial 56 with value: 0.724.\u001b[0m\n",
      "Validation Accuracy: 71.40%\n",
      "\u001b[32m[I 2023-11-28 13:53:19,588]\u001b[0m Trial 98 finished with value: 0.714 and parameters: {'lr': 6.500860529117818e-05, 'hidden_channels': 128, 'hidden_layers': 0, 'p_dropout': 0.4873448207048855, 'batch_size': 120, 'epochs': 90, 'optimizer': <class 'torch.optim.rmsprop.RMSprop'>, 'weight_decay': 0.006098078979109851}. Best is trial 56 with value: 0.724.\u001b[0m\n",
      "Validation Accuracy: 69.80%\n",
      "\u001b[32m[I 2023-11-28 13:53:21,517]\u001b[0m Trial 99 finished with value: 0.698 and parameters: {'lr': 8.66878907442402e-05, 'hidden_channels': 128, 'hidden_layers': 0, 'p_dropout': 0.4898910890954852, 'batch_size': 120, 'epochs': 90, 'optimizer': <class 'torch.optim.rmsprop.RMSprop'>, 'weight_decay': 0.005156514117105482}. Best is trial 56 with value: 0.724.\u001b[0m\n",
      "FrozenTrial(number=56, state=TrialState.COMPLETE, values=[0.724], datetime_start=datetime.datetime(2023, 11, 28, 13, 50, 47, 856235), datetime_complete=datetime.datetime(2023, 11, 28, 13, 51, 4, 86966), params={'lr': 0.00012946636975696, 'hidden_channels': 64, 'hidden_layers': 1, 'p_dropout': 0.6270563563966028, 'batch_size': 120, 'epochs': 80, 'optimizer': <class 'torch.optim.rmsprop.RMSprop'>, 'weight_decay': 0.008013622359588446}, user_attrs={}, system_attrs={}, intermediate_values={1: 1.7939784526824951, 2: 1.7908574342727661, 3: 1.7879294157028198, 4: 1.7882213592529297, 5: 1.7836673259735107, 6: 1.7783534526824951, 7: 1.7744860649108887, 8: 1.766974687576294, 9: 1.7693779468536377, 10: 1.759408950805664, 11: 1.752083420753479, 12: 1.7401893138885498, 13: 1.7275254726409912, 14: 1.7207438945770264, 15: 1.6983755826950073, 16: 1.685400366783142, 17: 1.671897053718567, 18: 1.6567344665527344, 19: 1.6411411762237549, 20: 1.6187684535980225, 21: 1.5929276943206787, 22: 1.5587615966796875, 23: 1.5698848962783813, 24: 1.5512934923171997, 25: 1.526361346244812, 26: 1.4782813787460327, 27: 1.4745762348175049, 28: 1.462715983390808, 29: 1.4601058959960938, 30: 1.4225257635116577, 31: 1.4328044652938843, 32: 1.409582495689392, 33: 1.3753470182418823, 34: 1.3689923286437988, 35: 1.3793480396270752, 36: 1.3376013040542603, 37: 1.3454216718673706, 38: 1.3360477685928345, 39: 1.3337973356246948, 40: 1.3174396753311157, 41: 1.3103512525558472, 42: 1.307213544845581, 43: 1.3003555536270142, 44: 1.311601996421814, 45: 1.2976664304733276, 46: 1.2932649850845337, 47: 1.2815991640090942, 48: 1.2803436517715454, 49: 1.2729389667510986, 50: 1.2656830549240112, 51: 1.2425230741500854, 52: 1.2485253810882568, 53: 1.2209572792053223, 54: 1.2576664686203003, 55: 1.231787085533142, 56: 1.2247371673583984, 57: 1.23357093334198, 58: 1.2443814277648926, 59: 1.225737452507019, 60: 1.2307454347610474, 61: 1.2135918140411377, 62: 1.2276272773742676, 63: 1.2141205072402954, 64: 1.2152577638626099, 65: 1.2121776342391968, 66: 1.208114504814148, 67: 1.215726613998413, 68: 1.197888970375061, 69: 1.204619288444519, 70: 1.2177340984344482, 71: 1.185407280921936, 72: 1.1995822191238403, 73: 1.2262121438980103, 74: 1.212318778038025, 75: 1.2030885219573975, 76: 1.2125753164291382, 77: 1.187444806098938, 78: 1.2283740043640137, 79: 1.2031230926513672, 80: 1.2084859609603882}, distributions={'lr': FloatDistribution(high=0.01, log=True, low=1e-05, step=None), 'hidden_channels': CategoricalDistribution(choices=(16, 32, 64, 128, 256)), 'hidden_layers': CategoricalDistribution(choices=(0, 1, 2)), 'p_dropout': FloatDistribution(high=0.7, log=False, low=0.1, step=None), 'batch_size': CategoricalDistribution(choices=(120,)), 'epochs': CategoricalDistribution(choices=(10, 20, 30, 40, 50, 60, 70, 80, 90, 100, 110, 120)), 'optimizer': CategoricalDistribution(choices=(<class 'torch.optim.rmsprop.RMSprop'>,)), 'weight_decay': FloatDistribution(high=0.01, log=False, low=1e-05, step=None)}, trial_id=56, value=None)\n"
     ]
    }
   ],
   "source": [
    "import optuna\n",
    "from optuna.pruners import SuccessiveHalvingPruner, NopPruner\n",
    "from torch.optim import SGD, RMSprop, Adagrad, Adadelta, Adam, Adamax, NAdam\n",
    "import numpy as np\n",
    "\n",
    "n_trails = 100\n",
    "n_jobs = 5 # Number of parallel jobs\n",
    "\n",
    "def objective(trial):\n",
    "    lr = trial.suggest_float('lr', 1e-5, 1e-2, log=True)\n",
    "    hidden_channels = trial.suggest_categorical('hidden_channels', [16,32,64,128,256])\n",
    "    size_gcn = trial.suggest_categorical('hidden_layers', [0,1,2])\n",
    "    p_dropout = trial.suggest_float('p_dropout', 0.1, 0.7)\n",
    "    #batch_size=trial.suggest_categorical('batch_size', [16,32,64,128,256])\n",
    "    batch_size=trial.suggest_categorical('batch_size', [120])\n",
    "    epochs = trial.suggest_categorical('epochs', np.arange(10,130,10).tolist())\n",
    "    #optimizer = trial.suggest_categorical('optimizer', [SGD, RMSprop, Adagrad, Adadelta, Adam, Adamax, NAdam])\n",
    "    optimizer = trial.suggest_categorical('optimizer', [RMSprop])\n",
    "    weight_decay = trial.suggest_float('weight_decay', 1e-5, 1e-2)\n",
    "    \n",
    "    data = dataset[0]\n",
    "    loader = DataLoader(dataset, batch_size=batch_size, shuffle=True)\n",
    "    \n",
    "    model = GCN(num_features=data.num_features, num_classes=dataset.num_classes, hidden_channels=hidden_channels, size_gcn=size_gcn,p_dropout=p_dropout)\n",
    "    optimizer = optimizer(model.parameters(), lr=lr, weight_decay=weight_decay,momentum=0.9) #for RMSprop\n",
    "\n",
    "    for epoch in range(1, epochs+1):\n",
    "        for data in loader:\n",
    "            criterion=nn.CrossEntropyLoss()\n",
    "            model.train()\n",
    "            optimizer.zero_grad()\n",
    "            out = model(data.x, data.edge_index)\n",
    "            loss = criterion(out[data.train_mask], data.y[data.train_mask])\n",
    "            loss.backward()\n",
    "            optimizer.step()\n",
    "\n",
    "            trial.report(loss, epoch)\n",
    "\n",
    "            if trial.should_prune():\n",
    "                raise optuna.exceptions.TrialPruned()\n",
    "\n",
    "    # Validate model\n",
    "    model.eval()\n",
    "    out = model(data.x, data.edge_index)  # Predicted probabilities\n",
    "    probas = torch.nn.functional.softmax(out, dim=1)  # Convert logits to probabilities\n",
    "    pred = probas.argmax(dim=1)\n",
    "\n",
    "    # Only consider validation data\n",
    "    true_labels = data.y[data.val_mask].numpy()\n",
    "    predicted_labels = pred[data.val_mask].numpy()\n",
    "\n",
    "    # AUC for each class\n",
    "    auc_list = []\n",
    "    for i in range(probas.size(1)):\n",
    "        try:\n",
    "            auc_list.append(roc_auc_score((true_labels == i).astype(int), probas[data.val_mask, i].detach().numpy()))\n",
    "        except ValueError:\n",
    "            pass   \n",
    "    avg_auc = sum(auc_list) / len(auc_list)\n",
    "\n",
    "    # Recall\n",
    "    recall = recall_score(true_labels, predicted_labels, average='macro')  # Using macro average\n",
    "\n",
    "    # Acuracy\n",
    "    correct = pred[data.val_mask].eq(data.y[data.val_mask]).sum().item()\n",
    "    acc = correct / data.val_mask.sum().item()\n",
    "    print(f'Validation Accuracy: {acc * 100:.2f}%')\n",
    "    \n",
    "    # F1 score\n",
    "    f1 = f1_score(true_labels, predicted_labels, average='macro')\n",
    "\n",
    "    #append the metrics to a csv file, and include the columns: avg_auc, recall, acc, f1\n",
    "    with open('GCN_CiteSeer_test_results03.csv', 'a') as f:\n",
    "        optimizer_name=optimizer.__class__.__name__\n",
    "        f.write(f'{batch_size}, {hidden_channels},{size_gcn}, {lr}, {weight_decay}, {epochs}, {p_dropout}, {optimizer_name},{avg_auc},{recall},{acc},{f1}\\n')\n",
    "    \n",
    "    return acc\n",
    "\n",
    "study = optuna.create_study(direction=\"maximize\", pruner=NopPruner())\n",
    "#study = optuna.create_study(direction=\"minimize\", pruner=SuccessiveHalvingPruner(min_resource=1, reduction_factor=4, min_early_stopping_rate=0))\n",
    "study.optimize(objective, n_trials=n_trails, timeout=600, n_jobs=n_jobs,show_progress_bar = True)\n",
    "print(study.best_trial)"
   ]
  },
  {
   "cell_type": "code",
   "execution_count": 34,
   "id": "8e97c98d-ffb5-43c3-9ba6-4682d87f124f",
   "metadata": {},
   "outputs": [
    {
     "name": "stdout",
     "output_type": "stream",
     "text": [
      "The file was deleted\n"
     ]
    }
   ],
   "source": [
    "# DELETE FILE that stores the HYPERPARAM'S\n",
    "# import os\n",
    "# if os.path.exists(\"GCN_CiteSeer_test_results03.csv\"):\n",
    "#     os.remove(\"GCN_CiteSeer_test_results03.csv\")\n",
    "#     print(\"The file was deleted\")\n",
    "# else:\n",
    "#   print(\"The file does not exist\")"
   ]
  },
  {
   "cell_type": "code",
   "execution_count": 3,
   "id": "09fd0afa-deda-4f5e-b6be-8cbb80af6f82",
   "metadata": {},
   "outputs": [
    {
     "data": {
      "text/html": [
       "<div>\n",
       "<style scoped>\n",
       "    .dataframe tbody tr th:only-of-type {\n",
       "        vertical-align: middle;\n",
       "    }\n",
       "\n",
       "    .dataframe tbody tr th {\n",
       "        vertical-align: top;\n",
       "    }\n",
       "\n",
       "    .dataframe thead th {\n",
       "        text-align: right;\n",
       "    }\n",
       "</style>\n",
       "<table border=\"1\" class=\"dataframe\">\n",
       "  <thead>\n",
       "    <tr style=\"text-align: right;\">\n",
       "      <th></th>\n",
       "      <th>batch_size</th>\n",
       "      <th>hidden_channels</th>\n",
       "      <th>size_gcn</th>\n",
       "      <th>lr</th>\n",
       "      <th>weight_decay</th>\n",
       "      <th>epochs</th>\n",
       "      <th>p_dropout</th>\n",
       "      <th>optimizer</th>\n",
       "      <th>avg_auc</th>\n",
       "      <th>recall</th>\n",
       "      <th>acc</th>\n",
       "      <th>f1</th>\n",
       "    </tr>\n",
       "  </thead>\n",
       "  <tbody>\n",
       "    <tr>\n",
       "      <th>88</th>\n",
       "      <td>120</td>\n",
       "      <td>64</td>\n",
       "      <td>0</td>\n",
       "      <td>0.004449</td>\n",
       "      <td>0.009284</td>\n",
       "      <td>50</td>\n",
       "      <td>0.176828</td>\n",
       "      <td>Adamax</td>\n",
       "      <td>0.904707</td>\n",
       "      <td>0.704434</td>\n",
       "      <td>0.730</td>\n",
       "      <td>0.694063</td>\n",
       "    </tr>\n",
       "    <tr>\n",
       "      <th>180</th>\n",
       "      <td>120</td>\n",
       "      <td>32</td>\n",
       "      <td>0</td>\n",
       "      <td>0.002597</td>\n",
       "      <td>0.008416</td>\n",
       "      <td>60</td>\n",
       "      <td>0.194096</td>\n",
       "      <td>Adam</td>\n",
       "      <td>0.909149</td>\n",
       "      <td>0.698397</td>\n",
       "      <td>0.728</td>\n",
       "      <td>0.689372</td>\n",
       "    </tr>\n",
       "    <tr>\n",
       "      <th>145</th>\n",
       "      <td>120</td>\n",
       "      <td>32</td>\n",
       "      <td>0</td>\n",
       "      <td>0.003660</td>\n",
       "      <td>0.008020</td>\n",
       "      <td>80</td>\n",
       "      <td>0.179816</td>\n",
       "      <td>Adam</td>\n",
       "      <td>0.906305</td>\n",
       "      <td>0.706665</td>\n",
       "      <td>0.728</td>\n",
       "      <td>0.694098</td>\n",
       "    </tr>\n",
       "    <tr>\n",
       "      <th>84</th>\n",
       "      <td>120</td>\n",
       "      <td>64</td>\n",
       "      <td>0</td>\n",
       "      <td>0.004046</td>\n",
       "      <td>0.009339</td>\n",
       "      <td>50</td>\n",
       "      <td>0.180739</td>\n",
       "      <td>Adamax</td>\n",
       "      <td>0.906752</td>\n",
       "      <td>0.700369</td>\n",
       "      <td>0.726</td>\n",
       "      <td>0.689962</td>\n",
       "    </tr>\n",
       "    <tr>\n",
       "      <th>89</th>\n",
       "      <td>120</td>\n",
       "      <td>64</td>\n",
       "      <td>0</td>\n",
       "      <td>0.003898</td>\n",
       "      <td>0.009188</td>\n",
       "      <td>80</td>\n",
       "      <td>0.139535</td>\n",
       "      <td>Adamax</td>\n",
       "      <td>0.903418</td>\n",
       "      <td>0.701932</td>\n",
       "      <td>0.726</td>\n",
       "      <td>0.690070</td>\n",
       "    </tr>\n",
       "    <tr>\n",
       "      <th>...</th>\n",
       "      <td>...</td>\n",
       "      <td>...</td>\n",
       "      <td>...</td>\n",
       "      <td>...</td>\n",
       "      <td>...</td>\n",
       "      <td>...</td>\n",
       "      <td>...</td>\n",
       "      <td>...</td>\n",
       "      <td>...</td>\n",
       "      <td>...</td>\n",
       "      <td>...</td>\n",
       "      <td>...</td>\n",
       "    </tr>\n",
       "    <tr>\n",
       "      <th>101</th>\n",
       "      <td>120</td>\n",
       "      <td>64</td>\n",
       "      <td>1</td>\n",
       "      <td>0.000035</td>\n",
       "      <td>0.006668</td>\n",
       "      <td>30</td>\n",
       "      <td>0.240098</td>\n",
       "      <td>Adam</td>\n",
       "      <td>0.637034</td>\n",
       "      <td>0.190290</td>\n",
       "      <td>0.138</td>\n",
       "      <td>0.080583</td>\n",
       "    </tr>\n",
       "    <tr>\n",
       "      <th>10</th>\n",
       "      <td>120</td>\n",
       "      <td>128</td>\n",
       "      <td>0</td>\n",
       "      <td>0.000011</td>\n",
       "      <td>0.009797</td>\n",
       "      <td>10</td>\n",
       "      <td>0.687056</td>\n",
       "      <td>Adamax</td>\n",
       "      <td>0.518882</td>\n",
       "      <td>0.142749</td>\n",
       "      <td>0.130</td>\n",
       "      <td>0.118940</td>\n",
       "    </tr>\n",
       "    <tr>\n",
       "      <th>2</th>\n",
       "      <td>120</td>\n",
       "      <td>32</td>\n",
       "      <td>1</td>\n",
       "      <td>0.000043</td>\n",
       "      <td>0.006905</td>\n",
       "      <td>90</td>\n",
       "      <td>0.430760</td>\n",
       "      <td>Adamax</td>\n",
       "      <td>0.603455</td>\n",
       "      <td>0.199596</td>\n",
       "      <td>0.120</td>\n",
       "      <td>0.113168</td>\n",
       "    </tr>\n",
       "    <tr>\n",
       "      <th>102</th>\n",
       "      <td>120</td>\n",
       "      <td>32</td>\n",
       "      <td>0</td>\n",
       "      <td>0.000020</td>\n",
       "      <td>0.005086</td>\n",
       "      <td>50</td>\n",
       "      <td>0.199488</td>\n",
       "      <td>Adam</td>\n",
       "      <td>0.549383</td>\n",
       "      <td>0.136182</td>\n",
       "      <td>0.108</td>\n",
       "      <td>0.102959</td>\n",
       "    </tr>\n",
       "    <tr>\n",
       "      <th>106</th>\n",
       "      <td>120</td>\n",
       "      <td>32</td>\n",
       "      <td>2</td>\n",
       "      <td>0.000016</td>\n",
       "      <td>0.008691</td>\n",
       "      <td>100</td>\n",
       "      <td>0.196183</td>\n",
       "      <td>Adam</td>\n",
       "      <td>0.546523</td>\n",
       "      <td>0.184165</td>\n",
       "      <td>0.090</td>\n",
       "      <td>0.070156</td>\n",
       "    </tr>\n",
       "  </tbody>\n",
       "</table>\n",
       "<p>300 rows × 12 columns</p>\n",
       "</div>"
      ],
      "text/plain": [
       "     batch_size  hidden_channels  size_gcn        lr  weight_decay  epochs  \\\n",
       "88          120               64         0  0.004449      0.009284      50   \n",
       "180         120               32         0  0.002597      0.008416      60   \n",
       "145         120               32         0  0.003660      0.008020      80   \n",
       "84          120               64         0  0.004046      0.009339      50   \n",
       "89          120               64         0  0.003898      0.009188      80   \n",
       "..          ...              ...       ...       ...           ...     ...   \n",
       "101         120               64         1  0.000035      0.006668      30   \n",
       "10          120              128         0  0.000011      0.009797      10   \n",
       "2           120               32         1  0.000043      0.006905      90   \n",
       "102         120               32         0  0.000020      0.005086      50   \n",
       "106         120               32         2  0.000016      0.008691     100   \n",
       "\n",
       "     p_dropout optimizer   avg_auc    recall    acc        f1  \n",
       "88    0.176828    Adamax  0.904707  0.704434  0.730  0.694063  \n",
       "180   0.194096      Adam  0.909149  0.698397  0.728  0.689372  \n",
       "145   0.179816      Adam  0.906305  0.706665  0.728  0.694098  \n",
       "84    0.180739    Adamax  0.906752  0.700369  0.726  0.689962  \n",
       "89    0.139535    Adamax  0.903418  0.701932  0.726  0.690070  \n",
       "..         ...       ...       ...       ...    ...       ...  \n",
       "101   0.240098      Adam  0.637034  0.190290  0.138  0.080583  \n",
       "10    0.687056    Adamax  0.518882  0.142749  0.130  0.118940  \n",
       "2     0.430760    Adamax  0.603455  0.199596  0.120  0.113168  \n",
       "102   0.199488      Adam  0.549383  0.136182  0.108  0.102959  \n",
       "106   0.196183      Adam  0.546523  0.184165  0.090  0.070156  \n",
       "\n",
       "[300 rows x 12 columns]"
      ]
     },
     "execution_count": 3,
     "metadata": {},
     "output_type": "execute_result"
    }
   ],
   "source": [
    "import pandas as pd\n",
    "results_df = pd.read_csv('GCN_CiteSeer_test_results03.csv', header=None)\n",
    "results_df.columns = ['batch_size', 'hidden_channels','size_gcn', 'lr', 'weight_decay', 'epochs', 'p_dropout', 'optimizer','avg_auc', 'recall', 'acc', 'f1']\n",
    "\n",
    "results_df.sort_values('acc', ascending=False)\n",
    "#results_df[results_df.optimizer.str.contains('RMSprop')].sort_values('acc', ascending=False).iloc[:5]"
   ]
  },
  {
   "cell_type": "code",
   "execution_count": 4,
   "id": "d9d901d4-9d88-4647-91e9-be0504b3b2e3",
   "metadata": {},
   "outputs": [],
   "source": [
    "# Get hyperparameters from dataframe\n",
    "slc_row=0\n",
    "batch_size=int(results_df.sort_values('acc', ascending=False).iloc[slc_row]['batch_size'])\n",
    "hidden_channels = int(results_df.sort_values('acc', ascending=False).iloc[slc_row]['hidden_channels'])\n",
    "#hidden_channels = 100 #apparently this has to be some big number?\n",
    "size_gcn = int(results_df.sort_values('acc', ascending=False).iloc[slc_row]['size_gcn'])\n",
    "lr = results_df.sort_values('acc', ascending=False).iloc[slc_row]['lr']\n",
    "weight_decay = results_df.sort_values('acc', ascending=False).iloc[slc_row]['weight_decay']\n",
    "epochs = results_df.sort_values('acc', ascending=False).iloc[slc_row]['epochs']\n",
    "p_dropout = results_df.sort_values('acc', ascending=False).iloc[slc_row]['p_dropout']"
   ]
  },
  {
   "cell_type": "code",
   "execution_count": 9,
   "id": "3d1d5a27-0a4a-4ac1-84e2-b3e50ba2e840",
   "metadata": {},
   "outputs": [],
   "source": [
    "# Get hyperparameters from dataframe - select specific OPTIMIZER\n",
    "slc_row=0\n",
    "optim='RMSprop'\n",
    "batch_size=int(results_df[results_df.optimizer.str.contains(optim)].sort_values('acc', ascending=False).iloc[slc_row]['batch_size'])\n",
    "hidden_channels = int(results_df[results_df.optimizer.str.contains(optim)].sort_values('acc', ascending=False).iloc[slc_row]['hidden_channels'])\n",
    "size_gcn = results_df[results_df.optimizer.str.contains(optim)].sort_values('acc', ascending=False).iloc[slc_row]['size_gcn']\n",
    "lr = results_df[results_df.optimizer.str.contains(optim)].sort_values('acc', ascending=False).iloc[slc_row]['lr']\n",
    "weight_decay = results_df[results_df.optimizer.str.contains(optim)].sort_values('acc', ascending=False).iloc[slc_row]['weight_decay']\n",
    "epochs = results_df[results_df.optimizer.str.contains(optim)].sort_values('acc', ascending=False).iloc[slc_row]['epochs']\n",
    "p_dropout = results_df[results_df.optimizer.str.contains(optim)].sort_values('acc', ascending=False).iloc[slc_row]['p_dropout']"
   ]
  },
  {
   "cell_type": "code",
   "execution_count": 12,
   "id": "7c3fe484-d063-4ff5-83fc-a9dd617107ab",
   "metadata": {},
   "outputs": [
    {
     "data": {
      "text/plain": [
       "0.6270563563966028"
      ]
     },
     "execution_count": 12,
     "metadata": {},
     "output_type": "execute_result"
    }
   ],
   "source": [
    "p_dropout"
   ]
  },
  {
   "cell_type": "code",
   "execution_count": 5,
   "id": "0a88bc1f-79e7-46f0-8def-371ce4344bdf",
   "metadata": {},
   "outputs": [],
   "source": [
    "def train(model,optimizer,data,epoch):\n",
    "    criterion=nn.CrossEntropyLoss()\n",
    "    model.train()\n",
    "    optimizer.zero_grad()\n",
    "    out = model(data.x, data.edge_index)\n",
    "    loss = criterion(out[data.train_mask], data.y[data.train_mask])\n",
    "    loss.backward()\n",
    "    optimizer.step()\n",
    "    #print(f'Epoch: {epoch}, Loss: {loss.item()}')\n",
    "\n",
    "def test(model, data):\n",
    "    model.eval()\n",
    "    out = model(data.x, data.edge_index)  # Predicted probabilities\n",
    "    probas = torch.nn.functional.softmax(out, dim=1)  # Convert logits to probabilities\n",
    "    pred = probas.argmax(dim=1)\n",
    "\n",
    "    # Test data\n",
    "    true_labels = data.y[data.test_mask].numpy()\n",
    "    predicted_labels = pred[data.test_mask].numpy()\n",
    "\n",
    "    # AUC for each class\n",
    "    auc_list = []\n",
    "    for i in range(probas.size(1)):\n",
    "        try:\n",
    "            auc_list.append(roc_auc_score((true_labels == i).astype(int), probas[data.test_mask, i].detach().numpy()))\n",
    "        except ValueError:\n",
    "            pass   \n",
    "    avg_auc = sum(auc_list) / len(auc_list)\n",
    "\n",
    "    # Recall\n",
    "    recall = recall_score(true_labels, predicted_labels, average='macro')  # Using macro average\n",
    "    #print(f'Test Recall: {recall:.4f}')\n",
    "\n",
    "    # Acuracy\n",
    "    correct = pred[data.test_mask].eq(data.y[data.test_mask]).sum().item()\n",
    "    acc = correct / data.test_mask.sum().item()\n",
    "    #print(f'Test Accuracy: {acc * 100:.2f}%')\n",
    "\n",
    "    # F1 score\n",
    "    f1 = f1_score(true_labels, predicted_labels, average='macro')\n",
    "    #print(f'Test F1 score: {f1:.4f}')\n",
    "\n",
    "    #append the metrics to a csv file, and include the columns: avg_auc, recall, acc, f1\n",
    "    with open('GCN_CiteSeer_best_model_metrics03.csv', 'a') as f:\n",
    "        f.write(f'{avg_auc},{recall},{acc},{f1}\\n')\n",
    "\n",
    "def test_GCN(dataset,batch_size,hidden_channels,size_gcn,p_dropout,lr,weight_decay,epochs,optimizer):\n",
    "\n",
    "    data = dataset[0]\n",
    "    loader = DataLoader(dataset, batch_size, shuffle=True)\n",
    "    # Initialize the model and optimizer\n",
    "    model = GCN(num_features=data.num_features, num_classes=dataset.num_classes, hidden_channels=hidden_channels, size_gcn=size_gcn,\n",
    "                p_dropout=p_dropout)\n",
    "    optimizer = optimizer(model.parameters(), lr=lr, weight_decay=weight_decay)#,momentum=0.9)\n",
    "    # Training loop\n",
    "    for epoch in range(1, epochs+1):\n",
    "        for data in loader:\n",
    "            train(model,optimizer,data,epoch)\n",
    "    \n",
    "    test(model,data)"
   ]
  },
  {
   "cell_type": "code",
   "execution_count": 65,
   "id": "ba111e0c-9015-4f1c-b46f-f96393046ac4",
   "metadata": {},
   "outputs": [
    {
     "name": "stdout",
     "output_type": "stream",
     "text": [
      "The file was deleted\n"
     ]
    }
   ],
   "source": [
    "# DELETE FILE that stores the METRICS\n",
    "import os\n",
    "if os.path.exists(\"GCN_CiteSeer_best_model_metrics03.csv\"):\n",
    "    os.remove(\"GCN_CiteSeer_best_model_metrics03.csv\")\n",
    "    print(\"The file was deleted\")\n",
    "else:\n",
    "  print(\"The file does not exist\")"
   ]
  },
  {
   "cell_type": "code",
   "execution_count": 66,
   "id": "a230ac76-3ad5-49ca-83b2-dc4a2c813b6c",
   "metadata": {},
   "outputs": [],
   "source": [
    "import time\n",
    "times=[]\n",
    "optimizer=Adam\n",
    "momentum = 0.9\n",
    "for i in range (0,10):\n",
    "    st = time.time()\n",
    "    test_GCN(dataset,batch_size,hidden_channels,size_gcn,p_dropout,lr,weight_decay,epochs,optimizer)\n",
    "    et = time.time()\n",
    "    elapsed_time = et - st\n",
    "    #print('Execution time:', elapsed_time, 'seconds')\n",
    "    times.append(elapsed_time)"
   ]
  },
  {
   "cell_type": "code",
   "execution_count": 67,
   "id": "13216b54-cb7d-4fc2-ba05-4dc23b4be6c8",
   "metadata": {},
   "outputs": [],
   "source": [
    "best_model_df = pd.read_csv('GCN_CiteSeer_best_model_metrics03.csv', header=None)\n",
    "best_model_df.columns = ['avg_auc', 'recall', 'acc', 'f1']\n",
    "best_model_df['train_and_test_time']=times\n",
    "avg_df=best_model_df[['avg_auc', 'recall', 'acc', 'f1','train_and_test_time']].mean()"
   ]
  },
  {
   "cell_type": "code",
   "execution_count": 68,
   "id": "bb3ca86e-312d-4abf-86c9-872a11a841cf",
   "metadata": {},
   "outputs": [
    {
     "data": {
      "text/plain": [
       "avg_auc                0.905388\n",
       "recall                 0.685293\n",
       "acc                    0.707900\n",
       "f1                     0.679867\n",
       "train_and_test_time    2.316573\n",
       "dtype: float64"
      ]
     },
     "execution_count": 68,
     "metadata": {},
     "output_type": "execute_result"
    }
   ],
   "source": [
    "avg_df"
   ]
  },
  {
   "cell_type": "code",
   "execution_count": 69,
   "id": "72ca5551-0f4a-493c-973d-2f36f7510ab1",
   "metadata": {},
   "outputs": [
    {
     "data": {
      "text/plain": [
       "0.0040124805295477795"
      ]
     },
     "execution_count": 69,
     "metadata": {},
     "output_type": "execute_result"
    }
   ],
   "source": [
    "best_model_df['acc'].std()"
   ]
  },
  {
   "cell_type": "code",
   "execution_count": 6,
   "id": "9385da54-45b1-4735-8395-9f8307260c66",
   "metadata": {},
   "outputs": [],
   "source": [
    "from torch.optim import SGD, RMSprop, Adagrad, Adadelta, Adam, Adamax, NAdam\n",
    "\n",
    "gcn = GCN(data.num_features, dataset.num_classes, hidden_channels,size_gcn,p_dropout)\n",
    "\n",
    "optimizer=Adamax\n",
    "\n",
    "data = dataset[0]\n",
    "loader = DataLoader(dataset, batch_size, shuffle=True)\n",
    "# Initialize the model and optimizer\n",
    "optimizer = optimizer(gcn.parameters(), lr=lr, weight_decay=weight_decay) #,momentum=0.9) #for RMSprop)\n",
    "# Training loop\n",
    "\n",
    "for epoch in range(1, epochs+1):\n",
    "    for data in loader:\n",
    "        train(gcn,optimizer,data,epoch)"
   ]
  },
  {
   "cell_type": "code",
   "execution_count": 8,
   "id": "129a6a20-d605-4b0d-97f3-7b1cefc725e6",
   "metadata": {},
   "outputs": [
    {
     "data": {
      "image/png": "[encoded data removed]",
      "text/plain": [
       "<Figure size 1200x500 with 1 Axes>"
      ]
     },
     "metadata": {},
     "output_type": "display_data"
    }
   ],
   "source": [
    "import numpy as np\n",
    "import matplotlib.pyplot as plt\n",
    "from torch_geometric.utils import degree\n",
    "from collections import Counter\n",
    "\n",
    "def accuracy(y_pred, y_true):\n",
    "    \"\"\"Calculate accuracy.\"\"\"\n",
    "    return (sum(y_pred == y_true) / len(y_true))*100\n",
    "\n",
    "# Get model's classifications\n",
    "out = gcn(data.x, data.edge_index)\n",
    "\n",
    "# Calculate the degree of each node\n",
    "degrees = degree(data.edge_index[0]).numpy()\n",
    "# Select degrees of nodes in test set\n",
    "degrees=degrees[data.test_mask.numpy()]\n",
    "\n",
    "# Store accuracy scores and sample sizes\n",
    "accuracies = []\n",
    "sizes = []\n",
    "\n",
    "probas = torch.nn.functional.softmax(out, dim=1)  # Convert logits to probabilities\n",
    "pred = probas.argmax(dim=1)\n",
    "\n",
    "# Test data\n",
    "true_labels = data.y[data.test_mask].cpu().numpy()\n",
    "predicted_labels = pred[data.test_mask].cpu().numpy()\n",
    "\n",
    "# Accuracy for degrees between 0 and 5\n",
    "for i in range(0, 10):\n",
    "    mask = np.where(degrees == i)[0]\n",
    "    accuracies.append(accuracy(predicted_labels[mask], true_labels[mask]))\n",
    "    sizes.append(len(mask))\n",
    "\n",
    "# Accuracy for degrees > 10\n",
    "mask = np.where(degrees > 10)[0]\n",
    "accuracies.append(accuracy(out.argmax(dim=1)[mask], data.y[mask]))\n",
    "sizes.append(len(mask))\n",
    "\n",
    "# Bar plot\n",
    "fig, ax = plt.subplots(figsize=(12,5))\n",
    "ax.set_xlabel('Node degree')\n",
    "ax.set_ylabel('Accuracy')\n",
    "plt.bar(['0','1','2','3','4','5','6','7','8','9','10+'], accuracies, width=0.2, color='black', edgecolor='black')\n",
    "for i in range(0, 11):\n",
    "    plt.text(i, accuracies[i], f'{accuracies[i]:.2f}%', ha='center', color='black')\n",
    "for i in range(0, 11):\n",
    "    plt.text(i, accuracies[i]//2, sizes[i], ha='center', color='white')\n",
    "\n",
    "plt.title('Accuracy of GCN Model with Adamax Optimizer on CiteSeer Test Set by Node Degree')\n",
    "plt.tight_layout()\n",
    "plt.savefig('GCN_CiteSeer_Adamax_Accuracy_by_Degree.png')\n",
    "\n",
    "plt.show()"
   ]
  },
  {
   "cell_type": "code",
   "execution_count": null,
   "id": "641db208-75a2-48f4-8882-1adbf1c8ef94",
   "metadata": {},
   "outputs": [],
   "source": []
  }
 ],
 "metadata": {
  "kernelspec": {
   "display_name": "Python 3 (ipykernel)",
   "language": "python",
   "name": "python3"
  },
  "language_info": {
   "codemirror_mode": {
    "name": "ipython",
    "version": 3
   },
   "file_extension": ".py",
   "mimetype": "text/x-python",
   "name": "python",
   "nbconvert_exporter": "python",
   "pygments_lexer": "ipython3",
   "version": "3.10.12"
  }
 },
 "nbformat": 4,
 "nbformat_minor": 5
}
